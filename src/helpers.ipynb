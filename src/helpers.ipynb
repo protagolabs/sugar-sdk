{
 "cells": [
  {
   "cell_type": "markdown",
   "metadata": {},
   "source": [
    "# Assorted helpers"
   ]
  },
  {
   "cell_type": "code",
   "execution_count": null,
   "metadata": {},
   "outputs": [],
   "source": [
    "#| default_exp helpers"
   ]
  },
  {
   "cell_type": "code",
   "execution_count": null,
   "metadata": {},
   "outputs": [],
   "source": [
    "#| export\n",
    "\n",
    "from web3 import Web3, constants\n",
    "from typing import List\n"
   ]
  },
  {
   "cell_type": "code",
   "execution_count": null,
   "metadata": {},
   "outputs": [],
   "source": [
    "#| export\n",
    "\n",
    "def normalize_address(address: str) -> str: return Web3.to_checksum_address(address.lower())\n",
    "\n",
    "ADDRESS_ZERO = constants.ADDRESS_ZERO\n",
    "\n",
    "# def is_address(value: str) -> bool:\n",
    "#     return Web3.is_address(value)\n",
    "\n",
    "\n",
    "# def cache_in_seconds(seconds: int):\n",
    "#     return alru_cache(ttl=seconds)\n",
    "\n",
    "def chunk(list_to_chunk: List, n: int):\n",
    "    for i in range(0, len(list_to_chunk), n):\n",
    "        yield list_to_chunk[i : i + n]\n",
    "\n",
    "\n",
    "def amount_to_k_string(amount: float) -> str:\n",
    "    \"\"\"Turns 2000 to \"2K\" \"\"\"\n",
    "    return f\"{round(amount/1000, 2)}K\"\n",
    "\n",
    "\n",
    "def format_currency(value: float, symbol: str = \"$\", prefix: bool = True) -> str:\n",
    "    v = \"{:0,.2f}\".format(value)\n",
    "    return f\"{symbol}{v}\" if prefix else f\"{v} {symbol}\"\n",
    "\n",
    "\n",
    "def format_percentage(value: float) -> str:\n",
    "    return \"{:0,.2f} %\".format(value)\n",
    "\n",
    "\n",
    "def amount_to_m_string(amount: float) -> str:\n",
    "    \"\"\"Turns 2000000 to \"2M\" \"\"\"\n",
    "    return f\"{round(amount/1000000, 2)}M\""
   ]
  },
  {
   "cell_type": "code",
   "execution_count": null,
   "metadata": {},
   "outputs": [],
   "source": [
    "#| hide\n",
    "import nbdev; nbdev.nbdev_export()"
   ]
  }
 ],
 "metadata": {
  "kernelspec": {
   "display_name": "python3",
   "language": "python",
   "name": "python3"
  }
 },
 "nbformat": 4,
 "nbformat_minor": 2
}
