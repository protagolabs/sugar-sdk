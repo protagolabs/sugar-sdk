{
 "cells": [
  {
   "cell_type": "markdown",
   "metadata": {},
   "source": [
    "# Sugar SDK\n",
    "\n",
    "> Python SDK for sugar. Hope you like sweets cause this stuff is 🍭"
   ]
  },
  {
   "cell_type": "markdown",
   "metadata": {},
   "source": [
    "## Using Sugar\n",
    "\n",
    "```bash\n",
    "pip install sugar\n",
    "```\n",
    "\n",
    "**TODO**: push to pypi\n",
    "\n",
    "\n",
    "### Configuration\n",
    "\n",
    "Sugar configuration is available through `sugar.config` module. Here's what default config looks like"
   ]
  },
  {
   "cell_type": "code",
   "execution_count": null,
   "metadata": {},
   "outputs": [
    {
     "data": {
      "text/plain": [
       "🍭 Sugar Config:\n",
       "----------------\n",
       "connector_tokens_addrs: ['0x9560e827aF36c94D2Ac33a39bCE1Fe78631088Db', '0x4200000000000000000000000000000000000042', '0x4200000000000000000000000000000000000006', '0x8c6f28f2F1A3C87F0f938b96d27520d9751ec8d9', '0x1F32b1c2345538c0c6f582fCB022739c4A194Ebb', '0xbfD291DA8A403DAAF7e5E9DC1ec0aCEaCd4848B9', '0xc3864f98f2a61A7cAeb95b039D031b4E2f55e0e9', '0x9485aca5bbBE1667AD97c7fE7C4531a624C8b1ED', '0xDA10009cBd5D07dd0CeCc66161FC93D7c9000da1']\n",
       "pagination_limit: 2000\n",
       "price_batch_size: 40\n",
       "price_oracle_contract_addr: 0xcA97e5653d775cA689BED5D0B4164b7656677011\n",
       "protocol_name: velo\n",
       "rpc_uri: https://optimism-mainnet.wallet.coinbase.com\n",
       "stable_token_addr: 0x7F5c764cBc14f9669B88837ca1490cCa17c31607\n",
       "sugar_contract_addr: 0x3B919747B46B13CFfd9f16629cFf951C0b7ea1e2\n",
       "token_addr: 0x9560e827aF36c94D2Ac33a39bCE1Fe78631088Db"
      ]
     },
     "execution_count": null,
     "metadata": {},
     "output_type": "execute_result"
    }
   ],
   "source": [
    "from sugar.config import  SugarConfig\n",
    "\n",
    "SugarConfig.get_config()"
   ]
  },
  {
   "cell_type": "markdown",
   "metadata": {},
   "source": [
    "Sugar can be configured using env variables:\n",
    "\n",
    "|config|env|default value|\n",
    "|-|-|-|\n",
    "|rpc_uri|`SUGAR_RPC_URI`|https://optimism-mainnet.wallet.coinbase.com|\n",
    "|sugar_contract_addr|`SUGAR_CONTRACT_ADDR`|0x3B919747B46B13CFfd9f16629cFf951C0b7ea1e2|\n",
    "|token_addr|`SUGAR_TOKEN_ADDR`|0x9560e827aF36c94D2Ac33a39bCE1Fe78631088Db|\n",
    "|price_batch_size|`SUGAR_PRICE_BATCH_SIZE`|40|\n",
    "|protocol_name|`SUGAR_PROTOCOL_NAME`|velo|\n",
    "|pagination_limit|`SUGAR_PAGINATION_LIMIT`|2000|"
   ]
  },
  {
   "cell_type": "markdown",
   "metadata": {},
   "source": [
    "### Listing tokens\n",
    "\n",
    "You can list all tokens using Token API"
   ]
  },
  {
   "cell_type": "code",
   "execution_count": null,
   "metadata": {},
   "outputs": [
    {
     "data": {
      "text/plain": [
       "[Token(token_address='0x46f21fDa29F1339e0aB543763FF683D399e393eC', symbol='opxveVELO', decimals=18, listed=False),\n",
       " Token(token_address='0x9560e827aF36c94D2Ac33a39bCE1Fe78631088Db', symbol='VELO', decimals=18, listed=True),\n",
       " Token(token_address='0x3417E54A51924C225330f8770514aD5560B9098D', symbol='RED', decimals=18, listed=True),\n",
       " Token(token_address='0x7F5c764cBc14f9669B88837ca1490cCa17c31607', symbol='USDC', decimals=6, listed=True),\n",
       " Token(token_address='0x7aE97042a4A0eB4D1eB370C34BfEC71042a056B7', symbol='UNLOCK', decimals=18, listed=False)]"
      ]
     },
     "execution_count": null,
     "metadata": {},
     "output_type": "execute_result"
    }
   ],
   "source": [
    "from sugar.token import Token\n",
    "\n",
    "# listing first 5 tokens for brevity\n",
    "(await Token.get_all_tokens())[:5]"
   ]
  },
  {
   "cell_type": "markdown",
   "metadata": {},
   "source": [
    "### Pricing tokens\n",
    "\n",
    "You can get prices of tokens using Price API"
   ]
  },
  {
   "cell_type": "code",
   "execution_count": null,
   "metadata": {},
   "outputs": [
    {
     "data": {
      "text/plain": [
       "[Price(token=Token(token_address='0x9560e827aF36c94D2Ac33a39bCE1Fe78631088Db', symbol='VELO', decimals=18, listed=True), price=0.0975855465743476)]"
      ]
     },
     "execution_count": null,
     "metadata": {},
     "output_type": "execute_result"
    }
   ],
   "source": [
    "from sugar.token import Token\n",
    "from sugar.price import Price\n",
    "\n",
    "# let's grab velo token and figure out what it's worth\n",
    "velo = [t for t in await Token.get_all_listed_tokens() if t.symbol == 'VELO']\n",
    "await Price.get_prices(velo)"
   ]
  },
  {
   "cell_type": "markdown",
   "metadata": {},
   "source": [
    "## Contributing to Sugar\n",
    "\n",
    "### Set up and acivate python virtual env\n",
    "\n",
    "```bash\n",
    "python3 -m venv env\n",
    "source env/bin/activate\n",
    "```\n",
    "\n",
    "### Install dependencies \n",
    "\n",
    "```bash\n",
    "pip install nbdev pre-commit\n",
    "pip install -e '.[dev]'\n",
    "```\n",
    "\n",
    "### Install pre-commit hooks for nbdev prep and cleanup\n",
    "\n",
    "```bash\n",
    "pre-commit install\n",
    "```"
   ]
  }
 ],
 "metadata": {
  "kernelspec": {
   "display_name": "python3",
   "language": "python",
   "name": "python3"
  }
 },
 "nbformat": 4,
 "nbformat_minor": 4
}
