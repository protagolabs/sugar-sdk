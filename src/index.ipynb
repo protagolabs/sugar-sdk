{
 "cells": [
  {
   "cell_type": "markdown",
   "metadata": {},
   "source": [
    "# Sugar SDK\n",
    "\n",
    "> Python SDK for sugar"
   ]
  },
  {
   "cell_type": "markdown",
   "metadata": {},
   "source": [
    "## Getting started\n",
    "\n",
    "### Set up and acivate python virtual env\n",
    "\n",
    "```bash\n",
    "python3 -m venv env\n",
    "source env/bin/activate\n",
    "```\n",
    "\n",
    "### Install dependencies \n",
    "\n",
    "```bash\n",
    "pip install nbdev pre-commit\n",
    "pip install -e '.[dev]'\n",
    "```\n",
    "\n",
    "### Install pre-commit hooks for nbdev prep and cleanup\n",
    "\n",
    "```bash\n",
    "pre-commit install\n",
    "```"
   ]
  }
 ],
 "metadata": {
  "kernelspec": {
   "display_name": "python3",
   "language": "python",
   "name": "python3"
  }
 },
 "nbformat": 4,
 "nbformat_minor": 4
}
