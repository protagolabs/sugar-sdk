{
 "cells": [
  {
   "cell_type": "markdown",
   "metadata": {},
   "source": [
    "# Sugar SDK\n",
    "\n",
    "> Python SDK for sugar. Hope you like sweets cause this stuff is 🍭"
   ]
  },
  {
   "cell_type": "markdown",
   "metadata": {},
   "source": [
    "## Using Sugar\n",
    "\n",
    "```bash\n",
    "pip install git+https://github.com/velodrome-finance/sugar-sdk\n",
    "```\n",
    "\n",
    "**TODO**: push to pypi"
   ]
  },
  {
   "cell_type": "code",
   "execution_count": null,
   "metadata": {},
   "outputs": [
    {
     "data": {
      "text/plain": [
       "True"
      ]
     },
     "execution_count": null,
     "metadata": {},
     "output_type": "execute_result"
    }
   ],
   "source": [
    "# load env\n",
    "from dotenv import load_dotenv\n",
    "load_dotenv()"
   ]
  },
  {
   "cell_type": "markdown",
   "metadata": {},
   "source": [
    "## Base quickstart"
   ]
  },
  {
   "cell_type": "code",
   "execution_count": null,
   "metadata": {},
   "outputs": [
    {
     "name": "stdout",
     "output_type": "stream",
     "text": [
      "[Price(token=Token(token_address='0x940181a94A35A4569E4529A3CDfB74e38FD98631', symbol='AERO', decimals=18, listed=True), price=0.826269)]\n"
     ]
    }
   ],
   "source": [
    "from sugar.chains import BaseChain\n",
    "\n",
    "async with BaseChain() as chain:\n",
    "    aero = [t for t in await chain.get_all_tokens() if t.symbol == 'AERO']\n",
    "    print(await chain.get_prices(aero))"
   ]
  },
  {
   "cell_type": "markdown",
   "metadata": {},
   "source": [
    "# Velo quickstart"
   ]
  },
  {
   "cell_type": "code",
   "execution_count": null,
   "metadata": {},
   "outputs": [
    {
     "name": "stdout",
     "output_type": "stream",
     "text": [
      "[Price(token=Token(token_address='0x9560e827aF36c94D2Ac33a39bCE1Fe78631088Db', symbol='VELO', decimals=18, listed=True), price=0.074881)]\n"
     ]
    }
   ],
   "source": [
    "from sugar.chains import OPChain\n",
    "\n",
    "async with OPChain() as chain:\n",
    "    velo = [t for t in await chain.get_all_tokens() if t.symbol == 'VELO']\n",
    "    print(await chain.get_prices(velo))"
   ]
  },
  {
   "cell_type": "markdown",
   "metadata": {},
   "source": [
    "## Deposits\n",
    "\n",
    "In order to deposit, make sure spender's account's private key is provided via `SUGAR_PK` env var. Here's how you can deposit [vAMM-USDC/AERO](https://aerodrome.finance/deposit?token0=0x833589fCD6eDb6E08f4c7C32D4f71b54bdA02913&token1=0x940181a94A35A4569E4529A3CDfB74e38FD98631&type=-1)\n",
    "\n",
    "```python\n",
    "\n",
    "from sugar.chains import BaseChain\n",
    "from sugar.deposit import Deposit\n",
    "\n",
    "async with BaseChain() as chain:\n",
    "    pools = await chain.get_pools()\n",
    "    pools = list(filter(lambda x: \"vAMM-USDC\" in x.symbol and \"AERO\" in x.symbol, pools))\n",
    "    # 0.02 USDC \n",
    "    await chain.deposit(Deposit(pools[0], 0.02))\n",
    "\n",
    "```\n",
    "\n",
    "Here's how to deposit to a pool on Velodrome - [vAMM-USDC/VELO](https://velodrome.finance/deposit?token0=0x0b2C639c533813f4Aa9D7837CAf62653d097Ff85&token1=0x9560e827aF36c94D2Ac33a39bCE1Fe78631088Db&type=-1&chain=10&)\n",
    "\n",
    "```python\n",
    "\n",
    "from sugar.deposit import Deposit\n",
    "from sugar.config import SugarConfig\n",
    "from sugar.pool import LiquidityPool\n",
    "\n",
    "SugarConfig.velo()\n",
    "\n",
    "# factory=0xF1046053aa5682b4F9a81b5481394DA16BE5FF5a\n",
    "pools = list(filter(lambda x: \"VELO\" in x.symbol and x.token0 is not None and x.token0.token_address == \"0x0b2C639c533813f4Aa9D7837CAf62653d097Ff85\", await LiquidityPool.get_pools()))\n",
    "\n",
    "# 0.02 USDC \n",
    "deposit = Deposit(pools[0], 0.02)\n",
    "await deposit.deposit()\n",
    "```"
   ]
  },
  {
   "cell_type": "markdown",
   "metadata": {},
   "source": [
    "### Configuration\n",
    "\n",
    "Sugar configuration is available through `sugar.config` module. Here's what default config looks like"
   ]
  },
  {
   "cell_type": "code",
   "execution_count": null,
   "metadata": {},
   "outputs": [
    {
     "ename": "ImportError",
     "evalue": "cannot import name 'SugarConfig' from 'sugar.config' (/Users/philip/projects/sugar-sdk/sugar/config.py)",
     "output_type": "error",
     "traceback": [
      "\u001b[0;31m---------------------------------------------------------------------------\u001b[0m",
      "\u001b[0;31mImportError\u001b[0m                               Traceback (most recent call last)",
      "Cell \u001b[0;32mIn[4], line 1\u001b[0m\n\u001b[0;32m----> 1\u001b[0m \u001b[38;5;28;01mfrom\u001b[39;00m\u001b[38;5;250m \u001b[39m\u001b[38;5;21;01msugar\u001b[39;00m\u001b[38;5;21;01m.\u001b[39;00m\u001b[38;5;21;01mconfig\u001b[39;00m\u001b[38;5;250m \u001b[39m\u001b[38;5;28;01mimport\u001b[39;00m  SugarConfig\n\u001b[1;32m      3\u001b[0m SugarConfig\u001b[38;5;241m.\u001b[39mget_config()\n",
      "\u001b[0;31mImportError\u001b[0m: cannot import name 'SugarConfig' from 'sugar.config' (/Users/philip/projects/sugar-sdk/sugar/config.py)"
     ]
    }
   ],
   "source": [
    "from sugar.config import  SugarConfig\n",
    "\n",
    "SugarConfig.get_config()"
   ]
  },
  {
   "cell_type": "markdown",
   "metadata": {},
   "source": [
    "Sugar can be configured using env variables:\n",
    "\n",
    "|config|env|default value|\n",
    "|-|-|-|\n",
    "|rpc_uri|`SUGAR_RPC_URI`|https://optimism-mainnet.wallet.coinbase.com|\n",
    "|sugar_contract_addr|`SUGAR_CONTRACT_ADDR`|0x3B919747B46B13CFfd9f16629cFf951C0b7ea1e2|\n",
    "|price_oracle_contract_addr|`SUGAR_PRICE_ORACLE_ADDR`|0xcA97e5653d775cA689BED5D0B4164b7656677011|\n",
    "|token_addr|`SUGAR_TOKEN_ADDR`|0x9560e827aF36c94D2Ac33a39bCE1Fe78631088Db|\n",
    "|stable_token_addr|`SUGAR_STABLE_TOKEN_ADDR`|0x7F5c764cBc14f9669B88837ca1490cCa17c31607|\n",
    "|connector_tokens_addrs|`SUGAR_CONNECTOR_TOKENS_ADDRS`|0x9560e827aF36c94D2Ac33a39bCE1Fe78631088Db,0x4200000000000000000000000000000000000042,0x4200000000000000000000000000000000000006,0x9bcef72be871e61ed4fbbc7630889bee758eb81d,0x2e3d870790dc77a83dd1d18184acc7439a53f475,0x8c6f28f2f1a3c87f0f938b96d27520d9751ec8d9,0x1f32b1c2345538c0c6f582fcb022739c4a194ebb,0xbfd291da8a403daaf7e5e9dc1ec0aceacd4848b9,0xc3864f98f2a61a7caeb95b039d031b4e2f55e0e9,0x9485aca5bbbe1667ad97c7fe7c4531a624c8b1ed,0xDA10009cBd5D07dd0CeCc66161FC93D7c9000da1,0x73cb180bf0521828d8849bc8cf2b920918e23032,0x6806411765af15bddd26f8f544a34cc40cb9838b,0x6c2f7b6110a37b3b0fbdd811876be368df02e8b0,0xc5b001dc33727f8f26880b184090d3e252470d45,0x6c84a8f1c29108f47a79964b5fe888d4f4d0de40,0xc40f949f8a4e094d1b49a23ea9241d289b7b2819,0x94b008aa00579c1307b0ef2c499ad98a8ce58e58,0x0b2c639c533813f4aa9d7837caf62653d097ff85|\n",
    "|price_batch_size|`SUGAR_PRICE_BATCH_SIZE`|40|\n",
    "|protocol_name|`SUGAR_PROTOCOL_NAME`|velo|\n",
    "|pagination_limit|`SUGAR_PAGINATION_LIMIT`|2000|"
   ]
  },
  {
   "cell_type": "markdown",
   "metadata": {},
   "source": [
    "## Contributing to Sugar\n",
    "\n",
    "### Set up and acivate python virtual env\n",
    "\n",
    "```bash\n",
    "python3 -m venv env\n",
    "source env/bin/activate\n",
    "```\n",
    "\n",
    "### Install dependencies \n",
    "\n",
    "```bash\n",
    "pip install nbdev pre-commit\n",
    "pip install -e '.[dev]'\n",
    "```\n",
    "\n",
    "### Install pre-commit hooks for nbdev prep and cleanup\n",
    "\n",
    "```bash\n",
    "pre-commit install\n",
    "```"
   ]
  }
 ],
 "metadata": {
  "kernelspec": {
   "display_name": "python3",
   "language": "python",
   "name": "python3"
  }
 },
 "nbformat": 4,
 "nbformat_minor": 4
}
