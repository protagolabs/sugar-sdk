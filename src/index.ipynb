{
 "cells": [
  {
   "cell_type": "markdown",
   "metadata": {},
   "source": [
    "# Sugar SDK\n",
    "\n",
    "> Python SDK for sugar. Hope you like sweets cause this stuff is 🍭"
   ]
  },
  {
   "cell_type": "markdown",
   "metadata": {},
   "source": [
    "## Using Sugar\n",
    "\n",
    "```bash\n",
    "pip install git+https://github.com/velodrome-finance/sugar-sdk\n",
    "```\n",
    "\n",
    "**TODO**: push to pypi"
   ]
  },
  {
   "cell_type": "code",
   "execution_count": null,
   "metadata": {},
   "outputs": [
    {
     "data": {
      "text/plain": [
       "True"
      ]
     },
     "execution_count": null,
     "metadata": {},
     "output_type": "execute_result"
    }
   ],
   "source": [
    "# load env\n",
    "from dotenv import load_dotenv\n",
    "load_dotenv()"
   ]
  },
  {
   "cell_type": "markdown",
   "metadata": {},
   "source": [
    "## Base quickstart"
   ]
  },
  {
   "cell_type": "code",
   "execution_count": null,
   "metadata": {},
   "outputs": [
    {
     "name": "stdout",
     "output_type": "stream",
     "text": [
      "[Price(token=Token(token_address='0x940181a94A35A4569E4529A3CDfB74e38FD98631', symbol='AERO', decimals=18, listed=True, wrapped_token_address=None), price=0.810533)]\n"
     ]
    }
   ],
   "source": [
    "from sugar.chains import BaseChain\n",
    "\n",
    "async with BaseChain() as chain:\n",
    "    aero = [t for t in await chain.get_all_tokens() if t.symbol == 'AERO']\n",
    "    print(await chain.get_prices(aero))"
   ]
  },
  {
   "cell_type": "markdown",
   "metadata": {},
   "source": [
    "## OP quickstart"
   ]
  },
  {
   "cell_type": "markdown",
   "metadata": {},
   "source": [
    "## Deposits\n",
    "\n",
    "In order to deposit, make sure spender's account's private key is provided via `SUGAR_PK` env var. Here's how you can deposit [vAMM-USDC/AERO](https://aerodrome.finance/deposit?token0=0x833589fCD6eDb6E08f4c7C32D4f71b54bdA02913&token1=0x940181a94A35A4569E4529A3CDfB74e38FD98631&type=-1)\n",
    "\n",
    "```python\n",
    "from sugar.chains import BaseChain\n",
    "from sugar.deposit import Deposit\n",
    "\n",
    "async with BaseChain() as chain:\n",
    "    pools = await chain.get_pools()\n",
    "    pools = list(filter(lambda x: \"vAMM-USDC\" in x.symbol and \"AERO\" in x.symbol, pools))\n",
    "    # 0.02 USDC \n",
    "    await chain.deposit(Deposit(pools[0], 0.02))\n",
    "\n",
    "```"
   ]
  },
  {
   "cell_type": "markdown",
   "metadata": {},
   "source": [
    "## Configuration"
   ]
  },
  {
   "cell_type": "markdown",
   "metadata": {},
   "source": [
    "Full list of configuration parameters for Sugar. Chain IDs can be found [here](https://chainlist.org/). Sugar uses decimal versions: Base is `8453`, OP is `10`.\n",
    "\n",
    "|config|env|default value|\n",
    "|-|-|-|\n",
    "|native_token_symbol||ETH|\n",
    "|native_token_decimals||18|\n",
    "|wrapped_native_token_addr|`SUGAR_WRAPPED_NATIVE_TOKEN_ADDR_<CHAIN_ID>`|chain specific|\n",
    "|rpc_uri|`SUGAR_RPC_URI_<CHAIN_ID>`|chain specific|\n",
    "|sugar_contract_addr|`SUGAR_CONTRACT_ADDR_<CHAIN_ID>`|chain specific|\n",
    "|slipstream_contract_addr|`SUGAR_SLIPSTREAM_CONTRACT_ADDR_<CHAIN_ID>`|chain specific|\n",
    "|nfpm_contract_addr|`SUGAR_NFPM_CONTRACT_ADDR`|chain specific|\n",
    "|price_oracle_contract_addr|`SUGAR_PRICE_ORACLE_ADDR_<CHAIN_ID>`|chain specific|\n",
    "|router_contract_addr|`SUGAR_ROUTER_CONTRACT_ADDR_<CHAIN_ID>`|chain specific|\n",
    "|token_addr|`SUGAR_TOKEN_ADDR_<CHAIN_ID>`|chain specific|\n",
    "|stable_token_addr|`SUGAR_STABLE_TOKEN_ADDR_<CHAIN_ID>`|chain specific|\n",
    "|connector_tokens_addrs|`SUGAR_CONNECTOR_TOKENS_ADDRS_<CHAIN_ID>`|chain specific|\n",
    "|price_batch_size|`SUGAR_PRICE_BATCH_SIZE`|40|\n",
    "|price_threshold_filter|`SUGAR_PRICE_THRESHOLD_FILTER`|10|\n",
    "|pool_page_size|`SUGAR_POOL_PAGE_SIZE`|500|\n",
    "|pagination_limit|`SUGAR_PAGINATION_LIMIT`|2000|\n",
    "\n",
    "In order to write to Sugar contracts, you need to set your wallet private key using env var `SUGAR_PK`\n",
    "\n",
    "You can override specific settings in 2 ways:\n",
    "\n",
    "- by setting corresponding env var: `SUGAR_RPC_URI_10=https://myrpc.com`\n",
    "- in code:\n",
    "\n",
    "```python\n",
    "from sugar.chains import OPChain\n",
    "\n",
    "async with OPChain(rpc_uri=\"https://myrpc.com\") as chain:\n",
    "    ...\n",
    "```\n"
   ]
  },
  {
   "cell_type": "markdown",
   "metadata": {},
   "source": [
    "## Contributing to Sugar\n",
    "\n",
    "### Set up and acivate python virtual env\n",
    "\n",
    "```bash\n",
    "python3 -m venv env\n",
    "source env/bin/activate\n",
    "```\n",
    "\n",
    "### Install dependencies \n",
    "\n",
    "```bash\n",
    "pip install nbdev pre-commit\n",
    "pip install -e '.[dev]'\n",
    "```\n",
    "\n",
    "### Install pre-commit hooks for nbdev prep and cleanup\n",
    "\n",
    "```bash\n",
    "pre-commit install\n",
    "```"
   ]
  }
 ],
 "metadata": {
  "kernelspec": {
   "display_name": "python3",
   "language": "python",
   "name": "python3"
  }
 },
 "nbformat": 4,
 "nbformat_minor": 4
}
