{
 "cells": [
  {
   "cell_type": "markdown",
   "metadata": {},
   "source": [
    "# ⛓ Chain "
   ]
  },
  {
   "cell_type": "code",
   "execution_count": null,
   "metadata": {},
   "outputs": [],
   "source": [
    "#| default_exp chains"
   ]
  },
  {
   "cell_type": "code",
   "execution_count": null,
   "metadata": {},
   "outputs": [],
   "source": [
    "#| hide\n",
    "from nbdev.showdoc import *"
   ]
  },
  {
   "cell_type": "code",
   "execution_count": null,
   "metadata": {},
   "outputs": [],
   "source": [
    "#| export\n",
    "\n",
    "import asyncio, web3, os\n",
    "from functools import wraps, reduce\n",
    "from typing import List, TypeVar, Callable, Optional, Tuple, Dict\n",
    "from fastcore.utils import patch\n",
    "from web3 import AsyncWeb3, AsyncHTTPProvider, Account\n",
    "from web3.eth.async_eth import AsyncContract\n",
    "from sugar.config import ChainSettings, make_op_chain_settings, make_base_chain_settings\n",
    "from sugar.helpers import normalize_address, MAX_UINT256, float_to_uint256, apply_slippage, get_future_timestamp\n",
    "from sugar.abi import sugar, slipstream, price_oracle, router\n",
    "from sugar.token import Token\n",
    "from sugar.pool import LiquidityPool\n",
    "from sugar.price import Price\n",
    "from sugar.deposit import Deposit\n",
    "from sugar.helpers import ADDRESS_ZERO, chunk, normalize_address"
   ]
  },
  {
   "cell_type": "markdown",
   "metadata": {},
   "source": [
    "## Chain implementation "
   ]
  },
  {
   "cell_type": "code",
   "execution_count": null,
   "metadata": {},
   "outputs": [],
   "source": [
    "#| export\n",
    "\n",
    "T = TypeVar('T')\n",
    "\n",
    "def require_context(f: Callable[..., T]) -> Callable[..., T]:\n",
    "    @wraps(f)\n",
    "    async def wrapper(self: 'Chain', *args, **kwargs) -> T:\n",
    "        if not self._in_context: raise RuntimeError(\"Chain methods can only be accessed within 'async with' block\")\n",
    "        return await f(self, *args, **kwargs)\n",
    "    return wrapper\n",
    "\n",
    "class Chain:\n",
    "    account: Optional[Account]\n",
    "    web3: AsyncWeb3\n",
    "    sugar: AsyncContract\n",
    "    router: AsyncContract\n",
    "\n",
    "    def __init__(self, settings: ChainSettings):\n",
    "        self.settings, self._in_context = settings, False\n",
    "\n",
    "    @property\n",
    "    def account(self) -> Account: return self.web3.eth.account.from_key(os.getenv(\"SUGAR_PK\"))\n",
    "\n",
    "    async def __aenter__(self):\n",
    "        \"\"\"Async context manager entry\"\"\"\n",
    "        self._in_context = True\n",
    "        self.web3 = AsyncWeb3(AsyncHTTPProvider(self.settings.rpc_uri))\n",
    "        self.sugar = self.web3.eth.contract(address=self.settings.sugar_contract_addr, abi=sugar)\n",
    "        self.slipstream = self.web3.eth.contract(address=self.settings.slipstream_contract_addr, abi=slipstream)\n",
    "        self.prices = self.web3.eth.contract(address=self.settings.price_oracle_contract_addr, abi=price_oracle)\n",
    "        self.router = self.web3.eth.contract(address=self.settings.router_contract_addr, abi=router)\n",
    "        return self\n",
    "\n",
    "    async def __aexit__(self, exc_type, exc_val, exc_tb):\n",
    "        \"\"\"Async context manager exit\"\"\"\n",
    "        self._in_context = False\n",
    "        await self.web3.provider.disconnect()\n",
    "        return None"
   ]
  },
  {
   "cell_type": "markdown",
   "metadata": {},
   "source": [
    "### Get tokens"
   ]
  },
  {
   "cell_type": "code",
   "execution_count": null,
   "metadata": {},
   "outputs": [],
   "source": [
    "#| export\n",
    "\n",
    "@patch\n",
    "@require_context\n",
    "async def get_all_tokens(self: Chain, listed_only: bool = True) -> List[Token]:\n",
    "    native = Token.make_native_token(self.settings.native_token_symbol, self.settings.wrapped_native_token_addr, self.settings.native_token_decimals)\n",
    "    tokens = list(map(lambda t: Token.from_tuple(t), await self.sugar.functions.tokens(self.settings.pagination_limit, 0, ADDRESS_ZERO, []).call()))\n",
    "    return [native] + (list(filter(lambda t: t.listed, tokens)) if listed_only else tokens)\n",
    "   "
   ]
  },
  {
   "cell_type": "markdown",
   "metadata": {},
   "source": [
    "### Get pools"
   ]
  },
  {
   "cell_type": "code",
   "execution_count": null,
   "metadata": {},
   "outputs": [],
   "source": [
    "#| export\n",
    "\n",
    "@patch\n",
    "@require_context\n",
    "async def get_pools(self: Chain) -> List[LiquidityPool]:\n",
    "    pools, offset, limit = [], 0, self.settings.pool_page_size\n",
    "    tokens = await self.get_all_tokens()\n",
    "    prices = await self.get_prices(tokens)\n",
    "    tokens, prices = {t.token_address: t for t in tokens}, {price.token.token_address: price for price in prices}\n",
    "\n",
    "    while True:\n",
    "        pools_batch = await self.sugar.functions.all(limit, offset).call()\n",
    "        pools += pools_batch\n",
    "        if len(pools_batch) < limit: break\n",
    "        else: offset += limit\n",
    "\n",
    "    return list(filter(lambda p: p is not None, map(lambda p: LiquidityPool.from_tuple(p, tokens, prices), pools)))"
   ]
  },
  {
   "cell_type": "markdown",
   "metadata": {},
   "source": [
    "### Get prices"
   ]
  },
  {
   "cell_type": "code",
   "execution_count": null,
   "metadata": {},
   "outputs": [],
   "source": [
    "#| export\n",
    "\n",
    "# @cache_in_seconds(ORACLE_PRICES_CACHE_MINUTES * 60)\n",
    "@patch\n",
    "async def _get_prices(self: Chain, tokens: Tuple[Token]) -> List[Dict[str, int]]:\n",
    "    # token_address => normalized rate\n",
    "    result = {}\n",
    "    rates = await self.prices.functions.getManyRatesToEthWithCustomConnectors(\n",
    "        list(map(lambda t: t.wrapped_token_address or t.token_address, tokens)),\n",
    "        False, # use wrappers\n",
    "        self.settings.connector_tokens_addrs,\n",
    "        10 # threshold_filer\n",
    "    ).call()\n",
    "\n",
    "    # rates are returned multiplied by eth decimals + the difference in decimals to eth\n",
    "    # we want them all normalized to 18 decimals\n",
    "    for cnt, rate in enumerate(rates):\n",
    "        t, eth_decimals = tokens[cnt], self.settings.native_token_decimals\n",
    "        if t.decimals == eth_decimals: nr = rate\n",
    "        elif t.decimals < eth_decimals: nr = rate // (10 ** (eth_decimals - t.decimals))\n",
    "        else: nr = rate * (10 ** (t.decimals - eth_decimals))\n",
    "        result[t.token_address] = nr\n",
    "\n",
    "    return result\n",
    "\n",
    "\n",
    "@patch\n",
    "@require_context\n",
    "async def get_prices(self: Chain, tokens: List[Token]) -> List[Price]:\n",
    "    \"\"\"Get prices for tokens in target stable token\"\"\"\n",
    "\n",
    "    eth_decimals = self.settings.native_token_decimals\n",
    "\n",
    "    batches = await asyncio.gather(\n",
    "        *map(\n",
    "            # XX: lists are not cacheable, convert them to tuples so lru cache is happy\n",
    "            lambda ts: self._get_prices(tuple(ts)),\n",
    "            list(chunk(tokens, self.settings.price_batch_size)),\n",
    "        )\n",
    "    )\n",
    "    # all rates in EHT: token => rate\n",
    "    rates_in_eth = reduce(lambda a, b: a | b, batches)\n",
    "    eth_rate, usd_rate = rates_in_eth[self.settings.native_token_symbol], rates_in_eth[self.settings.stable_token_addr]\n",
    "    # this gives us the price of 1 eth in usd with 18 decimals precision\n",
    "    eth_usd_price = (eth_rate * 10 ** eth_decimals) // usd_rate\n",
    "    # finally convert to prices in terms of stable\n",
    "    return [Price(token=t, price=(rates_in_eth[t.token_address] * eth_usd_price // 10 ** eth_decimals) / 10 ** eth_decimals) for t in tokens]"
   ]
  },
  {
   "cell_type": "markdown",
   "metadata": {},
   "source": [
    "### Sign and send transaction"
   ]
  },
  {
   "cell_type": "code",
   "execution_count": null,
   "metadata": {},
   "outputs": [],
   "source": [
    "#| export\n",
    "\n",
    "@patch\n",
    "@require_context\n",
    "async def sign_and_send_tx(self: Chain, tx, value: int = 0, wait: bool = True):\n",
    "    print(f\"sign_and_send_tx: {tx} with value: {value}\")\n",
    "    spender = self.account.address\n",
    "    tx = await tx.build_transaction({ 'from': spender, 'value': value, 'nonce': await self.web3.eth.get_transaction_count(spender) })\n",
    "    signed_tx = self.account.sign_transaction(tx)\n",
    "    tx_hash = await self.web3.eth.send_raw_transaction(signed_tx.raw_transaction)\n",
    "    return await self.web3.eth.wait_for_transaction_receipt(tx_hash) if wait else tx_hash"
   ]
  },
  {
   "cell_type": "markdown",
   "metadata": {},
   "source": [
    "### Set and check token allowance"
   ]
  },
  {
   "cell_type": "code",
   "execution_count": null,
   "metadata": {},
   "outputs": [],
   "source": [
    "#| export\n",
    "\n",
    "@patch\n",
    "@require_context\n",
    "async def set_token_allowance(self: Chain, token: Token, addr: str, amount: int):\n",
    "    ERC20_ABI = [{\n",
    "        \"name\": \"approve\",\n",
    "        \"type\": \"function\",\n",
    "        \"constant\": False,\n",
    "        \"inputs\": [{\"name\": \"spender\", \"type\": \"address\"}, {\"name\": \"amount\", \"type\": \"uint256\"}],\n",
    "        \"outputs\": [{\"name\": \"\", \"type\": \"bool\"}]\n",
    "    }]\n",
    "    token_contract = self.web3.eth.contract(address=token.token_address, abi=ERC20_ABI)\n",
    "    return await self.sign_and_send_tx(token_contract.functions.approve(addr, amount))\n",
    "\n",
    "@patch\n",
    "@require_context\n",
    "async def check_token_allowance(self: Chain, token: Token, addr: str) -> int:\n",
    "    ERC20_ABI = [{\n",
    "        \"name\": \"allowance\",\n",
    "        \"type\": \"function\",\n",
    "        \"constant\": True,\n",
    "        \"inputs\": [{\"name\": \"owner\", \"type\": \"address\"}, {\"name\": \"spender\", \"type\": \"address\"}],\n",
    "        \"outputs\": [{\"name\": \"\", \"type\": \"uint256\"}]\n",
    "    }]\n",
    "    token_contract = self.web3.eth.contract(address=token.token_address, abi=ERC20_ABI)\n",
    "    return await token_contract.functions.allowance(self.account.address, addr).call()\n"
   ]
  },
  {
   "cell_type": "markdown",
   "metadata": {},
   "source": [
    "### Deposit"
   ]
  },
  {
   "cell_type": "code",
   "execution_count": null,
   "metadata": {},
   "outputs": [],
   "source": [
    "#| export\n",
    "\n",
    "@patch\n",
    "@require_context\n",
    "async def deposit(self: Chain, deposit: Deposit, delay_in_minutes: float = 30, slippage: float = 0.01):\n",
    "    amount_token0, pool, router_contract_addr = deposit.amount_token0, deposit.pool, self.settings.router_contract_addr\n",
    "    print(f\"gonna deposit {amount_token0} {pool.token0.symbol} into {pool.symbol} from {self.account.address}\")\n",
    "    [token0_amount, token1_amount, _] = await self.router.functions.quoteAddLiquidity(\n",
    "        pool.token0.token_address,\n",
    "        pool.token1.token_address,\n",
    "        pool.is_stable,\n",
    "        pool.factory,\n",
    "        float_to_uint256(amount_token0, pool.token0.decimals),\n",
    "        MAX_UINT256\n",
    "    ).call()\n",
    "    print(f\"Quote: {pool.token0.symbol} {token0_amount / 10 ** pool.token0.decimals} -> {pool.token1.symbol} {token1_amount / 10 ** pool.token1.decimals}\")\n",
    "\n",
    "    # set up allowance for both tokens\n",
    "    print(f\"setting up allowance for {pool.token0.symbol}\")\n",
    "    await self.set_token_allowance(pool.token0, router_contract_addr, token0_amount)\n",
    "\n",
    "    print(f\"setting up allowance for {pool.token1.symbol}\")\n",
    "    await self.set_token_allowance(pool.token1, router_contract_addr, token1_amount)\n",
    "\n",
    "    # check allowances\n",
    "    token0_allowance = await self.check_token_allowance(pool.token0, router_contract_addr)\n",
    "    token1_allowance = await self.check_token_allowance(pool.token1, router_contract_addr)\n",
    "\n",
    "    print(f\"allowances: {token0_allowance}, {token1_allowance}\")\n",
    "\n",
    "    # adding liquidity\n",
    "\n",
    "    # if token 0 is native, use addLiquidityETH instead of standard addLiquidity\n",
    "    if pool.token0.token_address == self.settings.wrapped_native_token_addr:\n",
    "        params = [\n",
    "            pool.token1.token_address,\n",
    "            pool.is_stable,\n",
    "            token1_amount,\n",
    "            apply_slippage(token1_amount, slippage),\n",
    "            apply_slippage(token0_amount, slippage),\n",
    "            self.account.address,\n",
    "            get_future_timestamp(delay_in_minutes)\n",
    "        ]\n",
    "        print(f\"adding liquidity with params: {params}\")\n",
    "        return await self.sign_and_send_tx(self.router.functions.addLiquidityETH(*params), value=token0_amount)\n",
    "    \n",
    "    # token 1 is native, use addLiquidityETH instead of standard addLiquidity\n",
    "    if pool.token1.token_address == self.settings.wrapped_native_token_addr:\n",
    "        params = [\n",
    "            pool.token0.token_address,\n",
    "            pool.is_stable,\n",
    "            token0_amount,\n",
    "            apply_slippage(token0_amount, slippage),\n",
    "            apply_slippage(token1_amount, slippage),\n",
    "            self.account.address,\n",
    "            get_future_timestamp(delay_in_minutes)\n",
    "        ]\n",
    "        print(f\"adding liquidity with params: {params}\")\n",
    "        return await self.sign_and_send_tx(self.router.functions.addLiquidityETH(*params), value=token1_amount)\n",
    "\n",
    "    params = [\n",
    "        pool.token0.token_address,\n",
    "        pool.token1.token_address,\n",
    "        pool.is_stable,\n",
    "        token0_amount,\n",
    "        token1_amount,\n",
    "        apply_slippage(token0_amount, slippage),\n",
    "        apply_slippage(token1_amount, slippage),\n",
    "        self.account.address,\n",
    "        get_future_timestamp(delay_in_minutes)\n",
    "    ]\n",
    "\n",
    "    print(f\"adding liquidity with params: {params}\")\n",
    "\n",
    "    return await self.sign_and_send_tx(self.router.functions.addLiquidity(*params))"
   ]
  },
  {
   "cell_type": "markdown",
   "metadata": {},
   "source": [
    "## OP Chain"
   ]
  },
  {
   "cell_type": "code",
   "execution_count": null,
   "metadata": {},
   "outputs": [],
   "source": [
    "#| export\n",
    "\n",
    "class OPChain(Chain):\n",
    "    usdc: str = normalize_address(\"0x0b2C639c533813f4Aa9D7837CAf62653d097Ff85\")\n",
    "    velo: str = normalize_address(\"0x9560e827aF36c94D2Ac33a39bCE1Fe78631088Db\")\n",
    "\n",
    "    def __init__(self, **kwargs): super().__init__(make_op_chain_settings(**kwargs))\n"
   ]
  },
  {
   "cell_type": "markdown",
   "metadata": {},
   "source": [
    "## Base Chain"
   ]
  },
  {
   "cell_type": "code",
   "execution_count": null,
   "metadata": {},
   "outputs": [],
   "source": [
    "#| export\n",
    "\n",
    "class BaseChain(Chain):\n",
    "    usdc: str = normalize_address(\"0x833589fcd6edb6e08f4c7c32d4f71b54bda02913\")\n",
    "    aero: str = normalize_address(\"0x940181a94a35a4569e4529a3cdfb74e38fd98631\")\n",
    "\n",
    "    def __init__(self, **kwargs): super().__init__(make_base_chain_settings(**kwargs))"
   ]
  },
  {
   "cell_type": "markdown",
   "metadata": {},
   "source": [
    "## Simnet versions of chains\n",
    "\n",
    "Simnet URIs:\n",
    "\n",
    "- OP: http://127.0.0.1:4444\n",
    "- Base: http://127.0.0.1:4445\n",
    "\n",
    "This assumes the following setup:\n",
    "\n",
    "```\n",
    "supersim fork  --l2.host=0.0.0.0 --l2.starting.port=4444 --chains=op,base\n",
    "```"
   ]
  },
  {
   "cell_type": "code",
   "execution_count": null,
   "metadata": {},
   "outputs": [],
   "source": [
    "#| export \n",
    "\n",
    "class OPChainSimnet(OPChain):\n",
    "    def __init__(self,  **kwargs): super().__init__(rpc_uri=\"http://127.0.0.1:4444\", **kwargs)\n",
    "\n",
    "class BaseChainSimnet(BaseChain):\n",
    "    def __init__(self,  **kwargs): super().__init__(rpc_uri=\"http://127.0.0.1:4445\", **kwargs)"
   ]
  },
  {
   "cell_type": "markdown",
   "metadata": {},
   "source": [
    "## Tests\n",
    "\n",
    "Run tests using mainnets for reads and simnet for writes"
   ]
  },
  {
   "cell_type": "markdown",
   "metadata": {},
   "source": [
    "Make sure simnet is running"
   ]
  },
  {
   "cell_type": "code",
   "execution_count": null,
   "metadata": {},
   "outputs": [],
   "source": [
    "from fastcore.test import test_eq\n",
    "import socket\n",
    "\n",
    "host, port ='127.0.0.1', 4444\n",
    "try:\n",
    "    sock = socket.socket(socket.AF_INET, socket.SOCK_STREAM)\n",
    "    sock.settimeout(2)\n",
    "    result = sock.connect_ex((host, port))\n",
    "    test_eq(result, 0)\n",
    "except socket.error as err:\n",
    "    test_eq(err, None)\n",
    "finally:\n",
    "    sock.close()"
   ]
  },
  {
   "cell_type": "markdown",
   "metadata": {},
   "source": [
    "Make sure PK is set for writes"
   ]
  },
  {
   "cell_type": "code",
   "execution_count": null,
   "metadata": {},
   "outputs": [],
   "source": [
    "import os\n",
    "from fastcore.test import test_ne\n",
    "from dotenv import load_dotenv\n",
    "\n",
    "load_dotenv()\n",
    "\n",
    "test_ne(os.getenv(\"SUGAR_PK\"), None)"
   ]
  },
  {
   "cell_type": "markdown",
   "metadata": {},
   "source": [
    "Getting tokens. Make sure native token is included"
   ]
  },
  {
   "cell_type": "code",
   "execution_count": null,
   "metadata": {},
   "outputs": [],
   "source": [
    "from fastcore.test import test_eq, test_ne\n",
    "\n",
    "async with OPChain() as op:\n",
    "    tokens = await op.get_all_tokens()\n",
    "    native_token = next(filter(lambda t: t.is_native, tokens), None)\n",
    "    test_ne(native_token, None)\n",
    "    test_eq(native_token.symbol, \"ETH\")\n",
    "\n",
    "async with BaseChain() as base:\n",
    "    tokens = await base.get_all_tokens()\n",
    "    native_token = next(filter(lambda t: t.is_native, tokens), None)\n",
    "    test_ne(native_token, None)\n",
    "    test_eq(native_token.symbol, \"ETH\")"
   ]
  },
  {
   "cell_type": "markdown",
   "metadata": {},
   "source": [
    "Check on tokens and pricing"
   ]
  },
  {
   "cell_type": "code",
   "execution_count": null,
   "metadata": {},
   "outputs": [
    {
     "name": "stdout",
     "output_type": "stream",
     "text": [
      "ETH price: $2470.02042986449\n",
      "VELO price: $0.06235077010810574\n",
      "RED price: $0.11682513201108721\n",
      "USDC price: $1.0\n",
      "WETH price: $2470.02042986449\n",
      "alETH price: $2342.2374442085934\n",
      "frxETH price: $2465.6465620832337\n",
      "wstETH price: $2949.3864690726427\n",
      "LDO price: $1.4097902576151082\n",
      "LUSD price: $1.023310626028611\n",
      "DAI price: $1.0271044427132372\n",
      "ERN price: $0.9810930135147437\n",
      "MAI price: $0.17191050595309693\n",
      "OP price: $1.0626211748521128\n",
      "EURA price: $1.0847276434762176\n",
      "alUSD price: $1.0108844466792097\n",
      "FRAX price: $1.017218069022356\n",
      "USD+ price: $1.0282945742911984\n",
      "DOLA price: $1.0121325295243875\n",
      "USDT price: $1.0284832707872424\n",
      "KWENTA price: $12.729256589820535\n",
      "SNX price: $0.8878898132847314\n",
      "SONNE price: $0.001022554796236488\n",
      "msETH price: $2450.6941455652154\n",
      "DF price: $0.07938887376541565\n",
      "USX price: $1.0257428796116164\n",
      "rETH price: $2779.9584293504004\n",
      "TAROT price: $0.015068817588262545\n",
      "PERP price: $0.4352162705085329\n",
      "jEUR price: $0.8672991589992005\n",
      "DHT price: $0.11142503378018888\n",
      "sfrxETH price: $2730.8348729159375\n",
      "THALES price: $0.13323587931659386\n",
      "STG price: $0.2503607053360331\n",
      "HOP price: $0.006900590540594294\n",
      "MTA price: $0.0250343479371965\n",
      "BLU price: $0.000131338265821065\n",
      "sUSD price: $0.9989660718307417\n",
      "sEUR price: $0.0\n",
      "sETH price: $2355.0636925700956\n",
      "FOX price: $0.024626120375178067\n",
      "OPP price: $0.000280969873977355\n",
      "wOptiDoge price: $4.22886978643e-07\n",
      "fBOMB price: $0.028827974443607515\n",
      "JARVIS price: $0.06840333237633997\n",
      "OpenX price: $0.02955828298440166\n",
      "MET price: $0.24227008255824617\n",
      "IB price: $0.3401319089688457\n",
      "FXS price: $1.5014796078662045\n",
      "opxVELO price: $0.05382816955852222\n",
      "POOL price: $0.5313747035362781\n",
      "WBTC price: $89185.08742402866\n",
      "tBTC price: $89067.84730330811\n",
      "EXTRA price: $0.03530483211714725\n",
      "GNode price: $0.03955052152635979\n",
      "KUJI price: $0.34474789367565795\n",
      "EXA price: $1.2694253846144339\n",
      "WLD price: $1.0982827895206873\n",
      "T price: $0.018719413585080273\n",
      "TAROT price: $0.11987372071288287\n",
      "wUSDR price: $0.2655372521803828\n",
      "axlUSDC price: $0.8744412249670546\n",
      "GRAI price: $0.9959216380809381\n",
      "PENDLE price: $2.782073304655117\n",
      "HAUS price: $0.46064447646545564\n",
      "ACX price: $0.2577849944503187\n",
      "stERN price: $1.023965064773286\n",
      "OS price: $0.14556014231715148\n",
      "msOP price: $1.0478735609861167\n",
      "msUSD price: $1.045205017147321\n",
      "USDC price: $1.026590712341371\n",
      "CLEAR price: $0.02963096912704437\n",
      "RING price: $0.005502488260650546\n",
      "ALCX price: $11.204707122472398\n",
      "JARVIS price: $0.03193054053280881\n",
      "mooBIFI price: $253.96428161700032\n",
      "UTS price: $0.0\n",
      "USDV price: $0.7031205482600703\n",
      "TKN price: $0.009443795430275397\n",
      "USDGLO price: $0.8621814969239011\n",
      "sFRAX price: $1.1696224699090243\n",
      "mpETH price: $2491.3911025602715\n",
      "CYBER price: $1.4452823138201578\n",
      "sDAI price: $1.1697294246314365\n",
      "MOLTEN price: $0.39173928300152905\n",
      "pxETH price: $2461.8419233591812\n",
      "HAI price: $1.1848965689782274\n",
      "KITE price: $1.4281597453200443\n",
      "2192 price: $8.701629449403e-06\n",
      "FOAM price: $0.001033740835985477\n",
      "IPT price: $0.010819285436879472\n",
      "USDA price: $0.9659872782325895\n",
      "TLX price: $0.05092847750199234\n",
      "wrsETH price: $2567.9997018907748\n",
      "SYN price: $0.3032472279340077\n",
      "ITP price: $0.020183823325279664\n",
      "ETH1S price: $0.24886458415800985\n",
      "weETH price: $2613.470661736459\n",
      "SAIL price: $0.001453888828552113\n",
      "ezETH price: $2561.595142322088\n",
      "USDy price: $1.1938895861902945\n",
      "USDpy price: $1.1314819136227785\n",
      "MODE price: $0.006620654127682461\n",
      "ZUN price: $0.004950485971532566\n",
      "uniBTC price: $85412.24839327366\n",
      "WELL price: $0.028974687021135176\n",
      "COMP price: $0.0\n",
      "wUSDM price: $1.107321734752829\n",
      "DINERO price: $0.04009675067598802\n",
      "cbETH price: $2696.1830143205902\n",
      "MONEY price: $1.0254385899431258\n",
      "TRUMP price: $13.52463750458611\n",
      "Bold price: $1.022657809803197\n",
      "kBTC price: $0.0\n"
     ]
    }
   ],
   "source": [
    "async with OPChain() as chain:\n",
    "    tokens = await chain.get_all_tokens()\n",
    "    prices = await chain.get_prices(tokens)\n",
    "    for p in prices: print(f\"{p.token.symbol} price: ${p.price}\")"
   ]
  },
  {
   "cell_type": "markdown",
   "metadata": {},
   "source": [
    "Basic deposit on OP"
   ]
  },
  {
   "cell_type": "code",
   "execution_count": null,
   "metadata": {},
   "outputs": [
    {
     "name": "stdout",
     "output_type": "stream",
     "text": [
      "gonna deposit 0.02 USDC into vAMM-USDC/VELO from 0x1e7A6B63F98484514610A9F0D5b399d4F7a9b1dA\n",
      "Quote: USDC 0.02 -> VELO 0.3306285048851115\n",
      "setting up allowance for USDC\n",
      "sign_and_send_tx: <Function approve(address,uint256) bound to ('0xa062aE8A9c5e11aaA026fc2670B0D65cCc8B2858', 20000)> with value: 0\n",
      "setting up allowance for VELO\n",
      "sign_and_send_tx: <Function approve(address,uint256) bound to ('0xa062aE8A9c5e11aaA026fc2670B0D65cCc8B2858', 330628504885111501)> with value: 0\n",
      "allowances: 20000, 330628504885111501\n",
      "adding liquidity with params: ['0x0b2C639c533813f4Aa9D7837CAf62653d097Ff85', '0x9560e827aF36c94D2Ac33a39bCE1Fe78631088Db', False, 20000, 330628504885111501, 19800, 327322219836260352, '0x1e7A6B63F98484514610A9F0D5b399d4F7a9b1dA', 1740503548]\n",
      "sign_and_send_tx: <Function addLiquidity(address,address,bool,uint256,uint256,uint256,uint256,address,uint256) bound to ('0x0b2C639c533813f4Aa9D7837CAf62653d097Ff85', '0x9560e827aF36c94D2Ac33a39bCE1Fe78631088Db', False, 20000, 330628504885111501, 19800, 327322219836260352, '0x1e7A6B63F98484514610A9F0D5b399d4F7a9b1dA', 1740503548)> with value: 0\n"
     ]
    }
   ],
   "source": [
    "async with OPChain() as chain:\n",
    "    pools = await chain.get_pools()\n",
    "    pools = list(filter(lambda x: x.token0 and x.token0.token_address == chain.usdc and x.token1.token_address == chain.velo, pools))\n",
    "    async with OPChainSimnet() as supersim:\n",
    "        # 0.02 USDC \n",
    "        await supersim.deposit(Deposit(pools[0], 0.02))"
   ]
  },
  {
   "cell_type": "markdown",
   "metadata": {},
   "source": [
    "Native -> non Native on OP"
   ]
  },
  {
   "cell_type": "code",
   "execution_count": null,
   "metadata": {},
   "outputs": [],
   "source": [
    "## WIP\n",
    "# async with OPChain() as op:\n",
    "#     pools = await op.get_pools()\n",
    "#     # find WETH/Velo pool\n",
    "#     weth_velo_pool = next(filter(lambda p: p.token0.token_address == op.settings.wrapped_native_token_addr and p.token1.token_address == OPChain.velo, pools), None)\n",
    "#     test_ne(weth_velo_pool, None)\n",
    "#     async with OPChainSimnet() as supersim:\n",
    "#         await supersim.deposit(Deposit(weth_velo_pool, 0.0001))\n"
   ]
  },
  {
   "cell_type": "markdown",
   "metadata": {},
   "source": [
    "Basic deposit on Base"
   ]
  },
  {
   "cell_type": "code",
   "execution_count": null,
   "metadata": {},
   "outputs": [
    {
     "name": "stdout",
     "output_type": "stream",
     "text": [
      "gonna deposit 0.01 USDC into vAMM-USDC/AERO from 0x1e7A6B63F98484514610A9F0D5b399d4F7a9b1dA\n",
      "Quote: USDC 0.01 -> AERO 0.015837606491797832\n",
      "setting up allowance for USDC\n",
      "sign_and_send_tx: <Function approve(address,uint256) bound to ('0xcF77a3Ba9A5CA399B7c97c74d54e5b1Beb874E43', 10000)> with value: 0\n",
      "setting up allowance for AERO\n",
      "sign_and_send_tx: <Function approve(address,uint256) bound to ('0xcF77a3Ba9A5CA399B7c97c74d54e5b1Beb874E43', 15837606491797831)> with value: 0\n",
      "allowances: 10000, 15837606491797831\n",
      "adding liquidity with params: ['0x833589fCD6eDb6E08f4c7C32D4f71b54bdA02913', '0x940181a94A35A4569E4529A3CDfB74e38FD98631', False, 10000, 15837606491797831, 9500, 15045726167207940, '0x1e7A6B63F98484514610A9F0D5b399d4F7a9b1dA', 1740503579]\n",
      "sign_and_send_tx: <Function addLiquidity(address,address,bool,uint256,uint256,uint256,uint256,address,uint256) bound to ('0x833589fCD6eDb6E08f4c7C32D4f71b54bdA02913', '0x940181a94A35A4569E4529A3CDfB74e38FD98631', False, 10000, 15837606491797831, 9500, 15045726167207940, '0x1e7A6B63F98484514610A9F0D5b399d4F7a9b1dA', 1740503579)> with value: 0\n"
     ]
    }
   ],
   "source": [
    "async with BaseChain() as chain:\n",
    "    pools = await chain.get_pools()\n",
    "    pools = list(filter(lambda x: x.token0 and x.token0.token_address == chain.usdc and x.token1.token_address == chain.aero, pools))\n",
    "    async with BaseChainSimnet() as supersim:\n",
    "        # 0.02 USDC \n",
    "        await supersim.deposit(Deposit(pools[0], 0.01), slippage=0.05)"
   ]
  },
  {
   "cell_type": "markdown",
   "metadata": {},
   "source": [
    "CL on OP"
   ]
  },
  {
   "cell_type": "code",
   "execution_count": null,
   "metadata": {},
   "outputs": [],
   "source": [
    "# WIP\n",
    "# async with OPChain() as chain:\n",
    "#     pools = await chain.get_pools()\n",
    "#     # CL200-USDC/VELO\n",
    "#     cl_usdc_velo = next(filter(lambda x: x.token0 and x.token0.token_address == chain.usdc and x.token1.token_address == chain.velo and x.is_cl, pools), None)\n",
    "#     test_ne(cl_usdc_velo, None)\n",
    "#     async with OPChainSimnet() as supersim:\n",
    "#         await supersim.deposit(Deposit(cl_usdc_velo, 0.02))"
   ]
  },
  {
   "cell_type": "code",
   "execution_count": null,
   "metadata": {},
   "outputs": [],
   "source": [
    "#| hide\n",
    "\n",
    "import nbdev; nbdev.nbdev_export()"
   ]
  }
 ],
 "metadata": {
  "kernelspec": {
   "display_name": "python3",
   "language": "python",
   "name": "python3"
  }
 },
 "nbformat": 4,
 "nbformat_minor": 2
}
