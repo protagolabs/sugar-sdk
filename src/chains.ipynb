{
 "cells": [
  {
   "cell_type": "markdown",
   "metadata": {},
   "source": [
    "# ⛓ Chain "
   ]
  },
  {
   "cell_type": "code",
   "execution_count": null,
   "metadata": {},
   "outputs": [],
   "source": [
    "#| default_exp chains"
   ]
  },
  {
   "cell_type": "code",
   "execution_count": null,
   "metadata": {},
   "outputs": [],
   "source": [
    "#| hide\n",
    "from nbdev.showdoc import *"
   ]
  },
  {
   "cell_type": "code",
   "execution_count": null,
   "metadata": {},
   "outputs": [],
   "source": [
    "#| export\n",
    "\n",
    "import asyncio, web3, os\n",
    "from functools import wraps, reduce\n",
    "from typing import List, TypeVar, Callable, Optional, Tuple, Dict\n",
    "from fastcore.utils import patch\n",
    "from web3 import AsyncWeb3, AsyncHTTPProvider, Account\n",
    "from web3.eth.async_eth import AsyncContract\n",
    "from sugar.config import ChainSettings, make_op_chain_settings, make_base_chain_settings\n",
    "from sugar.helpers import normalize_address, MAX_UINT256, float_to_uint256, apply_slippage, get_future_timestamp\n",
    "from sugar.abi import sugar, slipstream, price_oracle, router\n",
    "from sugar.token import Token\n",
    "from sugar.pool import LiquidityPool\n",
    "from sugar.price import Price\n",
    "from sugar.deposit import Deposit\n",
    "from sugar.helpers import ADDRESS_ZERO, chunk, normalize_address"
   ]
  },
  {
   "cell_type": "markdown",
   "metadata": {},
   "source": [
    "## Chain implementation "
   ]
  },
  {
   "cell_type": "code",
   "execution_count": null,
   "metadata": {},
   "outputs": [],
   "source": [
    "#| export\n",
    "\n",
    "T = TypeVar('T')\n",
    "\n",
    "def require_context(f: Callable[..., T]) -> Callable[..., T]:\n",
    "    @wraps(f)\n",
    "    async def wrapper(self: 'Chain', *args, **kwargs) -> T:\n",
    "        if not self._in_context: raise RuntimeError(\"Chain methods can only be accessed within 'async with' block\")\n",
    "        return await f(self, *args, **kwargs)\n",
    "    return wrapper\n",
    "\n",
    "class Chain:\n",
    "    account: Optional[Account]\n",
    "    web3: AsyncWeb3\n",
    "    sugar: AsyncContract\n",
    "    router: AsyncContract\n",
    "\n",
    "    def __init__(self, settings: ChainSettings):\n",
    "        self.settings, self._in_context = settings, False\n",
    "\n",
    "    @property\n",
    "    def account(self) -> Account: return self.web3.eth.account.from_key(os.getenv(\"SUGAR_PK\"))\n",
    "\n",
    "    async def __aenter__(self):\n",
    "        \"\"\"Async context manager entry\"\"\"\n",
    "        self._in_context = True\n",
    "        self.web3 = AsyncWeb3(AsyncHTTPProvider(self.settings.rpc_uri))\n",
    "        self.sugar = self.web3.eth.contract(address=self.settings.sugar_contract_addr, abi=sugar)\n",
    "        self.slipstream = self.web3.eth.contract(address=self.settings.slipstream_contract_addr, abi=slipstream)\n",
    "        self.prices = self.web3.eth.contract(address=self.settings.price_oracle_contract_addr, abi=price_oracle)\n",
    "        self.router = self.web3.eth.contract(address=self.settings.router_contract_addr, abi=router)\n",
    "        return self\n",
    "\n",
    "    async def __aexit__(self, exc_type, exc_val, exc_tb):\n",
    "        \"\"\"Async context manager exit\"\"\"\n",
    "        self._in_context = False\n",
    "        await self.web3.provider.disconnect()\n",
    "        return None"
   ]
  },
  {
   "cell_type": "markdown",
   "metadata": {},
   "source": [
    "### Get tokens"
   ]
  },
  {
   "cell_type": "code",
   "execution_count": null,
   "metadata": {},
   "outputs": [],
   "source": [
    "#| export\n",
    "\n",
    "@patch\n",
    "@require_context\n",
    "async def get_all_tokens(self: Chain, listed_only: bool = True) -> List[Token]:\n",
    "    native = Token.make_native_token(self.settings.native_token_symbol, self.settings.wrapped_native_token_addr, self.settings.native_token_decimals)\n",
    "    tokens = list(map(lambda t: Token.from_tuple(t), await self.sugar.functions.tokens(self.settings.pagination_limit, 0, ADDRESS_ZERO, []).call()))\n",
    "    return [native] + (list(filter(lambda t: t.listed, tokens)) if listed_only else tokens)\n",
    "   "
   ]
  },
  {
   "cell_type": "markdown",
   "metadata": {},
   "source": [
    "### Get pools"
   ]
  },
  {
   "cell_type": "code",
   "execution_count": null,
   "metadata": {},
   "outputs": [],
   "source": [
    "#| export\n",
    "\n",
    "@patch\n",
    "@require_context\n",
    "async def get_pools(self: Chain) -> List[LiquidityPool]:\n",
    "    pools, offset, limit = [], 0, self.settings.pool_page_size\n",
    "    tokens = await self.get_all_tokens()\n",
    "    prices = await self.get_prices(tokens)\n",
    "    tokens, prices = {t.token_address: t for t in tokens}, {price.token.token_address: price for price in prices}\n",
    "\n",
    "    while True:\n",
    "        pools_batch = await self.sugar.functions.all(limit, offset).call()\n",
    "        pools += pools_batch\n",
    "        if len(pools_batch) < limit: break\n",
    "        else: offset += limit\n",
    "\n",
    "    return list(filter(lambda p: p is not None, map(lambda p: LiquidityPool.from_tuple(p, tokens, prices), pools)))"
   ]
  },
  {
   "cell_type": "markdown",
   "metadata": {},
   "source": [
    "### Get prices"
   ]
  },
  {
   "cell_type": "code",
   "execution_count": null,
   "metadata": {},
   "outputs": [],
   "source": [
    "#| export\n",
    "\n",
    "# @cache_in_seconds(ORACLE_PRICES_CACHE_MINUTES * 60)\n",
    "@patch\n",
    "async def _get_prices(self: Chain, tokens: Tuple[Token]) -> List[Dict[str, int]]:\n",
    "    # token_address => normalized rate\n",
    "    result = {}\n",
    "    rates = await self.prices.functions.getManyRatesToEthWithCustomConnectors(\n",
    "        list(map(lambda t: t.wrapped_token_address or t.token_address, tokens)),\n",
    "        False, # use wrappers\n",
    "        self.settings.connector_tokens_addrs,\n",
    "        10 # threshold_filer\n",
    "    ).call()\n",
    "\n",
    "    # rates are returned multiplied by eth decimals + the difference in decimals to eth\n",
    "    # we want them all normalized to 18 decimals\n",
    "    for cnt, rate in enumerate(rates):\n",
    "        t, eth_decimals = tokens[cnt], self.settings.native_token_decimals\n",
    "        if t.decimals == eth_decimals: nr = rate\n",
    "        elif t.decimals < eth_decimals: nr = rate // (10 ** (eth_decimals - t.decimals))\n",
    "        else: nr = rate * (10 ** (t.decimals - eth_decimals))\n",
    "        result[t.token_address] = nr\n",
    "\n",
    "    return result\n",
    "\n",
    "\n",
    "@patch\n",
    "@require_context\n",
    "async def get_prices(self: Chain, tokens: List[Token]) -> List[Price]:\n",
    "    \"\"\"Get prices for tokens in target stable token\"\"\"\n",
    "\n",
    "    eth_decimals = self.settings.native_token_decimals\n",
    "\n",
    "    batches = await asyncio.gather(\n",
    "        *map(\n",
    "            # XX: lists are not cacheable, convert them to tuples so lru cache is happy\n",
    "            lambda ts: self._get_prices(tuple(ts)),\n",
    "            list(chunk(tokens, self.settings.price_batch_size)),\n",
    "        )\n",
    "    )\n",
    "    # all rates in EHT: token => rate\n",
    "    rates_in_eth = reduce(lambda a, b: a | b, batches)\n",
    "    eth_rate, usd_rate = rates_in_eth[self.settings.native_token_symbol], rates_in_eth[self.settings.stable_token_addr]\n",
    "    # this gives us the price of 1 eth in usd with 18 decimals precision\n",
    "    eth_usd_price = (eth_rate * 10 ** eth_decimals) // usd_rate\n",
    "    # finally convert to prices in terms of stable\n",
    "    return [Price(token=t, price=(rates_in_eth[t.token_address] * eth_usd_price // 10 ** eth_decimals) / 10 ** eth_decimals) for t in tokens]"
   ]
  },
  {
   "cell_type": "markdown",
   "metadata": {},
   "source": [
    "### Sign and send transaction"
   ]
  },
  {
   "cell_type": "code",
   "execution_count": null,
   "metadata": {},
   "outputs": [],
   "source": [
    "#| export\n",
    "\n",
    "@patch\n",
    "@require_context\n",
    "async def sign_and_send_tx(self: Chain, tx, value: int = 0, wait: bool = True):\n",
    "    print(f\"sign_and_send_tx: {tx} with value: {value}\")\n",
    "    spender = self.account.address\n",
    "    tx = await tx.build_transaction({ 'from': spender, 'value': value, 'nonce': await self.web3.eth.get_transaction_count(spender) })\n",
    "    signed_tx = self.account.sign_transaction(tx)\n",
    "    tx_hash = await self.web3.eth.send_raw_transaction(signed_tx.raw_transaction)\n",
    "    return await self.web3.eth.wait_for_transaction_receipt(tx_hash) if wait else tx_hash"
   ]
  },
  {
   "cell_type": "markdown",
   "metadata": {},
   "source": [
    "### Set and check token allowance"
   ]
  },
  {
   "cell_type": "code",
   "execution_count": null,
   "metadata": {},
   "outputs": [],
   "source": [
    "#| export\n",
    "\n",
    "@patch\n",
    "@require_context\n",
    "async def set_token_allowance(self: Chain, token: Token, addr: str, amount: int):\n",
    "    ERC20_ABI = [{\n",
    "        \"name\": \"approve\",\n",
    "        \"type\": \"function\",\n",
    "        \"constant\": False,\n",
    "        \"inputs\": [{\"name\": \"spender\", \"type\": \"address\"}, {\"name\": \"amount\", \"type\": \"uint256\"}],\n",
    "        \"outputs\": [{\"name\": \"\", \"type\": \"bool\"}]\n",
    "    }]\n",
    "    token_contract = self.web3.eth.contract(address=token.token_address, abi=ERC20_ABI)\n",
    "    return await self.sign_and_send_tx(token_contract.functions.approve(addr, amount))\n",
    "\n",
    "@patch\n",
    "@require_context\n",
    "async def check_token_allowance(self: Chain, token: Token, addr: str) -> int:\n",
    "    ERC20_ABI = [{\n",
    "        \"name\": \"allowance\",\n",
    "        \"type\": \"function\",\n",
    "        \"constant\": True,\n",
    "        \"inputs\": [{\"name\": \"owner\", \"type\": \"address\"}, {\"name\": \"spender\", \"type\": \"address\"}],\n",
    "        \"outputs\": [{\"name\": \"\", \"type\": \"uint256\"}]\n",
    "    }]\n",
    "    token_contract = self.web3.eth.contract(address=token.token_address, abi=ERC20_ABI)\n",
    "    return await token_contract.functions.allowance(self.account.address, addr).call()\n"
   ]
  },
  {
   "cell_type": "markdown",
   "metadata": {},
   "source": [
    "### Deposit"
   ]
  },
  {
   "cell_type": "code",
   "execution_count": null,
   "metadata": {},
   "outputs": [],
   "source": [
    "#| export\n",
    "\n",
    "@patch\n",
    "@require_context\n",
    "async def deposit(self: Chain, deposit: Deposit, delay_in_minutes: float = 30, slippage: float = 0.01):\n",
    "    amount_token0, pool, router_contract_addr = deposit.amount_token0, deposit.pool, self.settings.router_contract_addr\n",
    "    print(f\"gonna deposit {amount_token0} {pool.token0.symbol} into {pool.symbol} from {self.account.address}\")\n",
    "    [token0_amount, token1_amount, _] = await self.router.functions.quoteAddLiquidity(\n",
    "        pool.token0.token_address,\n",
    "        pool.token1.token_address,\n",
    "        pool.is_stable,\n",
    "        pool.factory,\n",
    "        float_to_uint256(amount_token0, pool.token0.decimals),\n",
    "        MAX_UINT256\n",
    "    ).call()\n",
    "    print(f\"Quote: {pool.token0.symbol} {token0_amount / 10 ** pool.token0.decimals} -> {pool.token1.symbol} {token1_amount / 10 ** pool.token1.decimals}\")\n",
    "\n",
    "    # set up allowance for both tokens\n",
    "    print(f\"setting up allowance for {pool.token0.symbol}\")\n",
    "    await self.set_token_allowance(pool.token0, router_contract_addr, token0_amount)\n",
    "\n",
    "    print(f\"setting up allowance for {pool.token1.symbol}\")\n",
    "    await self.set_token_allowance(pool.token1, router_contract_addr, token1_amount)\n",
    "\n",
    "    # check allowances\n",
    "    token0_allowance = await self.check_token_allowance(pool.token0, router_contract_addr)\n",
    "    token1_allowance = await self.check_token_allowance(pool.token1, router_contract_addr)\n",
    "\n",
    "    print(f\"allowances: {token0_allowance}, {token1_allowance}\")\n",
    "\n",
    "    # adding liquidity\n",
    "\n",
    "    # if token 0 is native, use addLiquidityETH instead of standard addLiquidity\n",
    "    if pool.token0.token_address == self.settings.wrapped_native_token_addr:\n",
    "        params = [\n",
    "            pool.token1.token_address,\n",
    "            pool.is_stable,\n",
    "            token1_amount,\n",
    "            apply_slippage(token1_amount, slippage),\n",
    "            apply_slippage(token0_amount, slippage),\n",
    "            self.account.address,\n",
    "            get_future_timestamp(delay_in_minutes)\n",
    "        ]\n",
    "        print(f\"adding liquidity with params: {params}\")\n",
    "        return await self.sign_and_send_tx(self.router.functions.addLiquidityETH(*params), value=token0_amount)\n",
    "    \n",
    "    # token 1 is native, use addLiquidityETH instead of standard addLiquidity\n",
    "    if pool.token1.token_address == self.settings.wrapped_native_token_addr:\n",
    "        params = [\n",
    "            pool.token0.token_address,\n",
    "            pool.is_stable,\n",
    "            token0_amount,\n",
    "            apply_slippage(token0_amount, slippage),\n",
    "            apply_slippage(token1_amount, slippage),\n",
    "            self.account.address,\n",
    "            get_future_timestamp(delay_in_minutes)\n",
    "        ]\n",
    "        print(f\"adding liquidity with params: {params}\")\n",
    "        return await self.sign_and_send_tx(self.router.functions.addLiquidityETH(*params), value=token1_amount)\n",
    "\n",
    "    params = [\n",
    "        pool.token0.token_address,\n",
    "        pool.token1.token_address,\n",
    "        pool.is_stable,\n",
    "        token0_amount,\n",
    "        token1_amount,\n",
    "        apply_slippage(token0_amount, slippage),\n",
    "        apply_slippage(token1_amount, slippage),\n",
    "        self.account.address,\n",
    "        get_future_timestamp(delay_in_minutes)\n",
    "    ]\n",
    "\n",
    "    print(f\"adding liquidity with params: {params}\")\n",
    "\n",
    "    return await self.sign_and_send_tx(self.router.functions.addLiquidity(*params))"
   ]
  },
  {
   "cell_type": "markdown",
   "metadata": {},
   "source": [
    "## OP Chain"
   ]
  },
  {
   "cell_type": "code",
   "execution_count": null,
   "metadata": {},
   "outputs": [],
   "source": [
    "#| export\n",
    "\n",
    "class OPChain(Chain):\n",
    "    usdc: str = normalize_address(\"0x7f5c764cbc14f9669b88837ca1490cca17c31607\")\n",
    "    velo: str = normalize_address(\"0x9560e827aF36c94D2Ac33a39bCE1Fe78631088Db\")\n",
    "\n",
    "    def __init__(self, **kwargs): super().__init__(make_op_chain_settings(**kwargs))\n"
   ]
  },
  {
   "cell_type": "markdown",
   "metadata": {},
   "source": [
    "## Base Chain"
   ]
  },
  {
   "cell_type": "code",
   "execution_count": null,
   "metadata": {},
   "outputs": [],
   "source": [
    "#| export\n",
    "\n",
    "class BaseChain(Chain):\n",
    "    usdc: str = normalize_address(\"0x833589fcd6edb6e08f4c7c32d4f71b54bda02913\")\n",
    "    aero: str = normalize_address(\"0x940181a94a35a4569e4529a3cdfb74e38fd98631\")\n",
    "\n",
    "    def __init__(self, **kwargs): super().__init__(make_base_chain_settings(**kwargs))"
   ]
  },
  {
   "cell_type": "markdown",
   "metadata": {},
   "source": [
    "## Simnet versions of chains\n",
    "\n",
    "Simnet URIs:\n",
    "\n",
    "- OP: http://127.0.0.1:4444\n",
    "- Base: http://127.0.0.1:4445\n",
    "\n",
    "This assumes the following setup:\n",
    "\n",
    "```\n",
    "supersim fork  --l2.host=0.0.0.0 --l2.starting.port=4444 --chains=op,base\n",
    "```"
   ]
  },
  {
   "cell_type": "code",
   "execution_count": null,
   "metadata": {},
   "outputs": [],
   "source": [
    "#| export \n",
    "\n",
    "class OPChainSimnet(OPChain):\n",
    "    def __init__(self,  **kwargs): super().__init__(rpc_uri=\"http://127.0.0.1:4444\", **kwargs)\n",
    "\n",
    "class BaseChainSimnet(BaseChain):\n",
    "    def __init__(self,  **kwargs): super().__init__(rpc_uri=\"http://127.0.0.1:4445\", **kwargs)"
   ]
  },
  {
   "cell_type": "markdown",
   "metadata": {},
   "source": [
    "## Tests\n",
    "\n",
    "Run tests using mainnets for reads and simnet for writes"
   ]
  },
  {
   "cell_type": "markdown",
   "metadata": {},
   "source": [
    "Make sure simnet is running"
   ]
  },
  {
   "cell_type": "code",
   "execution_count": null,
   "metadata": {},
   "outputs": [],
   "source": [
    "from fastcore.test import test_eq\n",
    "import socket\n",
    "\n",
    "host, port ='127.0.0.1', 4444\n",
    "try:\n",
    "    sock = socket.socket(socket.AF_INET, socket.SOCK_STREAM)\n",
    "    sock.settimeout(2)\n",
    "    result = sock.connect_ex((host, port))\n",
    "    test_eq(result, 0)\n",
    "except socket.error as err:\n",
    "    test_eq(err, None)\n",
    "finally:\n",
    "    sock.close()"
   ]
  },
  {
   "cell_type": "markdown",
   "metadata": {},
   "source": [
    "Make sure PK is set for writes"
   ]
  },
  {
   "cell_type": "code",
   "execution_count": null,
   "metadata": {},
   "outputs": [],
   "source": [
    "import os\n",
    "from fastcore.test import test_ne\n",
    "from dotenv import load_dotenv\n",
    "\n",
    "load_dotenv()\n",
    "\n",
    "test_ne(os.getenv(\"SUGAR_PK\"), None)"
   ]
  },
  {
   "cell_type": "markdown",
   "metadata": {},
   "source": [
    "Getting tokens. Make sure native token is included"
   ]
  },
  {
   "cell_type": "code",
   "execution_count": null,
   "metadata": {},
   "outputs": [],
   "source": [
    "from fastcore.test import test_eq, test_ne\n",
    "\n",
    "async with OPChain() as op:\n",
    "    tokens = await op.get_all_tokens()\n",
    "    native_token = next(filter(lambda t: t.is_native, tokens), None)\n",
    "    test_ne(native_token, None)\n",
    "    test_eq(native_token.symbol, \"ETH\")\n",
    "\n",
    "async with BaseChain() as base:\n",
    "    tokens = await base.get_all_tokens()\n",
    "    native_token = next(filter(lambda t: t.is_native, tokens), None)\n",
    "    test_ne(native_token, None)\n",
    "    test_eq(native_token.symbol, \"ETH\")"
   ]
  },
  {
   "cell_type": "markdown",
   "metadata": {},
   "source": [
    "Check on tokens and pricing"
   ]
  },
  {
   "cell_type": "code",
   "execution_count": null,
   "metadata": {},
   "outputs": [
    {
     "name": "stderr",
     "output_type": "stream",
     "text": [
      "Unclosed client session\n",
      "client_session: <aiohttp.client.ClientSession object>\n"
     ]
    },
    {
     "name": "stdout",
     "output_type": "stream",
     "text": [
      "Rates in ETH: {'ETH': 1000000000000000000, '0x9560e827aF36c94D2Ac33a39bCE1Fe78631088Db': 26145154438920, '0x3417E54A51924C225330f8770514aD5560B9098D': 47104965125198, '0x7F5c764cBc14f9669B88837ca1490cCa17c31607': 367417282664231, '0x4200000000000000000000000000000000000006': 1000000000000000000, '0x3E29D3A9316dAB217754d13b28646B76607c5f04': 948741602371318142, '0x6806411765Af15Bddd26f8f544A34cC40cb9838B': 999352861575189755, '0x1F32b1c2345538c0c6f582fCB022739c4A194Ebb': 1193889164138337203, '0xFdb794692724153d1488CcdBE0C56c252596735F': 579290742632677, '0xc40F949F8a4e094D1b49a23ea9241D289B7b2819': 376286070325255, '0xDA10009cBd5D07dd0CeCc66161FC93D7c9000da1': 378475307743393, '0xc5b001DC33727F8F26880B184090D3E252470D45': 360609469825393, '0xdFA46478F9e5EA86d57387849598dbFB2e964b02': 63061948318849, '0x4200000000000000000000000000000000000042': 401962558989887, '0x9485aca5bbBE1667AD97c7fE7C4531a624C8b1ED': 392265605273957, '0xCB8FA9a76b8e203D8C3797bF438d8FB81Ea3326A': 370654972344112, '0x2E3D870790dC77A83DD1d18184Acc7439A53f475': 374805331965453, '0x73cb180bf0521828d8849bc8CF2B920918e23032': 377495779376146, '0x8aE125E8653821E851F12A49F7765db9a9ce7384': 368165320683252, '0x94b008aA00579c1307B0EF2c499aD98a8ce58e58': 378290270860995, '0x920Cf626a271321C151D027030D5d08aF699456b': 5055342817853213, '0x8700dAec35aF8Ff88c16BdF0418774CB3D7599B4': 357477244956780, '0x1DB2466d9F5e10D7090E7152B68d62703a2245F0': 375203710717, '0x1610e3c85dd44Af31eD7f33a63642012Dca0C5A5': 992165003308091907, '0x9e5AAC1Ba1a2e6aEd6b32689DFcF62A509Ca96f3': 28845427641828, '0xbfD291DA8A403DAAF7e5E9DC1ec0aCEaCd4848B9': 376691377029694, '0x9Bcef72be871e61ED4fBbc7630889beE758eb81D': 1125363605787160723, '0x375488F097176507e39B9653b88FDc52cDE736Bf': 5475790395563, '0x9e1028F5F1D5eDE59748FFceE5532509976840E0': 164384106968281, '0x79AF5dd14e855823FA3E9ECAcdF001D99647d043': 351119847105184, '0xAF9fE3B5cCDAe78188B1F8b9a49Da7ae9510F151': 43523556021003, '0x484c2D6e3cDd945a8B2DF735e079178C1036578c': 1105597947723152449, '0x217D47011b23BB961eB6D93cA9945B7501a5BB11': 57406827430079, '0x296F55F8Fb28E498B858d0BcDA06D955B2Cb3f97': 94920037863453, '0xc5102fE9359FD9a28f877a67E36B0F050d81a3CC': 2808681662956, '0x929B939f8524c3Be977af57A4A0aD3fb1E374b50': 9453977669938, '0xa50B23cDfB2eC7c590e84f403256f67cE6dffB84': 52454235821, '0x8c6f28f2F1A3C87F0f938b96d27520d9751ec8d9': 366389147592409, '0xFBc4198702E81aE77c06D58f81b629BDf36f0a71': 0, '0xE405de8F52ba7559f9df3C368500B6E6ae6Cee49': 952978570840940475, '0xF1a0DA3367BC7aa04F8D94BA57B862ff37CeD174': 9970838444271, '0x676f784d19c7F1Ac6C6BeaeaaC78B02a73427852': 117215538577, '0xC26921B5b9ee80773774d36C84328ccb22c3a819': 173548402, '0x74ccbe53F77b08632ce0CB91D3A545bF6B8E0979': 11701404897405, '0x9F46A936BE9114bD2f71965a87C003341448b47E': 27693427774641, '0xc3864f98f2a61A7cAeb95b039D031b4E2f55e0e9': 11748830791578, '0x9a2e53158e12BC09270Af10C16A466cb2b5D7836': 98212199211844, '0x00a35FD824c717879BF370E70AC6868b95870Dfb': 137704087325102, '0x67CCEA5bb16181E7b4109c9c2143c24a1c2205Be': 567019149859477, '0xc38464250F51123078BBd7eA574E185F6623d037': 22512046760645, '0x395Ae52bB17aef68C2888d941736A71dC6d4e125': 219817948846481, '0x68f180fcCe6836688e9084f035309E29Bf0A2095': 35524286902509640921, '0x6c84a8f1c29108F47a79964b5Fe888D4f4D0dE40': 35485793591535439355, '0x2dAD3a13ef0C6366220f989157009e501e7938F8': 14280264932818, '0x5976d4c3bcFc1c5f90aB1419D7f3dDF109cEA35a': 14635006455510, '0x3A18dcC9745eDcD1Ef33ecB93b0b6eBA5671e7Ca': 127194807237403, '0x1e925De1c68ef83bD98eE3E130eF14a50309C01B': 528411486737455, '0xdC6fF44d5d932Cbd77B52E5612Ba0529DC6226F1': 434658497280873, '0x747e42Eb0591547a0ab429B3627816208c734EA7': 7737219588068, '0x1F514A61bcde34F94Bc39731235690ab9da737F7': 46430134197175, '0xC03b43d492d904406db2d7D57e67C7e8234bA752': 100780012568781, '0xEB466342C4d449BC9f53A865D5Cb90586f405215': 317222848318373, '0x894134a25a5faC1c2C26F1d8fBf05111a3CB9487': 364843945623017, '0xBC7B1Ff1c6989f006a1185318eD4E7b5796e66E1': 1159933381370156, '0x01B8b6384298D4848E3BE63D4C9D17830EeE488A': 186494196928860, '0xFf733b2A3557a7ed6697007ab5D11B79FdD1b76B': 101587807016612, '0x3eE6107d9C93955acBb3f39871D32B02F82B78AB': 376165154371938, '0x6AF3cb766D6cd37449bfD321D961A61B0515c1BC': 58904840458189, '0x33bCa143d9b41322479E8d26072a00a352404721': 395706870082915, '0x9dAbAE7274D28A45F0B65Bf8ED201A5731492ca0': 355680238964588, '0x0b2C639c533813f4Aa9D7837CAf62653d097Ff85': 378094901125414, '0x58b9cB810A68a7f3e1E4f8Cb45D1B9B3c79705E8': 12542984241497, '0x259c1C2ED264402b5ed2f02bc7dC25A15C680c18': 3078964043300, '0xE974B9b31dBFf4369b94a1bAB5e228f35ed44125': 4561566030764994, '0x1574564fCFd15BCCB3FE04E9818F61131eA74066': 12927237421498, '0xc55E93C62874D8100dBd2DfE307EDc1036ad5434': 103942179528276403, '0x3B6564b5DA73A41d3A66e6558a98FD0e9E1e77ad': 0, '0x323665443CEf804A3b5206103304BD4872EA4253': 95320519141982, '0x3Eb398fEc5F7327C6b15099a9681d9568ded2e82': 3913471388574, '0x4F604735c1cF31399C6E711D5962b2B3E0225AD3': 312775361468008, '0x2Dd1B4D4548aCCeA497050619965f91f78b3b532': 403079621982750, '0x819845b60A192167Ed1139040B4F8ecA31834f27': 1008652022646206976, '0x14778860E937f509e651192a90589dE711Fb88a9': 565089489188492, '0x2218a117083f5B482B0bB821d27056Ba9c04b1D3': 429247795072020, '0x66E535e8D2ebf13F49F3D49e5c50395a97C137b1': 159619461183384, '0x300d2c875C6fb8Ce4bf5480B4d34b7c9ea8a33A4': 997471915549316006, '0x10398AbC267496E49106B07dd6BE13364D10dC71': 436170540658287, '0xf467C7d5a4A9C4687fFc7986aC6aD5A4c81E1404': 545507450151750, '0x3Ed9AcAac7Bd974eB83a8eA6432a239e3C829D5D': 3522897764, '0x79E6c6b6aABA4432FAbacB30cC0C879D8f3E598e': 443842441814, '0xa211E25F7246950E0cCe054e3161C7c0b6379485': 4579874730293, '0x0000206329b97DB379d5E1Bf586BbDB969C63274': 364757142501880, '0xD9cC3D70E730503E7f28c1B407389198c4B75FA2': 20606622865615, '0x87eEE96D50Fb761AD85B1c982d28A042169d61b1': 1029516241745839880, '0x5A5fFf6F753d7C11A56A52FE47a177a87e431655': 120681907082030, '0x0a7B751FcDBBAA8BB988B9217ad5Fb5cfe7bf7A0': 8059512595117, '0xf0dC8c9b7E43e8EEF39f0F0CA1C464aB714d7783': 100762463812260, '0x5A7fACB970D094B6C7FF1df0eA68D99E6e73CBFF': 1057692910255241556, '0x7a1263eC3Bf0a19e25C553B8A2C312e903262C5E': 552096491264, '0x2416092f143378750bb29b79eD961ab195CcEea5': 1036880935551330887, '0x1eC50880101022C11530A069690F5446d1464592': 434153918188626, '0xB9243C495117343981EC9f8AA2ABfFEe54396Fc0': 416321100838187, '0x084382D1cc4f4DFD1769b1cC1Ac2A9b1f8365e90': 2754440599507, '0x25193034153AfB4251a8E02a8Db0DeaeF4C876F6': 1864332226522, '0x93919784C523f39CACaa98Ee0a9d96c3F32b593e': 32255103710909775054, '0xA88594D404727625A9437C3f886C7643872296AE': 11670512446913, '0x7e7d4467112689329f7E06571eD0E8CbAd4910eE': 0, '0x57F5E098CaD7A3D1Eed53991D4d66C45C9AF7812': 396967317430493, '0x09D9420332bff75522a45FcFf4855F82a0a3ff50': 16900126800225, '0xadDb6A0412DE1BA0F936DCaeb8Aaa24578dcF3B2': 1091583327004208683, '0x69420f9E38a4e60a62224C489be4BF7a94402496': 377303178660801, '0xe36c02471E708a9f16Da58168Da744b059A1c6fe': 5754568842600709, '0x087C440F251Ff6Cfe62B86DdE1bE558B95b4bb9b': 376725512872187, '0x73E0C0d45E048D25Fc26Fa3159b0aA04BfA4Db98': 0}\n",
      "ETH price: $2721.7010390713244\n",
      "VELO price: $0.07115929400308882\n",
      "RED price: $0.1282056325266699\n",
      "USDC price: $1.0\n",
      "WETH price: $2721.7010390713244\n",
      "alETH price: $2582.19100498421\n",
      "frxETH price: $2719.9397217480955\n",
      "wstETH price: $3249.409378571307\n",
      "LDO price: $1.5766562161477562\n",
      "LUSD price: $1.024138188592312\n",
      "DAI price: $1.030096638348032\n",
      "ERN price: $0.9814711687227315\n",
      "MAI price: $0.1716357702652735\n",
      "OP price: $1.0940219144705439\n",
      "EURA price: $1.0676297054660708\n",
      "alUSD price: $1.0088120233659226\n",
      "FRAX price: $1.0201080614598461\n",
      "USD+ price: $1.027430654973096\n",
      "DOLA price: $1.0020359358536344\n",
      "USDT price: $1.0295930232729429\n",
      "KWENTA price: $13.759131800212847\n",
      "SNX price: $0.9729461890432225\n",
      "SONNE price: $0.001021192329321875\n",
      "msETH price: $2700.376520433838\n",
      "DF price: $0.07850863038521996\n",
      "USX price: $1.025241312270926\n",
      "rETH price: $3062.9032952039674\n",
      "TAROT price: $0.014903464409340594\n",
      "PERP price: $0.44740439474238214\n",
      "jEUR price: $0.9556432527047438\n",
      "DHT price: $0.11845810764644286\n",
      "sfrxETH price: $3009.107083113228\n",
      "THALES price: $0.1562442218662342\n",
      "STG price: $0.25834396568164947\n",
      "HOP price: $0.00764439180048792\n",
      "MTA price: $0.02573090084762735\n",
      "BLU price: $0.000142764748137707\n",
      "sUSD price: $0.9972017237067163\n",
      "sEUR price: $0.0\n",
      "sETH price: $2593.7227664704933\n",
      "FOX price: $0.027137641354184686\n",
      "OPP price: $0.000319025653140325\n",
      "wOptiDoge price: $4.72346866052e-07\n",
      "fBOMB price: $0.03184772586786147\n",
      "JARVIS price: $0.07537323114968708\n",
      "OpenX price: $0.03197680497331101\n",
      "MET price: $0.2673042446443557\n",
      "IB price: $0.3747893575570985\n",
      "FXS price: $1.5432566093458775\n",
      "opxVELO price: $0.061271061060069736\n",
      "POOL price: $0.5982787397819945\n",
      "WBTC price: $96686.48857482833\n",
      "tBTC price: $96581.72129035255\n",
      "EXTRA price: $0.038866611905864545\n",
      "GNode price: $0.039832112276777104\n",
      "KUJI price: $0.34618623902251655\n",
      "EXA price: $1.4381780925105545\n",
      "WLD price: $1.1830104836905324\n",
      "T price: $0.021058398592367678\n",
      "TAROT price: $0.12636894448867222\n",
      "wUSDR price: $0.27429306492607236\n",
      "axlUSDC price: $0.8633857558852809\n",
      "GRAI price: $0.9929961459010471\n",
      "PENDLE price: $3.156991889328668\n",
      "HAUS price: $0.5075814495620504\n",
      "ACX price: $0.27649163991409004\n",
      "stERN price: $1.0238090915165288\n",
      "OS price: $0.1603213654813836\n",
      "msOP price: $1.0769957994723314\n",
      "msUSD price: $0.9680552759670561\n",
      "USDC price: $1.029061285260609\n",
      "CLEAR price: $0.034138253243137635\n",
      "RING price: $0.008380019635912856\n",
      "ALCX price: $12.415219005725541\n",
      "JARVIS price: $0.03518407552241282\n",
      "mooBIFI price: $282.899538025448\n",
      "UTS price: $0.0\n",
      "USDV price: $0.25943395599355046\n",
      "TKN price: $0.010651299144657754\n",
      "USDGLO price: $0.8512810263033864\n",
      "sFRAX price: $1.0970622259789273\n",
      "mpETH price: $2745.2492580975745\n",
      "CYBER price: $1.5380046498926025\n",
      "sDAI price: $1.1682841698665918\n",
      "MOLTEN price: $0.43443645335882114\n",
      "pxETH price: $2714.820348995038\n",
      "HAI price: $1.1871258137219611\n",
      "KITE price: $1.4847081938991666\n",
      "2192 price: $9.58827450482e-06\n",
      "FOAM price: $0.001208006435069117\n",
      "IPT price: $0.012465049812254958\n",
      "USDA price: $0.9927598937560539\n",
      "TLX price: $0.056085066865095255\n",
      "wrsETH price: $2802.035424900457\n",
      "SYN price: $0.32846007190227006\n",
      "ITP price: $0.021935583804538365\n",
      "ETH1S price: $0.27424530245721473\n",
      "weETH price: $2878.723892860064\n",
      "SAIL price: $0.001502641593940861\n",
      "ezETH price: $2822.079919683304\n",
      "USDy price: $1.1816371702508701\n",
      "USDpy price: $1.1331015727386111\n",
      "MODE price: $0.007496763841738443\n",
      "ZUN price: $0.005074154958099083\n",
      "uniBTC price: $87788.74928533647\n",
      "WELL price: $0.03176364585325794\n",
      "COMP price: $0.0\n",
      "wUSDM price: $1.080426360327929\n",
      "DINERO price: $0.04599709267260952\n",
      "cbETH price: $2970.963475340288\n",
      "MONEY price: $1.0269064534060157\n",
      "TRUMP price: $15.662215998313817\n",
      "Bold price: $1.025334219828909\n",
      "kBTC price: $0.0\n"
     ]
    }
   ],
   "source": [
    "async with OPChain() as chain:\n",
    "    tokens = await chain.get_all_tokens()\n",
    "    prices = await chain.get_prices(tokens)\n",
    "    for p in prices: print(f\"{p.token.symbol} price: ${p.price}\")"
   ]
  },
  {
   "cell_type": "markdown",
   "metadata": {},
   "source": [
    "Basic deposit on OP"
   ]
  },
  {
   "cell_type": "code",
   "execution_count": null,
   "metadata": {},
   "outputs": [
    {
     "name": "stdout",
     "output_type": "stream",
     "text": [
      "FOX (0xF1a0DA3367BC7aa04F8D94BA57B862ff37CeD174 None) => 9972926419632\n",
      "OPP (0x676f784d19c7F1Ac6C6BeaeaaC78B02a73427852 None) => 117541856833\n",
      "wOptiDoge (0xC26921B5b9ee80773774d36C84328ccb22c3a819 None) => 173841950\n",
      "fBOMB (0x74ccbe53F77b08632ce0CB91D3A545bF6B8E0979 None) => 11710178780345\n",
      "JARVIS (0x9F46A936BE9114bD2f71965a87C003341448b47E None) => 27693427774641\n",
      "OpenX (0xc3864f98f2a61A7cAeb95b039D031b4E2f55e0e9 None) => 11830335121624\n",
      "MET (0x9a2e53158e12BC09270Af10C16A466cb2b5D7836 None) => 91950774497117\n",
      "IB (0x00a35FD824c717879BF370E70AC6868b95870Dfb None) => 137704087325102\n",
      "FXS (0x67CCEA5bb16181E7b4109c9c2143c24a1c2205Be None) => 578856579782223\n",
      "opxVELO (0xc38464250F51123078BBd7eA574E185F6623d037 None) => 22529360684626\n",
      "POOL (0x395Ae52bB17aef68C2888d941736A71dC6d4e125 None) => 219981291935972\n",
      "WBTC (0x68f180fcCe6836688e9084f035309E29Bf0A2095 None) => 3.5642158640753885e+19\n",
      "tBTC (0x6c84a8f1c29108F47a79964b5Fe888D4f4D0dE40 None) => 35603511262493633979\n",
      "EXTRA (0x2dAD3a13ef0C6366220f989157009e501e7938F8 None) => 14174862088057\n",
      "GNode (0x5976d4c3bcFc1c5f90aB1419D7f3dDF109cEA35a None) => 14515093214172\n",
      "KUJI (0x3A18dcC9745eDcD1Ef33ecB93b0b6eBA5671e7Ca None) => 124055380450024.81\n",
      "EXA (0x1e925De1c68ef83bD98eE3E130eF14a50309C01B None) => 532923318859619\n",
      "WLD (0xdC6fF44d5d932Cbd77B52E5612Ba0529DC6226F1 None) => 436483251388001\n",
      "T (0x747e42Eb0591547a0ab429B3627816208c734EA7 None) => 7762886407868\n",
      "TAROT (0x1F514A61bcde34F94Bc39731235690ab9da737F7 None) => 46556717644501\n",
      "wUSDR (0xC03b43d492d904406db2d7D57e67C7e8234bA752 None) => 99002941740697.97\n",
      "axlUSDC (0xEB466342C4d449BC9f53A865D5Cb90586f405215 None) => 306452481984650.6\n",
      "GRAI (0x894134a25a5faC1c2C26F1d8fBf05111a3CB9487 None) => 360491358978399\n",
      "PENDLE (0xBC7B1Ff1c6989f006a1185318eD4E7b5796e66E1 None) => 1162251117955749\n",
      "HAUS (0x01B8b6384298D4848E3BE63D4C9D17830EeE488A None) => 186494196928860\n",
      "ACX (0xFf733b2A3557a7ed6697007ab5D11B79FdD1b76B None) => 102714341682189\n",
      "stERN (0x3eE6107d9C93955acBb3f39871D32B02F82B78AB None) => 371464485876108\n",
      "OS (0x6AF3cb766D6cd37449bfD321D961A61B0515c1BC None) => 58904840458189\n",
      "msOP (0x33bCa143d9b41322479E8d26072a00a352404721 None) => 399856664316421\n",
      "msUSD (0x9dAbAE7274D28A45F0B65Bf8ED201A5731492ca0 None) => 363105631748398\n",
      "USDC (0x0b2C639c533813f4Aa9D7837CAf62653d097Ff85 None) => 371662012714918.25\n",
      "CLEAR (0x58b9cB810A68a7f3e1E4f8Cb45D1B9B3c79705E8 None) => 12559984391372\n",
      "RING (0x259c1C2ED264402b5ed2f02bc7dC25A15C680c18 None) => 3090137730291\n",
      "ALCX (0xE974B9b31dBFf4369b94a1bAB5e228f35ed44125 None) => 4478527116154719\n",
      "JARVIS (0x1574564fCFd15BCCB3FE04E9818F61131eA74066 None) => 12927237421498\n",
      "mooBIFI (0xc55E93C62874D8100dBd2DfE307EDc1036ad5434 None) => 103795015953774815\n",
      "UTS (0x3B6564b5DA73A41d3A66e6558a98FD0e9E1e77ad None) => 0\n",
      "USDV (0x323665443CEf804A3b5206103304BD4872EA4253 None) => 96119234184184.9\n",
      "TKN (0x3Eb398fEc5F7327C6b15099a9681d9568ded2e82 None) => 3918775517070\n",
      "USDGLO (0x4F604735c1cF31399C6E711D5962b2B3E0225AD3 None) => 302155996434781\n",
      "ETH price: None, USD price: None\n",
      "sFRAX (0x2Dd1B4D4548aCCeA497050619965f91f78b3b532 None) => 403079621982750\n",
      "mpETH (0x819845b60A192167Ed1139040B4F8ecA31834f27 None) => 1008652022646206976\n",
      "CYBER (0x14778860E937f509e651192a90589dE711Fb88a9 None) => 573395556610057\n",
      "sDAI (0x2218a117083f5B482B0bB821d27056Ba9c04b1D3 None) => 424461837769690\n",
      "MOLTEN (0x66E535e8D2ebf13F49F3D49e5c50395a97C137b1 None) => 159558721985620\n",
      "pxETH (0x300d2c875C6fb8Ce4bf5480B4d34b7c9ea8a33A4 None) => 997364949154932703\n",
      "HAI (0x10398AbC267496E49106B07dd6BE13364D10dC71 None) => 429522912809338\n",
      "KITE (0xf467C7d5a4A9C4687fFc7986aC6aD5A4c81E1404 None) => 552192386831352\n",
      "2192 (0x3Ed9AcAac7Bd974eB83a8eA6432a239e3C829D5D None) => 3522897764\n",
      "FOAM (0x79E6c6b6aABA4432FAbacB30cC0C879D8f3E598e None) => 443842441814\n",
      "IPT (0xa211E25F7246950E0cCe054e3161C7c0b6379485 None) => 4586082069418\n",
      "USDA (0x0000206329b97DB379d5E1Bf586BbDB969C63274 None) => 360216524729090\n",
      "TLX (0xD9cC3D70E730503E7f28c1B407389198c4B75FA2 None) => 20604986247909\n",
      "wrsETH (0x87eEE96D50Fb761AD85B1c982d28A042169d61b1 None) => 1033419601733810406\n",
      "SYN (0x5A5fFf6F753d7C11A56A52FE47a177a87e431655 None) => 120681907082030\n",
      "ITP (0x0a7B751FcDBBAA8BB988B9217ad5Fb5cfe7bf7A0 None) => 8092984883904\n",
      "ETH1S (0xf0dC8c9b7E43e8EEF39f0F0CA1C464aB714d7783 None) => 100783564298742\n",
      "weETH (0x5A7fACB970D094B6C7FF1df0eA68D99E6e73CBFF None) => 1057914399826957976\n",
      "SAIL (0x7a1263eC3Bf0a19e25C553B8A2C312e903262C5E None) => 552096491264\n",
      "ezETH (0x2416092f143378750bb29b79eD961ab195CcEea5 None) => 1036873359383869911\n",
      "USDy (0x1eC50880101022C11530A069690F5446d1464592 None) => 429051949801354\n",
      "USDpy (0xB9243C495117343981EC9f8AA2ABfFEe54396Fc0 None) => 408742376314680\n",
      "MODE (0x084382D1cc4f4DFD1769b1cC1Ac2A9b1f8365e90 None) => 2615077296387\n",
      "ZUN (0x25193034153AfB4251a8E02a8Db0DeaeF4C876F6 None) => 1864722632984\n",
      "uniBTC (0x93919784C523f39CACaa98Ee0a9d96c3F32b593e None) => 3.292848049178818e+19\n",
      "WELL (0xA88594D404727625A9437C3f886C7643872296AE None) => 11709467576349\n",
      "COMP (0x7e7d4467112689329f7E06571eD0E8CbAd4910eE None) => 0\n",
      "wUSDM (0x57F5E098CaD7A3D1Eed53991D4d66C45C9AF7812 None) => 397050445643106\n",
      "DINERO (0x09D9420332bff75522a45FcFf4855F82a0a3ff50 None) => 16900126800225\n",
      "cbETH (0xadDb6A0412DE1BA0F936DCaeb8Aaa24578dcF3B2 None) => 1091583310864611441\n",
      "MONEY (0x69420f9E38a4e60a62224C489be4BF7a94402496 None) => 370434737817526\n",
      "TRUMP (0xe36c02471E708a9f16Da58168Da744b059A1c6fe None) => 5654321659894646\n",
      "Bold (0x087C440F251Ff6Cfe62B86DdE1bE558B95b4bb9b None) => 370648539895772\n",
      "kBTC (0x73E0C0d45E048D25Fc26Fa3159b0aA04BfA4Db98 None) => 0.0\n",
      "ETH price: None, USD price: None\n"
     ]
    },
    {
     "ename": "Web3RPCError",
     "evalue": "{'code': -32000, 'message': 'out of gas'}",
     "output_type": "error",
     "traceback": [
      "\u001b[0;31m---------------------------------------------------------------------------\u001b[0m",
      "\u001b[0;31mWeb3RPCError\u001b[0m                              Traceback (most recent call last)",
      "Cell \u001b[0;32mIn[18], line 2\u001b[0m\n\u001b[1;32m      1\u001b[0m \u001b[38;5;28;01masync\u001b[39;00m \u001b[38;5;28;01mwith\u001b[39;00m OPChain() \u001b[38;5;28;01mas\u001b[39;00m chain:\n\u001b[0;32m----> 2\u001b[0m     pools \u001b[38;5;241m=\u001b[39m \u001b[38;5;28;01mawait\u001b[39;00m chain\u001b[38;5;241m.\u001b[39mget_pools()\n\u001b[1;32m      3\u001b[0m     pools \u001b[38;5;241m=\u001b[39m \u001b[38;5;28mlist\u001b[39m(\u001b[38;5;28mfilter\u001b[39m(\u001b[38;5;28;01mlambda\u001b[39;00m x: x\u001b[38;5;241m.\u001b[39mtoken0 \u001b[38;5;129;01mand\u001b[39;00m x\u001b[38;5;241m.\u001b[39mtoken0\u001b[38;5;241m.\u001b[39mtoken_address \u001b[38;5;241m==\u001b[39m chain\u001b[38;5;241m.\u001b[39musdc \u001b[38;5;129;01mand\u001b[39;00m x\u001b[38;5;241m.\u001b[39mtoken1\u001b[38;5;241m.\u001b[39mtoken_address \u001b[38;5;241m==\u001b[39m chain\u001b[38;5;241m.\u001b[39mvelo, pools))\n\u001b[1;32m      4\u001b[0m     \u001b[38;5;28;01masync\u001b[39;00m \u001b[38;5;28;01mwith\u001b[39;00m OPChainSimnet() \u001b[38;5;28;01mas\u001b[39;00m supersim:\n\u001b[1;32m      5\u001b[0m         \u001b[38;5;66;03m# 0.02 USDC \u001b[39;00m\n",
      "Cell \u001b[0;32mIn[4], line 9\u001b[0m, in \u001b[0;36mrequire_context.<locals>.wrapper\u001b[0;34m(self, *args, **kwargs)\u001b[0m\n\u001b[1;32m      6\u001b[0m \u001b[38;5;129m@wraps\u001b[39m(f)\n\u001b[1;32m      7\u001b[0m \u001b[38;5;28;01masync\u001b[39;00m \u001b[38;5;28;01mdef\u001b[39;00m\u001b[38;5;250m \u001b[39m\u001b[38;5;21mwrapper\u001b[39m(\u001b[38;5;28mself\u001b[39m: \u001b[38;5;124m'\u001b[39m\u001b[38;5;124mChain\u001b[39m\u001b[38;5;124m'\u001b[39m, \u001b[38;5;241m*\u001b[39margs, \u001b[38;5;241m*\u001b[39m\u001b[38;5;241m*\u001b[39mkwargs) \u001b[38;5;241m-\u001b[39m\u001b[38;5;241m>\u001b[39m T:\n\u001b[1;32m      8\u001b[0m     \u001b[38;5;28;01mif\u001b[39;00m \u001b[38;5;129;01mnot\u001b[39;00m \u001b[38;5;28mself\u001b[39m\u001b[38;5;241m.\u001b[39m_in_context: \u001b[38;5;28;01mraise\u001b[39;00m \u001b[38;5;167;01mRuntimeError\u001b[39;00m(\u001b[38;5;124m\"\u001b[39m\u001b[38;5;124mChain methods can only be accessed within \u001b[39m\u001b[38;5;124m'\u001b[39m\u001b[38;5;124masync with\u001b[39m\u001b[38;5;124m'\u001b[39m\u001b[38;5;124m block\u001b[39m\u001b[38;5;124m\"\u001b[39m)\n\u001b[0;32m----> 9\u001b[0m     \u001b[38;5;28;01mreturn\u001b[39;00m \u001b[38;5;28;01mawait\u001b[39;00m f(\u001b[38;5;28mself\u001b[39m, \u001b[38;5;241m*\u001b[39margs, \u001b[38;5;241m*\u001b[39m\u001b[38;5;241m*\u001b[39mkwargs)\n",
      "Cell \u001b[0;32mIn[6], line 8\u001b[0m, in \u001b[0;36mget_pools\u001b[0;34m(self)\u001b[0m\n\u001b[1;32m      6\u001b[0m pools, offset, limit \u001b[38;5;241m=\u001b[39m [], \u001b[38;5;241m0\u001b[39m, \u001b[38;5;28mself\u001b[39m\u001b[38;5;241m.\u001b[39msettings\u001b[38;5;241m.\u001b[39mpool_page_size\n\u001b[1;32m      7\u001b[0m tokens \u001b[38;5;241m=\u001b[39m \u001b[38;5;28;01mawait\u001b[39;00m \u001b[38;5;28mself\u001b[39m\u001b[38;5;241m.\u001b[39mget_all_tokens()\n\u001b[0;32m----> 8\u001b[0m prices \u001b[38;5;241m=\u001b[39m \u001b[38;5;28;01mawait\u001b[39;00m \u001b[38;5;28mself\u001b[39m\u001b[38;5;241m.\u001b[39mget_prices(tokens)\n\u001b[1;32m      9\u001b[0m tokens, prices \u001b[38;5;241m=\u001b[39m {t\u001b[38;5;241m.\u001b[39mtoken_address: t \u001b[38;5;28;01mfor\u001b[39;00m t \u001b[38;5;129;01min\u001b[39;00m tokens}, {price\u001b[38;5;241m.\u001b[39mtoken\u001b[38;5;241m.\u001b[39mtoken_address: price \u001b[38;5;28;01mfor\u001b[39;00m price \u001b[38;5;129;01min\u001b[39;00m prices}\n\u001b[1;32m     11\u001b[0m \u001b[38;5;28;01mwhile\u001b[39;00m \u001b[38;5;28;01mTrue\u001b[39;00m:\n",
      "Cell \u001b[0;32mIn[4], line 9\u001b[0m, in \u001b[0;36mrequire_context.<locals>.wrapper\u001b[0;34m(self, *args, **kwargs)\u001b[0m\n\u001b[1;32m      6\u001b[0m \u001b[38;5;129m@wraps\u001b[39m(f)\n\u001b[1;32m      7\u001b[0m \u001b[38;5;28;01masync\u001b[39;00m \u001b[38;5;28;01mdef\u001b[39;00m\u001b[38;5;250m \u001b[39m\u001b[38;5;21mwrapper\u001b[39m(\u001b[38;5;28mself\u001b[39m: \u001b[38;5;124m'\u001b[39m\u001b[38;5;124mChain\u001b[39m\u001b[38;5;124m'\u001b[39m, \u001b[38;5;241m*\u001b[39margs, \u001b[38;5;241m*\u001b[39m\u001b[38;5;241m*\u001b[39mkwargs) \u001b[38;5;241m-\u001b[39m\u001b[38;5;241m>\u001b[39m T:\n\u001b[1;32m      8\u001b[0m     \u001b[38;5;28;01mif\u001b[39;00m \u001b[38;5;129;01mnot\u001b[39;00m \u001b[38;5;28mself\u001b[39m\u001b[38;5;241m.\u001b[39m_in_context: \u001b[38;5;28;01mraise\u001b[39;00m \u001b[38;5;167;01mRuntimeError\u001b[39;00m(\u001b[38;5;124m\"\u001b[39m\u001b[38;5;124mChain methods can only be accessed within \u001b[39m\u001b[38;5;124m'\u001b[39m\u001b[38;5;124masync with\u001b[39m\u001b[38;5;124m'\u001b[39m\u001b[38;5;124m block\u001b[39m\u001b[38;5;124m\"\u001b[39m)\n\u001b[0;32m----> 9\u001b[0m     \u001b[38;5;28;01mreturn\u001b[39;00m \u001b[38;5;28;01mawait\u001b[39;00m f(\u001b[38;5;28mself\u001b[39m, \u001b[38;5;241m*\u001b[39margs, \u001b[38;5;241m*\u001b[39m\u001b[38;5;241m*\u001b[39mkwargs)\n",
      "Cell \u001b[0;32mIn[7], line 37\u001b[0m, in \u001b[0;36mget_prices\u001b[0;34m(self, tokens)\u001b[0m\n\u001b[1;32m     32\u001b[0m \u001b[38;5;129m@patch\u001b[39m\n\u001b[1;32m     33\u001b[0m \u001b[38;5;129m@require_context\u001b[39m\n\u001b[1;32m     34\u001b[0m \u001b[38;5;28;01masync\u001b[39;00m \u001b[38;5;28;01mdef\u001b[39;00m\u001b[38;5;250m \u001b[39m\u001b[38;5;21mget_prices\u001b[39m(\u001b[38;5;28mself\u001b[39m: Chain, tokens: List[Token]) \u001b[38;5;241m-\u001b[39m\u001b[38;5;241m>\u001b[39m List[Price]:\n\u001b[1;32m     35\u001b[0m \u001b[38;5;250m    \u001b[39m\u001b[38;5;124;03m\"\"\"Get prices for tokens in target stable token\"\"\"\u001b[39;00m\n\u001b[0;32m---> 37\u001b[0m     batches \u001b[38;5;241m=\u001b[39m \u001b[38;5;28;01mawait\u001b[39;00m asyncio\u001b[38;5;241m.\u001b[39mgather(\n\u001b[1;32m     38\u001b[0m         \u001b[38;5;241m*\u001b[39m\u001b[38;5;28mmap\u001b[39m(\n\u001b[1;32m     39\u001b[0m             \u001b[38;5;66;03m# XX: lists are not cacheable, convert them to tuples so lru cache is happy\u001b[39;00m\n\u001b[1;32m     40\u001b[0m             \u001b[38;5;28;01mlambda\u001b[39;00m ts: \u001b[38;5;28mself\u001b[39m\u001b[38;5;241m.\u001b[39m_get_prices(\u001b[38;5;28mtuple\u001b[39m(ts)),\n\u001b[1;32m     41\u001b[0m             \u001b[38;5;28mlist\u001b[39m(chunk(tokens, \u001b[38;5;28mself\u001b[39m\u001b[38;5;241m.\u001b[39msettings\u001b[38;5;241m.\u001b[39mprice_batch_size)),\n\u001b[1;32m     42\u001b[0m         )\n\u001b[1;32m     43\u001b[0m     )\n\u001b[1;32m     44\u001b[0m     \u001b[38;5;28;01mreturn\u001b[39;00m reduce(\u001b[38;5;28;01mlambda\u001b[39;00m l1, l2: l1 \u001b[38;5;241m+\u001b[39m l2, batches, [])\n",
      "Cell \u001b[0;32mIn[7], line 6\u001b[0m, in \u001b[0;36m_get_prices\u001b[0;34m(self, tokens)\u001b[0m\n\u001b[1;32m      4\u001b[0m \u001b[38;5;129m@patch\u001b[39m\n\u001b[1;32m      5\u001b[0m \u001b[38;5;28;01masync\u001b[39;00m \u001b[38;5;28;01mdef\u001b[39;00m\u001b[38;5;250m \u001b[39m\u001b[38;5;21m_get_prices\u001b[39m(\u001b[38;5;28mself\u001b[39m: Chain, tokens: Tuple[Token]):\n\u001b[0;32m----> 6\u001b[0m     prices \u001b[38;5;241m=\u001b[39m \u001b[38;5;28;01mawait\u001b[39;00m \u001b[38;5;28mself\u001b[39m\u001b[38;5;241m.\u001b[39mprices\u001b[38;5;241m.\u001b[39mfunctions\u001b[38;5;241m.\u001b[39mgetManyRatesToEthWithCustomConnectors(\n\u001b[1;32m      7\u001b[0m         \u001b[38;5;28mlist\u001b[39m(\u001b[38;5;28mmap\u001b[39m(\u001b[38;5;28;01mlambda\u001b[39;00m t: t\u001b[38;5;241m.\u001b[39mwrapped_token_address \u001b[38;5;129;01mor\u001b[39;00m t\u001b[38;5;241m.\u001b[39mtoken_address, tokens)),\n\u001b[1;32m      8\u001b[0m         \u001b[38;5;28;01mFalse\u001b[39;00m, \u001b[38;5;66;03m# use wrappers\u001b[39;00m\n\u001b[1;32m      9\u001b[0m         \u001b[38;5;28mself\u001b[39m\u001b[38;5;241m.\u001b[39msettings\u001b[38;5;241m.\u001b[39mconnector_tokens_addrs,\n\u001b[1;32m     10\u001b[0m         \u001b[38;5;241m10\u001b[39m \u001b[38;5;66;03m# threshold_filer\u001b[39;00m\n\u001b[1;32m     11\u001b[0m     )\u001b[38;5;241m.\u001b[39mcall()\n\u001b[1;32m     12\u001b[0m     \u001b[38;5;66;03m# rates are returned multiplied by eth decimals + the difference in decimals to eth\u001b[39;00m\n\u001b[1;32m     13\u001b[0m     \u001b[38;5;66;03m# we want them all normalized to 18 decimals\u001b[39;00m\n\u001b[1;32m     14\u001b[0m     \u001b[38;5;28;01mdef\u001b[39;00m\u001b[38;5;250m \u001b[39m\u001b[38;5;21mnormalize\u001b[39m(t: Token, price: \u001b[38;5;28mfloat\u001b[39m) \u001b[38;5;241m-\u001b[39m\u001b[38;5;241m>\u001b[39m \u001b[38;5;28mfloat\u001b[39m:\n",
      "File \u001b[0;32m~/projects/sugar-sdk/env/lib/python3.10/site-packages/web3/contract/async_contract.py:454\u001b[0m, in \u001b[0;36mAsyncContractFunction.call\u001b[0;34m(self, transaction, block_identifier, state_override, ccip_read_enabled)\u001b[0m\n\u001b[1;32m    450\u001b[0m block_id \u001b[38;5;241m=\u001b[39m \u001b[38;5;28;01mawait\u001b[39;00m async_parse_block_identifier(\u001b[38;5;28mself\u001b[39m\u001b[38;5;241m.\u001b[39mw3, block_identifier)\n\u001b[1;32m    452\u001b[0m abi_element_identifier \u001b[38;5;241m=\u001b[39m abi_to_signature(\u001b[38;5;28mself\u001b[39m\u001b[38;5;241m.\u001b[39mabi)\n\u001b[0;32m--> 454\u001b[0m \u001b[38;5;28;01mreturn\u001b[39;00m \u001b[38;5;28;01mawait\u001b[39;00m async_call_contract_function(\n\u001b[1;32m    455\u001b[0m     \u001b[38;5;28mself\u001b[39m\u001b[38;5;241m.\u001b[39mw3,\n\u001b[1;32m    456\u001b[0m     \u001b[38;5;28mself\u001b[39m\u001b[38;5;241m.\u001b[39maddress,\n\u001b[1;32m    457\u001b[0m     \u001b[38;5;28mself\u001b[39m\u001b[38;5;241m.\u001b[39m_return_data_normalizers,\n\u001b[1;32m    458\u001b[0m     abi_element_identifier,\n\u001b[1;32m    459\u001b[0m     call_transaction,\n\u001b[1;32m    460\u001b[0m     block_id,\n\u001b[1;32m    461\u001b[0m     \u001b[38;5;28mself\u001b[39m\u001b[38;5;241m.\u001b[39mcontract_abi,\n\u001b[1;32m    462\u001b[0m     \u001b[38;5;28mself\u001b[39m\u001b[38;5;241m.\u001b[39mabi,\n\u001b[1;32m    463\u001b[0m     state_override,\n\u001b[1;32m    464\u001b[0m     ccip_read_enabled,\n\u001b[1;32m    465\u001b[0m     \u001b[38;5;28mself\u001b[39m\u001b[38;5;241m.\u001b[39mdecode_tuples,\n\u001b[1;32m    466\u001b[0m     \u001b[38;5;241m*\u001b[39m\u001b[38;5;28mself\u001b[39m\u001b[38;5;241m.\u001b[39margs \u001b[38;5;129;01mor\u001b[39;00m (),\n\u001b[1;32m    467\u001b[0m     \u001b[38;5;241m*\u001b[39m\u001b[38;5;241m*\u001b[39m\u001b[38;5;28mself\u001b[39m\u001b[38;5;241m.\u001b[39mkwargs \u001b[38;5;129;01mor\u001b[39;00m {},\n\u001b[1;32m    468\u001b[0m )\n",
      "File \u001b[0;32m~/projects/sugar-sdk/env/lib/python3.10/site-packages/web3/contract/utils.py:453\u001b[0m, in \u001b[0;36masync_call_contract_function\u001b[0;34m(async_w3, address, normalizers, abi_element_identifier, transaction, block_id, contract_abi, fn_abi, state_override, ccip_read_enabled, decode_tuples, *args, **kwargs)\u001b[0m\n\u001b[1;32m    438\u001b[0m \u001b[38;5;250m\u001b[39m\u001b[38;5;124;03m\"\"\"\u001b[39;00m\n\u001b[1;32m    439\u001b[0m \u001b[38;5;124;03mHelper function for interacting with a contract function using the\u001b[39;00m\n\u001b[1;32m    440\u001b[0m \u001b[38;5;124;03m`eth_call` API.\u001b[39;00m\n\u001b[1;32m    441\u001b[0m \u001b[38;5;124;03m\"\"\"\u001b[39;00m\n\u001b[1;32m    442\u001b[0m call_transaction \u001b[38;5;241m=\u001b[39m prepare_transaction(\n\u001b[1;32m    443\u001b[0m     address,\n\u001b[1;32m    444\u001b[0m     async_w3,\n\u001b[0;32m   (...)\u001b[0m\n\u001b[1;32m    450\u001b[0m     fn_kwargs\u001b[38;5;241m=\u001b[39mkwargs,\n\u001b[1;32m    451\u001b[0m )\n\u001b[0;32m--> 453\u001b[0m return_data \u001b[38;5;241m=\u001b[39m \u001b[38;5;28;01mawait\u001b[39;00m async_w3\u001b[38;5;241m.\u001b[39meth\u001b[38;5;241m.\u001b[39mcall(\n\u001b[1;32m    454\u001b[0m     call_transaction,\n\u001b[1;32m    455\u001b[0m     block_identifier\u001b[38;5;241m=\u001b[39mblock_id,\n\u001b[1;32m    456\u001b[0m     state_override\u001b[38;5;241m=\u001b[39mstate_override,\n\u001b[1;32m    457\u001b[0m     ccip_read_enabled\u001b[38;5;241m=\u001b[39mccip_read_enabled,\n\u001b[1;32m    458\u001b[0m )\n\u001b[1;32m    460\u001b[0m \u001b[38;5;28;01mif\u001b[39;00m fn_abi \u001b[38;5;129;01mis\u001b[39;00m \u001b[38;5;28;01mNone\u001b[39;00m:\n\u001b[1;32m    461\u001b[0m     fn_abi \u001b[38;5;241m=\u001b[39m cast(\n\u001b[1;32m    462\u001b[0m         ABIFunction,\n\u001b[1;32m    463\u001b[0m         get_abi_element(\n\u001b[0;32m   (...)\u001b[0m\n\u001b[1;32m    469\u001b[0m         ),\n\u001b[1;32m    470\u001b[0m     )\n",
      "File \u001b[0;32m~/projects/sugar-sdk/env/lib/python3.10/site-packages/web3/eth/async_eth.py:262\u001b[0m, in \u001b[0;36mAsyncEth.call\u001b[0;34m(self, transaction, block_identifier, state_override, ccip_read_enabled)\u001b[0m\n\u001b[1;32m    252\u001b[0m ccip_read_enabled_on_provider \u001b[38;5;241m=\u001b[39m \u001b[38;5;28mself\u001b[39m\u001b[38;5;241m.\u001b[39mw3\u001b[38;5;241m.\u001b[39mprovider\u001b[38;5;241m.\u001b[39mglobal_ccip_read_enabled\n\u001b[1;32m    253\u001b[0m \u001b[38;5;28;01mif\u001b[39;00m (\n\u001b[1;32m    254\u001b[0m     \u001b[38;5;66;03m# default conditions:\u001b[39;00m\n\u001b[1;32m    255\u001b[0m     ccip_read_enabled_on_provider\n\u001b[0;32m   (...)\u001b[0m\n\u001b[1;32m    260\u001b[0m     \u001b[38;5;129;01mand\u001b[39;00m ccip_read_enabled \u001b[38;5;129;01mis\u001b[39;00m \u001b[38;5;28;01mTrue\u001b[39;00m\n\u001b[1;32m    261\u001b[0m ):\n\u001b[0;32m--> 262\u001b[0m     \u001b[38;5;28;01mreturn\u001b[39;00m \u001b[38;5;28;01mawait\u001b[39;00m \u001b[38;5;28mself\u001b[39m\u001b[38;5;241m.\u001b[39m_durin_call(transaction, block_identifier, state_override)\n\u001b[1;32m    264\u001b[0m \u001b[38;5;28;01mreturn\u001b[39;00m \u001b[38;5;28;01mawait\u001b[39;00m \u001b[38;5;28mself\u001b[39m\u001b[38;5;241m.\u001b[39m_call(transaction, block_identifier, state_override)\n",
      "File \u001b[0;32m~/projects/sugar-sdk/env/lib/python3.10/site-packages/web3/eth/async_eth.py:281\u001b[0m, in \u001b[0;36mAsyncEth._durin_call\u001b[0;34m(self, transaction, block_identifier, state_override)\u001b[0m\n\u001b[1;32m    279\u001b[0m \u001b[38;5;28;01mfor\u001b[39;00m _ \u001b[38;5;129;01min\u001b[39;00m \u001b[38;5;28mrange\u001b[39m(max_redirects):\n\u001b[1;32m    280\u001b[0m     \u001b[38;5;28;01mtry\u001b[39;00m:\n\u001b[0;32m--> 281\u001b[0m         \u001b[38;5;28;01mreturn\u001b[39;00m \u001b[38;5;28;01mawait\u001b[39;00m \u001b[38;5;28mself\u001b[39m\u001b[38;5;241m.\u001b[39m_call(transaction, block_identifier, state_override)\n\u001b[1;32m    282\u001b[0m     \u001b[38;5;28;01mexcept\u001b[39;00m OffchainLookup \u001b[38;5;28;01mas\u001b[39;00m offchain_lookup:\n\u001b[1;32m    283\u001b[0m         durin_calldata \u001b[38;5;241m=\u001b[39m \u001b[38;5;28;01mawait\u001b[39;00m async_handle_offchain_lookup(\n\u001b[1;32m    284\u001b[0m             offchain_lookup\u001b[38;5;241m.\u001b[39mpayload,\n\u001b[1;32m    285\u001b[0m             transaction,\n\u001b[1;32m    286\u001b[0m         )\n",
      "File \u001b[0;32m~/projects/sugar-sdk/env/lib/python3.10/site-packages/web3/module.py:155\u001b[0m, in \u001b[0;36mretrieve_async_method_call_fn.<locals>.caller\u001b[0;34m(*args, **kwargs)\u001b[0m\n\u001b[1;32m    149\u001b[0m \u001b[38;5;28;01melse\u001b[39;00m:\n\u001b[1;32m    150\u001b[0m     (\n\u001b[1;32m    151\u001b[0m         result_formatters,\n\u001b[1;32m    152\u001b[0m         error_formatters,\n\u001b[1;32m    153\u001b[0m         null_result_formatters,\n\u001b[1;32m    154\u001b[0m     ) \u001b[38;5;241m=\u001b[39m response_formatters\n\u001b[0;32m--> 155\u001b[0m     result \u001b[38;5;241m=\u001b[39m \u001b[38;5;28;01mawait\u001b[39;00m async_w3\u001b[38;5;241m.\u001b[39mmanager\u001b[38;5;241m.\u001b[39mcoro_request(\n\u001b[1;32m    156\u001b[0m         method_str, params, error_formatters, null_result_formatters\n\u001b[1;32m    157\u001b[0m     )\n\u001b[1;32m    158\u001b[0m     \u001b[38;5;28;01mreturn\u001b[39;00m apply_result_formatters(result_formatters, result)\n",
      "File \u001b[0;32m~/projects/sugar-sdk/env/lib/python3.10/site-packages/web3/manager.py:415\u001b[0m, in \u001b[0;36mRequestManager.coro_request\u001b[0;34m(self, method, params, error_formatters, null_result_formatters)\u001b[0m\n\u001b[1;32m    411\u001b[0m \u001b[38;5;250m\u001b[39m\u001b[38;5;124;03m\"\"\"\u001b[39;00m\n\u001b[1;32m    412\u001b[0m \u001b[38;5;124;03mCoroutine for making a request using the provider\u001b[39;00m\n\u001b[1;32m    413\u001b[0m \u001b[38;5;124;03m\"\"\"\u001b[39;00m\n\u001b[1;32m    414\u001b[0m response \u001b[38;5;241m=\u001b[39m \u001b[38;5;28;01mawait\u001b[39;00m \u001b[38;5;28mself\u001b[39m\u001b[38;5;241m.\u001b[39m_coro_make_request(method, params)\n\u001b[0;32m--> 415\u001b[0m \u001b[38;5;28;01mreturn\u001b[39;00m \u001b[38;5;28;43mself\u001b[39;49m\u001b[38;5;241;43m.\u001b[39;49m\u001b[43mformatted_response\u001b[49m\u001b[43m(\u001b[49m\n\u001b[1;32m    416\u001b[0m \u001b[43m    \u001b[49m\u001b[43mresponse\u001b[49m\u001b[43m,\u001b[49m\u001b[43m \u001b[49m\u001b[43mparams\u001b[49m\u001b[43m,\u001b[49m\u001b[43m \u001b[49m\u001b[43merror_formatters\u001b[49m\u001b[43m,\u001b[49m\u001b[43m \u001b[49m\u001b[43mnull_result_formatters\u001b[49m\n\u001b[1;32m    417\u001b[0m \u001b[43m\u001b[49m\u001b[43m)\u001b[49m\n",
      "File \u001b[0;32m~/projects/sugar-sdk/env/lib/python3.10/site-packages/web3/manager.py:366\u001b[0m, in \u001b[0;36mRequestManager.formatted_response\u001b[0;34m(self, response, params, error_formatters, null_result_formatters)\u001b[0m\n\u001b[1;32m    352\u001b[0m \u001b[38;5;28;01mdef\u001b[39;00m\u001b[38;5;250m \u001b[39m\u001b[38;5;21mformatted_response\u001b[39m(\n\u001b[1;32m    353\u001b[0m     \u001b[38;5;28mself\u001b[39m,\n\u001b[1;32m    354\u001b[0m     response: RPCResponse,\n\u001b[0;32m   (...)\u001b[0m\n\u001b[1;32m    357\u001b[0m     null_result_formatters: Optional[Callable[\u001b[38;5;241m.\u001b[39m\u001b[38;5;241m.\u001b[39m\u001b[38;5;241m.\u001b[39m, Any]] \u001b[38;5;241m=\u001b[39m \u001b[38;5;28;01mNone\u001b[39;00m,\n\u001b[1;32m    358\u001b[0m ) \u001b[38;5;241m-\u001b[39m\u001b[38;5;241m>\u001b[39m Any:\n\u001b[1;32m    359\u001b[0m     is_subscription_response \u001b[38;5;241m=\u001b[39m (\n\u001b[1;32m    360\u001b[0m         response\u001b[38;5;241m.\u001b[39mget(\u001b[38;5;124m\"\u001b[39m\u001b[38;5;124mmethod\u001b[39m\u001b[38;5;124m\"\u001b[39m) \u001b[38;5;241m==\u001b[39m \u001b[38;5;124m\"\u001b[39m\u001b[38;5;124meth_subscription\u001b[39m\u001b[38;5;124m\"\u001b[39m\n\u001b[1;32m    361\u001b[0m         \u001b[38;5;129;01mand\u001b[39;00m response\u001b[38;5;241m.\u001b[39mget(\u001b[38;5;124m\"\u001b[39m\u001b[38;5;124mparams\u001b[39m\u001b[38;5;124m\"\u001b[39m) \u001b[38;5;129;01mis\u001b[39;00m \u001b[38;5;129;01mnot\u001b[39;00m \u001b[38;5;28;01mNone\u001b[39;00m\n\u001b[1;32m    362\u001b[0m         \u001b[38;5;129;01mand\u001b[39;00m response[\u001b[38;5;124m\"\u001b[39m\u001b[38;5;124mparams\u001b[39m\u001b[38;5;124m\"\u001b[39m]\u001b[38;5;241m.\u001b[39mget(\u001b[38;5;124m\"\u001b[39m\u001b[38;5;124msubscription\u001b[39m\u001b[38;5;124m\"\u001b[39m) \u001b[38;5;129;01mis\u001b[39;00m \u001b[38;5;129;01mnot\u001b[39;00m \u001b[38;5;28;01mNone\u001b[39;00m\n\u001b[1;32m    363\u001b[0m         \u001b[38;5;129;01mand\u001b[39;00m response[\u001b[38;5;124m\"\u001b[39m\u001b[38;5;124mparams\u001b[39m\u001b[38;5;124m\"\u001b[39m]\u001b[38;5;241m.\u001b[39mget(\u001b[38;5;124m\"\u001b[39m\u001b[38;5;124mresult\u001b[39m\u001b[38;5;124m\"\u001b[39m) \u001b[38;5;129;01mis\u001b[39;00m \u001b[38;5;129;01mnot\u001b[39;00m \u001b[38;5;28;01mNone\u001b[39;00m\n\u001b[1;32m    364\u001b[0m     )\n\u001b[0;32m--> 366\u001b[0m     \u001b[43m_validate_response\u001b[49m\u001b[43m(\u001b[49m\n\u001b[1;32m    367\u001b[0m \u001b[43m        \u001b[49m\u001b[43mresponse\u001b[49m\u001b[43m,\u001b[49m\n\u001b[1;32m    368\u001b[0m \u001b[43m        \u001b[49m\u001b[43merror_formatters\u001b[49m\u001b[43m,\u001b[49m\n\u001b[1;32m    369\u001b[0m \u001b[43m        \u001b[49m\u001b[43mis_subscription_response\u001b[49m\u001b[38;5;241;43m=\u001b[39;49m\u001b[43mis_subscription_response\u001b[49m\u001b[43m,\u001b[49m\n\u001b[1;32m    370\u001b[0m \u001b[43m        \u001b[49m\u001b[43mlogger\u001b[49m\u001b[38;5;241;43m=\u001b[39;49m\u001b[38;5;28;43mself\u001b[39;49m\u001b[38;5;241;43m.\u001b[39;49m\u001b[43mlogger\u001b[49m\u001b[43m,\u001b[49m\n\u001b[1;32m    371\u001b[0m \u001b[43m        \u001b[49m\u001b[43mparams\u001b[49m\u001b[38;5;241;43m=\u001b[39;49m\u001b[43mparams\u001b[49m\u001b[43m,\u001b[49m\n\u001b[1;32m    372\u001b[0m \u001b[43m    \u001b[49m\u001b[43m)\u001b[49m\n\u001b[1;32m    374\u001b[0m     \u001b[38;5;66;03m# format results\u001b[39;00m\n\u001b[1;32m    375\u001b[0m     \u001b[38;5;28;01mif\u001b[39;00m \u001b[38;5;124m\"\u001b[39m\u001b[38;5;124mresult\u001b[39m\u001b[38;5;124m\"\u001b[39m \u001b[38;5;129;01min\u001b[39;00m response:\n\u001b[1;32m    376\u001b[0m         \u001b[38;5;66;03m# Null values for result should apply null_result_formatters\u001b[39;00m\n\u001b[1;32m    377\u001b[0m         \u001b[38;5;66;03m# Skip when result not present in the response (fallback to False)\u001b[39;00m\n",
      "File \u001b[0;32m~/projects/sugar-sdk/env/lib/python3.10/site-packages/web3/manager.py:263\u001b[0m, in \u001b[0;36m_validate_response\u001b[0;34m(response, error_formatters, is_subscription_response, logger, params)\u001b[0m\n\u001b[1;32m    260\u001b[0m     response \u001b[38;5;241m=\u001b[39m apply_error_formatters(error_formatters, response)\n\u001b[1;32m    261\u001b[0m     logger\u001b[38;5;241m.\u001b[39mdebug(\u001b[38;5;124mf\u001b[39m\u001b[38;5;124m\"\u001b[39m\u001b[38;5;124mRPC error response: \u001b[39m\u001b[38;5;132;01m{\u001b[39;00mresponse\u001b[38;5;132;01m}\u001b[39;00m\u001b[38;5;124m\"\u001b[39m)\n\u001b[0;32m--> 263\u001b[0m     \u001b[38;5;28;01mraise\u001b[39;00m web3_rpc_error\n\u001b[1;32m    265\u001b[0m \u001b[38;5;28;01melif\u001b[39;00m \u001b[38;5;124m\"\u001b[39m\u001b[38;5;124mresult\u001b[39m\u001b[38;5;124m\"\u001b[39m \u001b[38;5;129;01mnot\u001b[39;00m \u001b[38;5;129;01min\u001b[39;00m response \u001b[38;5;129;01mand\u001b[39;00m \u001b[38;5;129;01mnot\u001b[39;00m is_subscription_response:\n\u001b[1;32m    266\u001b[0m     _raise_bad_response_format(response)\n",
      "\u001b[0;31mWeb3RPCError\u001b[0m: {'code': -32000, 'message': 'out of gas'}"
     ]
    }
   ],
   "source": [
    "async with OPChain() as chain:\n",
    "    pools = await chain.get_pools()\n",
    "    pools = list(filter(lambda x: x.token0 and x.token0.token_address == chain.usdc and x.token1.token_address == chain.velo, pools))\n",
    "    async with OPChainSimnet() as supersim:\n",
    "        # 0.02 USDC \n",
    "        await supersim.deposit(Deposit(pools[0], 0.02))"
   ]
  },
  {
   "cell_type": "markdown",
   "metadata": {},
   "source": [
    "Native -> non Native on OP"
   ]
  },
  {
   "cell_type": "code",
   "execution_count": null,
   "metadata": {},
   "outputs": [
    {
     "name": "stdout",
     "output_type": "stream",
     "text": [
      "gonna deposit 0.0001 WETH into vAMM-WETH/VELO from 0x1e7A6B63F98484514610A9F0D5b399d4F7a9b1dA\n",
      "Quote: WETH 0.0001 -> VELO 3.8038150740000978\n",
      "setting up allowance for WETH\n",
      "sign_and_send_tx: <Function approve(address,uint256) bound to ('0xa062aE8A9c5e11aaA026fc2670B0D65cCc8B2858', 100000000000000)> with value: 0\n",
      "setting up allowance for VELO\n",
      "sign_and_send_tx: <Function approve(address,uint256) bound to ('0xa062aE8A9c5e11aaA026fc2670B0D65cCc8B2858', 3803815074000097664)> with value: 0\n",
      "allowances: 100000000000000, 3803815074000097664\n",
      "adding liquidity with params: ['0x9560e827aF36c94D2Ac33a39bCE1Fe78631088Db', False, 3803815074000097664, 3765776923260097024, 99000000000000, '0x1e7A6B63F98484514610A9F0D5b399d4F7a9b1dA', 1740396886]\n",
      "sign_and_send_tx: <Function addLiquidityETH(address,bool,uint256,uint256,uint256,address,uint256) bound to ('0x9560e827aF36c94D2Ac33a39bCE1Fe78631088Db', False, 3803815074000097664, 3765776923260097024, 99000000000000, '0x1e7A6B63F98484514610A9F0D5b399d4F7a9b1dA', 1740396886)> with value: 100000000000000\n"
     ]
    }
   ],
   "source": [
    "async with OPChain() as op:\n",
    "    pools = await op.get_pools()\n",
    "    # find WETH/Velo pool\n",
    "    weth_velo_pool = next(filter(lambda p: p.token0.token_address == op.settings.wrapped_native_token_addr and p.token1.token_address == OPChain.velo, pools), None)\n",
    "    test_ne(weth_velo_pool, None)\n",
    "    async with OPChainSimnet() as supersim:\n",
    "        await supersim.deposit(Deposit(weth_velo_pool, 0.0001))\n"
   ]
  },
  {
   "cell_type": "markdown",
   "metadata": {},
   "source": [
    "Basic deposit on Base"
   ]
  },
  {
   "cell_type": "code",
   "execution_count": null,
   "metadata": {},
   "outputs": [
    {
     "name": "stdout",
     "output_type": "stream",
     "text": [
      "gonna deposit 0.01 USDC into vAMM-USDC/AERO from 0x1e7A6B63F98484514610A9F0D5b399d4F7a9b1dA\n",
      "Quote: USDC 0.01 -> AERO 0.01331474979106487\n",
      "setting up allowance for USDC\n",
      "sign_and_send_tx: <Function approve(address,uint256) bound to ('0xcF77a3Ba9A5CA399B7c97c74d54e5b1Beb874E43', 10000)> with value: 0\n",
      "setting up allowance for AERO\n",
      "sign_and_send_tx: <Function approve(address,uint256) bound to ('0xcF77a3Ba9A5CA399B7c97c74d54e5b1Beb874E43', 13314749791064871)> with value: 0\n",
      "allowances: 10000, 13314749791064871\n",
      "adding liquidity with params: ['0x833589fCD6eDb6E08f4c7C32D4f71b54bdA02913', '0x940181a94A35A4569E4529A3CDfB74e38FD98631', False, 10000, 13314749791064871, 9500, 12649012301511628, '0x1e7A6B63F98484514610A9F0D5b399d4F7a9b1dA', 1740396921]\n",
      "sign_and_send_tx: <Function addLiquidity(address,address,bool,uint256,uint256,uint256,uint256,address,uint256) bound to ('0x833589fCD6eDb6E08f4c7C32D4f71b54bdA02913', '0x940181a94A35A4569E4529A3CDfB74e38FD98631', False, 10000, 13314749791064871, 9500, 12649012301511628, '0x1e7A6B63F98484514610A9F0D5b399d4F7a9b1dA', 1740396921)> with value: 0\n"
     ]
    }
   ],
   "source": [
    "async with BaseChain() as chain:\n",
    "    pools = await chain.get_pools()\n",
    "    pools = list(filter(lambda x: x.token0 and x.token0.token_address == chain.usdc and x.token1.token_address == chain.aero, pools))\n",
    "    async with BaseChainSimnet() as supersim:\n",
    "        # 0.02 USDC \n",
    "        await supersim.deposit(Deposit(pools[0], 0.01), slippage=0.05)"
   ]
  },
  {
   "cell_type": "markdown",
   "metadata": {},
   "source": [
    "CL on OP"
   ]
  },
  {
   "cell_type": "code",
   "execution_count": null,
   "metadata": {},
   "outputs": [],
   "source": [
    "# WIP\n",
    "# async with OPChain() as chain:\n",
    "#     pools = await chain.get_pools()\n",
    "#     # CL200-USDC/VELO\n",
    "#     cl_usdc_velo = next(filter(lambda x: x.token0 and x.token0.token_address == chain.usdc and x.token1.token_address == chain.velo and x.is_cl, pools), None)\n",
    "#     test_ne(cl_usdc_velo, None)\n",
    "#     async with OPChainSimnet() as supersim:\n",
    "#         await supersim.deposit(Deposit(cl_usdc_velo, 0.02))"
   ]
  },
  {
   "cell_type": "code",
   "execution_count": null,
   "metadata": {},
   "outputs": [],
   "source": [
    "#| hide\n",
    "\n",
    "import nbdev; nbdev.nbdev_export()"
   ]
  }
 ],
 "metadata": {
  "kernelspec": {
   "display_name": "python3",
   "language": "python",
   "name": "python3"
  }
 },
 "nbformat": 4,
 "nbformat_minor": 2
}
