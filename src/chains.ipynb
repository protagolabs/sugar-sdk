{
 "cells": [
  {
   "cell_type": "markdown",
   "metadata": {},
   "source": [
    "# ⛓ Chain "
   ]
  },
  {
   "cell_type": "code",
   "execution_count": null,
   "metadata": {},
   "outputs": [],
   "source": [
    "#| default_exp chains"
   ]
  },
  {
   "cell_type": "code",
   "execution_count": null,
   "metadata": {},
   "outputs": [],
   "source": [
    "#| hide\n",
    "from nbdev.showdoc import *"
   ]
  },
  {
   "cell_type": "code",
   "execution_count": null,
   "metadata": {},
   "outputs": [],
   "source": [
    "#| export\n",
    "\n",
    "import asyncio, web3, os\n",
    "from functools import wraps, reduce\n",
    "from typing import List, TypeVar, Callable, Optional, Tuple\n",
    "from fastcore.utils import patch\n",
    "from web3 import AsyncWeb3, AsyncHTTPProvider, Account\n",
    "from web3.eth.async_eth import AsyncContract\n",
    "from sugar.config import ChainSettings, make_op_chain_settings, make_base_chain_settings\n",
    "from sugar.helpers import normalize_address, MAX_UINT256, float_to_uint256, apply_slippage, get_future_timestamp\n",
    "from sugar.abi import sugar, price_oracle, router\n",
    "from sugar.token import Token\n",
    "from sugar.pool import LiquidityPool\n",
    "from sugar.price import Price\n",
    "from sugar.deposit import Deposit\n",
    "from sugar.helpers import ADDRESS_ZERO, chunk, normalize_address"
   ]
  },
  {
   "cell_type": "markdown",
   "metadata": {},
   "source": [
    "## Chain implementation "
   ]
  },
  {
   "cell_type": "code",
   "execution_count": null,
   "metadata": {},
   "outputs": [],
   "source": [
    "#| export\n",
    "\n",
    "T = TypeVar('T')\n",
    "\n",
    "def require_context(f: Callable[..., T]) -> Callable[..., T]:\n",
    "    @wraps(f)\n",
    "    async def wrapper(self: 'Chain', *args, **kwargs) -> T:\n",
    "        if not self._in_context: raise RuntimeError(\"Chain methods can only be accessed within 'async with' block\")\n",
    "        return await f(self, *args, **kwargs)\n",
    "    return wrapper\n",
    "\n",
    "class Chain:\n",
    "    account: Optional[Account]\n",
    "    web3: AsyncWeb3\n",
    "    sugar: AsyncContract\n",
    "    router: AsyncContract\n",
    "\n",
    "    def __init__(self, settings: ChainSettings):\n",
    "        self.settings, self._in_context = settings, False\n",
    "\n",
    "    @property\n",
    "    def account(self) -> Account: return self.web3.eth.account.from_key(os.getenv(\"SUGAR_PK\"))\n",
    "\n",
    "    async def __aenter__(self):\n",
    "        \"\"\"Async context manager entry\"\"\"\n",
    "        self._in_context = True\n",
    "        self.web3 = AsyncWeb3(AsyncHTTPProvider(self.settings.rpc_uri))\n",
    "        self.sugar = self.web3.eth.contract(address=self.settings.sugar_contract_addr, abi=sugar)\n",
    "        self.prices = self.web3.eth.contract(address=self.settings.price_oracle_contract_addr, abi=price_oracle)\n",
    "        self.router = self.web3.eth.contract(address=self.settings.router_contract_addr, abi=router)\n",
    "        return self\n",
    "\n",
    "    async def __aexit__(self, exc_type, exc_val, exc_tb):\n",
    "        \"\"\"Async context manager exit\"\"\"\n",
    "        self._in_context = False\n",
    "        await self.web3.provider.disconnect()\n",
    "        return None"
   ]
  },
  {
   "cell_type": "markdown",
   "metadata": {},
   "source": [
    "### Get tokens"
   ]
  },
  {
   "cell_type": "code",
   "execution_count": null,
   "metadata": {},
   "outputs": [],
   "source": [
    "#| export\n",
    "\n",
    "@patch\n",
    "@require_context\n",
    "async def get_all_tokens(self: Chain, listed_only: bool = True) -> List[Token]:\n",
    "    tokens = list(map(lambda t: Token.from_tuple(t), await self.sugar.functions.tokens(self.settings.pagination_limit, 0, ADDRESS_ZERO, []).call()))\n",
    "    return list(filter(lambda t: t.listed, tokens)) if listed_only else tokens\n",
    "   "
   ]
  },
  {
   "cell_type": "markdown",
   "metadata": {},
   "source": [
    "### Get pools"
   ]
  },
  {
   "cell_type": "code",
   "execution_count": null,
   "metadata": {},
   "outputs": [],
   "source": [
    "#| export\n",
    "\n",
    "@patch\n",
    "@require_context\n",
    "async def get_pools(self: Chain) -> List[LiquidityPool]:\n",
    "    pools, offset, limit = [], 0, self.settings.pool_page_size\n",
    "    tokens = await self.get_all_tokens()\n",
    "    prices = await self.get_prices(tokens)\n",
    "    tokens = {t.token_address: t for t in tokens}\n",
    "    prices = {price.token.token_address: price for price in prices}\n",
    "\n",
    "    while True:\n",
    "        pools_batch = await self.sugar.functions.all(limit, offset).call()\n",
    "        pools += pools_batch\n",
    "        if len(pools_batch) < limit: break\n",
    "        else: offset += limit\n",
    "\n",
    "    return list(filter(lambda p: p is not None, map(lambda p: LiquidityPool.from_tuple(p, tokens), pools)))"
   ]
  },
  {
   "cell_type": "markdown",
   "metadata": {},
   "source": [
    "### Get prices"
   ]
  },
  {
   "cell_type": "code",
   "execution_count": null,
   "metadata": {},
   "outputs": [],
   "source": [
    "#| export\n",
    "\n",
    "# @cache_in_seconds(ORACLE_PRICES_CACHE_MINUTES * 60)\n",
    "@patch\n",
    "async def _get_prices(self: Chain, tokens: Tuple[Token]):\n",
    "    prices = await self.prices.functions.getManyRatesWithCustomConnectors(\n",
    "        list(map(lambda t: t.token_address, tokens)),\n",
    "        self.settings.stable_token_addr,\n",
    "        False, # use wrappers\n",
    "        self.settings.connector_tokens_addrs,\n",
    "        10 # threshold_filer\n",
    "    ).call()\n",
    "    # 6 decimals for USDC\n",
    "    return [Price(token=tokens[cnt], price=price / 10**6) for cnt, price in enumerate(prices)]\n",
    "\n",
    "@patch\n",
    "@require_context\n",
    "async def get_prices(self: Chain, tokens: List[Token]) -> List[Price]:\n",
    "    \"\"\"Get prices for tokens in target stable token\"\"\"\n",
    "    # filter out stable token from tokens list so getManyRatesWithCustomConnectors so does not freak out\n",
    "    tokens_without_stable = list(filter(lambda t: t.token_address != self.settings.stable_token_addr, tokens))\n",
    "    stable = next(filter(lambda t: t.token_address == self.settings.stable_token_addr, tokens), None)\n",
    "\n",
    "    batches = await asyncio.gather(\n",
    "        *map(\n",
    "            # XX: lists are not cacheable, convert them to tuples so lru cache is happy\n",
    "            lambda ts: self._get_prices(tuple(ts)),\n",
    "            list(chunk(tokens_without_stable, self.settings.price_batch_size)),\n",
    "        )\n",
    "    )\n",
    "    return ([Price(token=stable, price=1)] if stable else []) + reduce(lambda l1, l2: l1 + l2, batches, [])\n"
   ]
  },
  {
   "cell_type": "markdown",
   "metadata": {},
   "source": [
    "### Sign and send transaction"
   ]
  },
  {
   "cell_type": "code",
   "execution_count": null,
   "metadata": {},
   "outputs": [],
   "source": [
    "#| export\n",
    "\n",
    "@patch\n",
    "@require_context\n",
    "async def sign_and_send_tx(self: Chain, tx, wait: bool = True):\n",
    "    spender = self.account.address\n",
    "    tx = await tx.build_transaction({ 'from': spender, 'nonce': await self.web3.eth.get_transaction_count(spender) })\n",
    "    signed_tx = self.account.sign_transaction(tx)\n",
    "    tx_hash = await self.web3.eth.send_raw_transaction(signed_tx.raw_transaction)\n",
    "    return await self.web3.eth.wait_for_transaction_receipt(tx_hash) if wait else tx_hash"
   ]
  },
  {
   "cell_type": "markdown",
   "metadata": {},
   "source": [
    "### Set and check token allowance"
   ]
  },
  {
   "cell_type": "code",
   "execution_count": null,
   "metadata": {},
   "outputs": [],
   "source": [
    "#| export\n",
    "\n",
    "@patch\n",
    "@require_context\n",
    "async def set_token_allowance(self: Chain, token: Token, addr: str, amount: int):\n",
    "    ERC20_ABI = [{\n",
    "        \"name\": \"approve\",\n",
    "        \"type\": \"function\",\n",
    "        \"constant\": False,\n",
    "        \"inputs\": [{\"name\": \"spender\", \"type\": \"address\"}, {\"name\": \"amount\", \"type\": \"uint256\"}],\n",
    "        \"outputs\": [{\"name\": \"\", \"type\": \"bool\"}]\n",
    "    }]\n",
    "    token_contract = self.web3.eth.contract(address=token.token_address, abi=ERC20_ABI)\n",
    "    return await self.sign_and_send_tx(token_contract.functions.approve(addr, amount))\n",
    "\n",
    "@patch\n",
    "@require_context\n",
    "async def check_token_allowance(self: Chain, token: Token, addr: str) -> int:\n",
    "    ERC20_ABI = [{\n",
    "        \"name\": \"allowance\",\n",
    "        \"type\": \"function\",\n",
    "        \"constant\": True,\n",
    "        \"inputs\": [{\"name\": \"owner\", \"type\": \"address\"}, {\"name\": \"spender\", \"type\": \"address\"}],\n",
    "        \"outputs\": [{\"name\": \"\", \"type\": \"uint256\"}]\n",
    "    }]\n",
    "    token_contract = self.web3.eth.contract(address=token.token_address, abi=ERC20_ABI)\n",
    "    return await token_contract.functions.allowance(self.account.address, addr).call()\n"
   ]
  },
  {
   "cell_type": "markdown",
   "metadata": {},
   "source": [
    "### Deposit"
   ]
  },
  {
   "cell_type": "code",
   "execution_count": null,
   "metadata": {},
   "outputs": [],
   "source": [
    "#| export\n",
    "\n",
    "@patch\n",
    "@require_context\n",
    "async def deposit(self: Chain, deposit: Deposit, delay_in_minutes: float = 30, slippage: float = 0.01):\n",
    "    amount_token0, pool, router_contract_addr = deposit.amount_token0, deposit.pool, self.settings.router_contract_addr\n",
    "    print(f\"gonna deposit {amount_token0} {pool.token0.symbol} into {pool.symbol} from {self.account.address}\")\n",
    "    [token0_amount, token1_amount, _] = await self.router.functions.quoteAddLiquidity(\n",
    "        pool.token0.token_address,\n",
    "        pool.token1.token_address,\n",
    "        pool.is_stable,\n",
    "        pool.factory,\n",
    "        float_to_uint256(amount_token0, pool.token0.decimals),\n",
    "        MAX_UINT256\n",
    "    ).call()\n",
    "    print(f\"Quote: {pool.token0.symbol} {token0_amount / 10 ** pool.token0.decimals} -> {pool.token1.symbol} {token1_amount / 10 ** pool.token1.decimals}\")\n",
    "\n",
    "    # set up allowance for both tokens\n",
    "    print(f\"setting up allowance for {pool.token0.symbol}\")\n",
    "    await self.set_token_allowance(pool.token0, router_contract_addr, token0_amount)\n",
    "\n",
    "    print(f\"setting up allowance for {pool.token1.symbol}\")\n",
    "    await self.set_token_allowance(pool.token1, router_contract_addr, token1_amount)\n",
    "\n",
    "    # check allowances\n",
    "    token0_allowance = await self.check_token_allowance(pool.token0, router_contract_addr)\n",
    "    token1_allowance = await self.check_token_allowance(pool.token1, router_contract_addr)\n",
    "\n",
    "    print(f\"allowances: {token0_allowance}, {token1_allowance}\")\n",
    "\n",
    "    # adding liquidity\n",
    "\n",
    "    params = [\n",
    "        pool.token0.token_address,\n",
    "        pool.token1.token_address,\n",
    "        pool.is_stable,\n",
    "        token0_amount,\n",
    "        token1_amount,\n",
    "        apply_slippage(token0_amount, slippage),\n",
    "        apply_slippage(token1_amount, slippage),\n",
    "        self.account.address,\n",
    "        get_future_timestamp(delay_in_minutes)\n",
    "    ]\n",
    "\n",
    "    print(f\"adding liquidity with params: {params}\")\n",
    "\n",
    "    return await self.sign_and_send_tx(self.router.functions.addLiquidity(*params))"
   ]
  },
  {
   "cell_type": "markdown",
   "metadata": {},
   "source": [
    "## OP Chain"
   ]
  },
  {
   "cell_type": "code",
   "execution_count": null,
   "metadata": {},
   "outputs": [],
   "source": [
    "#| export\n",
    "\n",
    "class OPChain(Chain):\n",
    "    usdc: str = normalize_address(\"0x0b2C639c533813f4Aa9D7837CAf62653d097Ff85\")\n",
    "    velo: str = normalize_address(\"0x9560e827aF36c94D2Ac33a39bCE1Fe78631088Db\")\n",
    "\n",
    "    def __init__(self, **kwargs): super().__init__(make_op_chain_settings(**kwargs))\n"
   ]
  },
  {
   "cell_type": "markdown",
   "metadata": {},
   "source": [
    "## Base Chain"
   ]
  },
  {
   "cell_type": "code",
   "execution_count": null,
   "metadata": {},
   "outputs": [],
   "source": [
    "#| export\n",
    "\n",
    "class BaseChain(Chain):\n",
    "    usdc: str = normalize_address(\"0x833589fcd6edb6e08f4c7c32d4f71b54bda02913\")\n",
    "    aero: str = normalize_address(\"0x940181a94a35a4569e4529a3cdfb74e38fd98631\")\n",
    "\n",
    "    def __init__(self, **kwargs): super().__init__(make_base_chain_settings(**kwargs))"
   ]
  },
  {
   "cell_type": "markdown",
   "metadata": {},
   "source": [
    "## Simnet versions of chains\n",
    "\n",
    "Simnet URIs:\n",
    "\n",
    "- OP: http://127.0.0.1:4444\n",
    "- Base: http://127.0.0.1:4445\n",
    "\n",
    "This assumes the following setup:\n",
    "\n",
    "```\n",
    "supersim fork  --l2.host=0.0.0.0 --l2.starting.port=4444 --chains=op,base\n",
    "```"
   ]
  },
  {
   "cell_type": "code",
   "execution_count": null,
   "metadata": {},
   "outputs": [],
   "source": [
    "#| export \n",
    "\n",
    "class OPChainSimnet(OPChain):\n",
    "    def __init__(self,  **kwargs): super().__init__(rpc_uri=\"http://127.0.0.1:4444\", **kwargs)\n",
    "\n",
    "class BaseChainSimnet(BaseChain):\n",
    "    def __init__(self,  **kwargs): super().__init__(rpc_uri=\"http://127.0.0.1:4445\", **kwargs)"
   ]
  },
  {
   "cell_type": "markdown",
   "metadata": {},
   "source": [
    "## Tests\n",
    "\n",
    "Run tests using mainnets for reads and simnet for writes"
   ]
  },
  {
   "cell_type": "markdown",
   "metadata": {},
   "source": [
    "Make sure simnet is running"
   ]
  },
  {
   "cell_type": "code",
   "execution_count": null,
   "metadata": {},
   "outputs": [],
   "source": [
    "from fastcore.test import test_eq\n",
    "import socket\n",
    "\n",
    "host, port ='127.0.0.1', 4444\n",
    "try:\n",
    "    sock = socket.socket(socket.AF_INET, socket.SOCK_STREAM)\n",
    "    sock.settimeout(2)\n",
    "    result = sock.connect_ex((host, port))\n",
    "    test_eq(result, 0)\n",
    "except socket.error as err:\n",
    "    test_eq(err, None)\n",
    "finally:\n",
    "    sock.close()"
   ]
  },
  {
   "cell_type": "markdown",
   "metadata": {},
   "source": [
    "Make sure PK is set for writes"
   ]
  },
  {
   "cell_type": "code",
   "execution_count": null,
   "metadata": {},
   "outputs": [],
   "source": [
    "import os\n",
    "from fastcore.test import test_ne\n",
    "from dotenv import load_dotenv\n",
    "\n",
    "load_dotenv()\n",
    "\n",
    "test_ne(os.getenv(\"SUGAR_PK\"), None)"
   ]
  },
  {
   "cell_type": "code",
   "execution_count": null,
   "metadata": {},
   "outputs": [
    {
     "name": "stdout",
     "output_type": "stream",
     "text": [
      "gonna deposit 0.02 USDC into vAMMV2-USDC/VELO from 0x1e7A6B63F98484514610A9F0D5b399d4F7a9b1dA\n",
      "Quote: USDC 0.02 -> VELO 0.26985933906757903\n",
      "setting up allowance for USDC\n",
      "setting up allowance for VELO\n",
      "allowances: 20000, 269859339067579017\n",
      "adding liquidity with params: ['0x0b2C639c533813f4Aa9D7837CAf62653d097Ff85', '0x9560e827aF36c94D2Ac33a39bCE1Fe78631088Db', False, 20000, 269859339067579017, 19800, 267160745676903200, '0x1e7A6B63F98484514610A9F0D5b399d4F7a9b1dA', 1739807634]\n",
      "gonna deposit 0.01 USDC into vAMM-USDC/AERO from 0x1e7A6B63F98484514610A9F0D5b399d4F7a9b1dA\n",
      "Quote: USDC 0.01 -> AERO 0.011782685665891938\n",
      "setting up allowance for USDC\n",
      "setting up allowance for AERO\n",
      "allowances: 10000, 11782685665891939\n",
      "adding liquidity with params: ['0x833589fCD6eDb6E08f4c7C32D4f71b54bdA02913', '0x940181a94A35A4569E4529A3CDfB74e38FD98631', False, 10000, 11782685665891939, 9500, 11193551382597342, '0x1e7A6B63F98484514610A9F0D5b399d4F7a9b1dA', 1739807658]\n"
     ]
    }
   ],
   "source": [
    "async with OPChain() as chain:\n",
    "    pools = await chain.get_pools()\n",
    "    pools = list(filter(lambda x: x.token0 and x.token0.token_address == chain.usdc and x.token1.token_address == chain.velo, pools))\n",
    "    async with OPChainSimnet() as supersim:\n",
    "        # 0.02 USDC \n",
    "        await supersim.deposit(Deposit(pools[0], 0.02))\n",
    "\n",
    "async with BaseChain() as chain:\n",
    "    pools = await chain.get_pools()\n",
    "    pools = list(filter(lambda x: x.token0 and x.token0.token_address == chain.usdc and x.token1.token_address == chain.aero, pools))\n",
    "    async with BaseChainSimnet() as supersim:\n",
    "        # 0.02 USDC \n",
    "        await supersim.deposit(Deposit(pools[0], 0.01), slippage=0.05)"
   ]
  },
  {
   "cell_type": "code",
   "execution_count": null,
   "metadata": {},
   "outputs": [],
   "source": [
    "#| hide\n",
    "\n",
    "import nbdev; nbdev.nbdev_export()"
   ]
  }
 ],
 "metadata": {
  "kernelspec": {
   "display_name": "python3",
   "language": "python",
   "name": "python3"
  }
 },
 "nbformat": 4,
 "nbformat_minor": 2
}
