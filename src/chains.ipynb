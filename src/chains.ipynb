{
 "cells": [
  {
   "cell_type": "markdown",
   "metadata": {},
   "source": [
    "# ⛓ Chain "
   ]
  },
  {
   "cell_type": "code",
   "execution_count": null,
   "metadata": {},
   "outputs": [],
   "source": [
    "#| default_exp chains"
   ]
  },
  {
   "cell_type": "code",
   "execution_count": null,
   "metadata": {},
   "outputs": [],
   "source": [
    "#| hide\n",
    "from nbdev.showdoc import *"
   ]
  },
  {
   "cell_type": "code",
   "execution_count": null,
   "metadata": {},
   "outputs": [],
   "source": [
    "#| export\n",
    "\n",
    "import asyncio, web3, os\n",
    "from functools import wraps, reduce\n",
    "from typing import List, TypeVar, Callable, Optional, Tuple, Dict\n",
    "from fastcore.utils import patch\n",
    "from web3 import AsyncWeb3, AsyncHTTPProvider, Account\n",
    "from web3.eth.async_eth import AsyncContract\n",
    "from sugar.config import ChainSettings, make_op_chain_settings, make_base_chain_settings\n",
    "from sugar.helpers import normalize_address, MAX_UINT256, float_to_uint256, apply_slippage, get_future_timestamp\n",
    "from sugar.abi import sugar, slipstream, price_oracle, router\n",
    "from sugar.token import Token\n",
    "from sugar.pool import LiquidityPool\n",
    "from sugar.price import Price\n",
    "from sugar.deposit import Deposit\n",
    "from sugar.helpers import ADDRESS_ZERO, chunk, normalize_address"
   ]
  },
  {
   "cell_type": "markdown",
   "metadata": {},
   "source": [
    "## Chain implementation "
   ]
  },
  {
   "cell_type": "code",
   "execution_count": null,
   "metadata": {},
   "outputs": [],
   "source": [
    "#| export\n",
    "\n",
    "T = TypeVar('T')\n",
    "\n",
    "def require_context(f: Callable[..., T]) -> Callable[..., T]:\n",
    "    @wraps(f)\n",
    "    async def wrapper(self: 'Chain', *args, **kwargs) -> T:\n",
    "        if not self._in_context: raise RuntimeError(\"Chain methods can only be accessed within 'async with' block\")\n",
    "        return await f(self, *args, **kwargs)\n",
    "    return wrapper\n",
    "\n",
    "class Chain:\n",
    "    account: Optional[Account]\n",
    "    web3: AsyncWeb3\n",
    "    sugar: AsyncContract\n",
    "    router: AsyncContract\n",
    "\n",
    "    def __init__(self, settings: ChainSettings):\n",
    "        self.settings, self._in_context = settings, False\n",
    "\n",
    "    @property\n",
    "    def account(self) -> Account: return self.web3.eth.account.from_key(os.getenv(\"SUGAR_PK\"))\n",
    "\n",
    "    async def __aenter__(self):\n",
    "        \"\"\"Async context manager entry\"\"\"\n",
    "        self._in_context = True\n",
    "        self.web3 = AsyncWeb3(AsyncHTTPProvider(self.settings.rpc_uri))\n",
    "        self.sugar = self.web3.eth.contract(address=self.settings.sugar_contract_addr, abi=sugar)\n",
    "        self.slipstream = self.web3.eth.contract(address=self.settings.slipstream_contract_addr, abi=slipstream)\n",
    "        self.prices = self.web3.eth.contract(address=self.settings.price_oracle_contract_addr, abi=price_oracle)\n",
    "        self.router = self.web3.eth.contract(address=self.settings.router_contract_addr, abi=router)\n",
    "        return self\n",
    "\n",
    "    async def __aexit__(self, exc_type, exc_val, exc_tb):\n",
    "        \"\"\"Async context manager exit\"\"\"\n",
    "        self._in_context = False\n",
    "        await self.web3.provider.disconnect()\n",
    "        return None"
   ]
  },
  {
   "cell_type": "markdown",
   "metadata": {},
   "source": [
    "### Get tokens"
   ]
  },
  {
   "cell_type": "code",
   "execution_count": null,
   "metadata": {},
   "outputs": [],
   "source": [
    "#| export\n",
    "\n",
    "@patch\n",
    "@require_context\n",
    "async def get_all_tokens(self: Chain, listed_only: bool = True) -> List[Token]:\n",
    "    native = Token.make_native_token(self.settings.native_token_symbol, self.settings.wrapped_native_token_addr, self.settings.native_token_decimals)\n",
    "    tokens = list(map(lambda t: Token.from_tuple(t), await self.sugar.functions.tokens(self.settings.pagination_limit, 0, ADDRESS_ZERO, []).call()))\n",
    "    return [native] + (list(filter(lambda t: t.listed, tokens)) if listed_only else tokens)\n",
    "   "
   ]
  },
  {
   "cell_type": "markdown",
   "metadata": {},
   "source": [
    "### Get pools"
   ]
  },
  {
   "cell_type": "code",
   "execution_count": null,
   "metadata": {},
   "outputs": [],
   "source": [
    "#| export\n",
    "\n",
    "@patch\n",
    "@require_context\n",
    "async def get_pools(self: Chain) -> List[LiquidityPool]:\n",
    "    pools, offset, limit = [], 0, self.settings.pool_page_size\n",
    "    tokens = await self.get_all_tokens()\n",
    "    prices = await self.get_prices(tokens)\n",
    "    tokens, prices = {t.token_address: t for t in tokens}, {price.token.token_address: price for price in prices}\n",
    "\n",
    "    while True:\n",
    "        pools_batch = await self.sugar.functions.all(limit, offset).call()\n",
    "        pools += pools_batch\n",
    "        if len(pools_batch) < limit: break\n",
    "        else: offset += limit\n",
    "\n",
    "    return list(filter(lambda p: p is not None, map(lambda p: LiquidityPool.from_tuple(p, tokens, prices), pools)))"
   ]
  },
  {
   "cell_type": "markdown",
   "metadata": {},
   "source": [
    "### Get prices"
   ]
  },
  {
   "cell_type": "code",
   "execution_count": null,
   "metadata": {},
   "outputs": [],
   "source": [
    "#| export\n",
    "\n",
    "# @cache_in_seconds(ORACLE_PRICES_CACHE_MINUTES * 60)\n",
    "@patch\n",
    "async def _get_prices(self: Chain, tokens: Tuple[Token]) -> List[Dict[str, int]]:\n",
    "    # token_address => normalized rate\n",
    "    result = {}\n",
    "    rates = await self.prices.functions.getManyRatesToEthWithCustomConnectors(\n",
    "        list(map(lambda t: t.wrapped_token_address or t.token_address, tokens)),\n",
    "        False, # use wrappers\n",
    "        self.settings.connector_tokens_addrs,\n",
    "        10 # threshold_filer\n",
    "    ).call()\n",
    "\n",
    "    # rates are returned multiplied by eth decimals + the difference in decimals to eth\n",
    "    # we want them all normalized to 18 decimals\n",
    "    for cnt, rate in enumerate(rates):\n",
    "        t, eth_decimals = tokens[cnt], self.settings.native_token_decimals\n",
    "        if t.decimals == eth_decimals: nr = rate\n",
    "        elif t.decimals < eth_decimals: nr = rate // (10 ** (eth_decimals - t.decimals))\n",
    "        else: nr = rate * (10 ** (t.decimals - eth_decimals))\n",
    "        result[t.token_address] = nr\n",
    "\n",
    "    return result\n",
    "\n",
    "\n",
    "@patch\n",
    "@require_context\n",
    "async def get_prices(self: Chain, tokens: List[Token]) -> List[Price]:\n",
    "    \"\"\"Get prices for tokens in target stable token\"\"\"\n",
    "\n",
    "    eth_decimals = self.settings.native_token_decimals\n",
    "\n",
    "    batches = await asyncio.gather(\n",
    "        *map(\n",
    "            # XX: lists are not cacheable, convert them to tuples so lru cache is happy\n",
    "            lambda ts: self._get_prices(tuple(ts)),\n",
    "            list(chunk(tokens, self.settings.price_batch_size)),\n",
    "        )\n",
    "    )\n",
    "    # all rates in EHT: token => rate\n",
    "    rates_in_eth = reduce(lambda a, b: a | b, batches)\n",
    "    eth_rate, usd_rate = rates_in_eth[self.settings.native_token_symbol], rates_in_eth[self.settings.stable_token_addr]\n",
    "    # this gives us the price of 1 eth in usd with 18 decimals precision\n",
    "    eth_usd_price = (eth_rate * 10 ** eth_decimals) // usd_rate\n",
    "    # finally convert to prices in terms of stable\n",
    "    return [Price(token=t, price=(rates_in_eth[t.token_address] * eth_usd_price // 10 ** eth_decimals) / 10 ** eth_decimals) for t in tokens]"
   ]
  },
  {
   "cell_type": "markdown",
   "metadata": {},
   "source": [
    "### Sign and send transaction"
   ]
  },
  {
   "cell_type": "code",
   "execution_count": null,
   "metadata": {},
   "outputs": [],
   "source": [
    "#| export\n",
    "\n",
    "@patch\n",
    "@require_context\n",
    "async def sign_and_send_tx(self: Chain, tx, value: int = 0, wait: bool = True):\n",
    "    print(f\"sign_and_send_tx: {tx} with value: {value}\")\n",
    "    spender = self.account.address\n",
    "    tx = await tx.build_transaction({ 'from': spender, 'value': value, 'nonce': await self.web3.eth.get_transaction_count(spender) })\n",
    "    signed_tx = self.account.sign_transaction(tx)\n",
    "    tx_hash = await self.web3.eth.send_raw_transaction(signed_tx.raw_transaction)\n",
    "    return await self.web3.eth.wait_for_transaction_receipt(tx_hash) if wait else tx_hash"
   ]
  },
  {
   "cell_type": "markdown",
   "metadata": {},
   "source": [
    "### Set and check token allowance"
   ]
  },
  {
   "cell_type": "code",
   "execution_count": null,
   "metadata": {},
   "outputs": [],
   "source": [
    "#| export\n",
    "\n",
    "@patch\n",
    "@require_context\n",
    "async def set_token_allowance(self: Chain, token: Token, addr: str, amount: int):\n",
    "    ERC20_ABI = [{\n",
    "        \"name\": \"approve\",\n",
    "        \"type\": \"function\",\n",
    "        \"constant\": False,\n",
    "        \"inputs\": [{\"name\": \"spender\", \"type\": \"address\"}, {\"name\": \"amount\", \"type\": \"uint256\"}],\n",
    "        \"outputs\": [{\"name\": \"\", \"type\": \"bool\"}]\n",
    "    }]\n",
    "    token_contract = self.web3.eth.contract(address=token.token_address, abi=ERC20_ABI)\n",
    "    return await self.sign_and_send_tx(token_contract.functions.approve(addr, amount))\n",
    "\n",
    "@patch\n",
    "@require_context\n",
    "async def check_token_allowance(self: Chain, token: Token, addr: str) -> int:\n",
    "    ERC20_ABI = [{\n",
    "        \"name\": \"allowance\",\n",
    "        \"type\": \"function\",\n",
    "        \"constant\": True,\n",
    "        \"inputs\": [{\"name\": \"owner\", \"type\": \"address\"}, {\"name\": \"spender\", \"type\": \"address\"}],\n",
    "        \"outputs\": [{\"name\": \"\", \"type\": \"uint256\"}]\n",
    "    }]\n",
    "    token_contract = self.web3.eth.contract(address=token.token_address, abi=ERC20_ABI)\n",
    "    return await token_contract.functions.allowance(self.account.address, addr).call()\n"
   ]
  },
  {
   "cell_type": "markdown",
   "metadata": {},
   "source": [
    "### Deposit"
   ]
  },
  {
   "cell_type": "code",
   "execution_count": null,
   "metadata": {},
   "outputs": [],
   "source": [
    "#| export\n",
    "\n",
    "@patch\n",
    "@require_context\n",
    "async def deposit(self: Chain, deposit: Deposit, delay_in_minutes: float = 30, slippage: float = 0.01):\n",
    "    amount_token0, pool, router_contract_addr = deposit.amount_token0, deposit.pool, self.settings.router_contract_addr\n",
    "    print(f\"gonna deposit {amount_token0} {pool.token0.symbol} into {pool.symbol} from {self.account.address}\")\n",
    "    [token0_amount, token1_amount, _] = await self.router.functions.quoteAddLiquidity(\n",
    "        pool.token0.token_address,\n",
    "        pool.token1.token_address,\n",
    "        pool.is_stable,\n",
    "        pool.factory,\n",
    "        float_to_uint256(amount_token0, pool.token0.decimals),\n",
    "        MAX_UINT256\n",
    "    ).call()\n",
    "    print(f\"Quote: {pool.token0.symbol} {token0_amount / 10 ** pool.token0.decimals} -> {pool.token1.symbol} {token1_amount / 10 ** pool.token1.decimals}\")\n",
    "\n",
    "    # set up allowance for both tokens\n",
    "    print(f\"setting up allowance for {pool.token0.symbol}\")\n",
    "    await self.set_token_allowance(pool.token0, router_contract_addr, token0_amount)\n",
    "\n",
    "    print(f\"setting up allowance for {pool.token1.symbol}\")\n",
    "    await self.set_token_allowance(pool.token1, router_contract_addr, token1_amount)\n",
    "\n",
    "    # check allowances\n",
    "    token0_allowance = await self.check_token_allowance(pool.token0, router_contract_addr)\n",
    "    token1_allowance = await self.check_token_allowance(pool.token1, router_contract_addr)\n",
    "\n",
    "    print(f\"allowances: {token0_allowance}, {token1_allowance}\")\n",
    "\n",
    "    # adding liquidity\n",
    "\n",
    "    # if token 0 is native, use addLiquidityETH instead of standard addLiquidity\n",
    "    if pool.token0.token_address == self.settings.wrapped_native_token_addr:\n",
    "        params = [\n",
    "            pool.token1.token_address,\n",
    "            pool.is_stable,\n",
    "            token1_amount,\n",
    "            apply_slippage(token1_amount, slippage),\n",
    "            apply_slippage(token0_amount, slippage),\n",
    "            self.account.address,\n",
    "            get_future_timestamp(delay_in_minutes)\n",
    "        ]\n",
    "        print(f\"adding liquidity with params: {params}\")\n",
    "        return await self.sign_and_send_tx(self.router.functions.addLiquidityETH(*params), value=token0_amount)\n",
    "    \n",
    "    # token 1 is native, use addLiquidityETH instead of standard addLiquidity\n",
    "    if pool.token1.token_address == self.settings.wrapped_native_token_addr:\n",
    "        params = [\n",
    "            pool.token0.token_address,\n",
    "            pool.is_stable,\n",
    "            token0_amount,\n",
    "            apply_slippage(token0_amount, slippage),\n",
    "            apply_slippage(token1_amount, slippage),\n",
    "            self.account.address,\n",
    "            get_future_timestamp(delay_in_minutes)\n",
    "        ]\n",
    "        print(f\"adding liquidity with params: {params}\")\n",
    "        return await self.sign_and_send_tx(self.router.functions.addLiquidityETH(*params), value=token1_amount)\n",
    "\n",
    "    params = [\n",
    "        pool.token0.token_address,\n",
    "        pool.token1.token_address,\n",
    "        pool.is_stable,\n",
    "        token0_amount,\n",
    "        token1_amount,\n",
    "        apply_slippage(token0_amount, slippage),\n",
    "        apply_slippage(token1_amount, slippage),\n",
    "        self.account.address,\n",
    "        get_future_timestamp(delay_in_minutes)\n",
    "    ]\n",
    "\n",
    "    print(f\"adding liquidity with params: {params}\")\n",
    "\n",
    "    return await self.sign_and_send_tx(self.router.functions.addLiquidity(*params))"
   ]
  },
  {
   "cell_type": "markdown",
   "metadata": {},
   "source": [
    "## OP Chain"
   ]
  },
  {
   "cell_type": "code",
   "execution_count": null,
   "metadata": {},
   "outputs": [],
   "source": [
    "#| export\n",
    "\n",
    "class OPChain(Chain):\n",
    "    usdc: str = normalize_address(\"0x0b2C639c533813f4Aa9D7837CAf62653d097Ff85\")\n",
    "    velo: str = normalize_address(\"0x9560e827aF36c94D2Ac33a39bCE1Fe78631088Db\")\n",
    "\n",
    "    def __init__(self, **kwargs): super().__init__(make_op_chain_settings(**kwargs))\n"
   ]
  },
  {
   "cell_type": "markdown",
   "metadata": {},
   "source": [
    "## Base Chain"
   ]
  },
  {
   "cell_type": "code",
   "execution_count": null,
   "metadata": {},
   "outputs": [],
   "source": [
    "#| export\n",
    "\n",
    "class BaseChain(Chain):\n",
    "    usdc: str = normalize_address(\"0x833589fcd6edb6e08f4c7c32d4f71b54bda02913\")\n",
    "    aero: str = normalize_address(\"0x940181a94a35a4569e4529a3cdfb74e38fd98631\")\n",
    "\n",
    "    def __init__(self, **kwargs): super().__init__(make_base_chain_settings(**kwargs))"
   ]
  },
  {
   "cell_type": "markdown",
   "metadata": {},
   "source": [
    "## Simnet versions of chains\n",
    "\n",
    "Simnet URIs:\n",
    "\n",
    "- OP: http://127.0.0.1:4444\n",
    "- Base: http://127.0.0.1:4445\n",
    "\n",
    "This assumes the following setup:\n",
    "\n",
    "```\n",
    "supersim fork  --l2.host=0.0.0.0 --l2.starting.port=4444 --chains=op,base\n",
    "```"
   ]
  },
  {
   "cell_type": "code",
   "execution_count": null,
   "metadata": {},
   "outputs": [],
   "source": [
    "#| export \n",
    "\n",
    "class OPChainSimnet(OPChain):\n",
    "    def __init__(self,  **kwargs): super().__init__(rpc_uri=\"http://127.0.0.1:4444\", **kwargs)\n",
    "\n",
    "class BaseChainSimnet(BaseChain):\n",
    "    def __init__(self,  **kwargs): super().__init__(rpc_uri=\"http://127.0.0.1:4445\", **kwargs)"
   ]
  },
  {
   "cell_type": "markdown",
   "metadata": {},
   "source": [
    "## Tests\n",
    "\n",
    "Run tests using mainnets for reads and simnet for writes"
   ]
  },
  {
   "cell_type": "markdown",
   "metadata": {},
   "source": [
    "Make sure simnet is running"
   ]
  },
  {
   "cell_type": "code",
   "execution_count": null,
   "metadata": {},
   "outputs": [],
   "source": [
    "from fastcore.test import test_eq\n",
    "import socket\n",
    "\n",
    "host, port ='127.0.0.1', 4444\n",
    "try:\n",
    "    sock = socket.socket(socket.AF_INET, socket.SOCK_STREAM)\n",
    "    sock.settimeout(2)\n",
    "    result = sock.connect_ex((host, port))\n",
    "    test_eq(result, 0)\n",
    "except socket.error as err:\n",
    "    test_eq(err, None)\n",
    "finally:\n",
    "    sock.close()"
   ]
  },
  {
   "cell_type": "markdown",
   "metadata": {},
   "source": [
    "Make sure PK is set for writes"
   ]
  },
  {
   "cell_type": "code",
   "execution_count": null,
   "metadata": {},
   "outputs": [],
   "source": [
    "import os\n",
    "from fastcore.test import test_ne\n",
    "from dotenv import load_dotenv\n",
    "\n",
    "load_dotenv()\n",
    "\n",
    "test_ne(os.getenv(\"SUGAR_PK\"), None)"
   ]
  },
  {
   "cell_type": "markdown",
   "metadata": {},
   "source": [
    "Getting tokens. Make sure native token is included"
   ]
  },
  {
   "cell_type": "code",
   "execution_count": null,
   "metadata": {},
   "outputs": [],
   "source": [
    "from fastcore.test import test_eq, test_ne\n",
    "\n",
    "async with OPChain() as op:\n",
    "    tokens = await op.get_all_tokens()\n",
    "    native_token = next(filter(lambda t: t.is_native, tokens), None)\n",
    "    test_ne(native_token, None)\n",
    "    test_eq(native_token.symbol, \"ETH\")\n",
    "\n",
    "async with BaseChain() as base:\n",
    "    tokens = await base.get_all_tokens()\n",
    "    native_token = next(filter(lambda t: t.is_native, tokens), None)\n",
    "    test_ne(native_token, None)\n",
    "    test_eq(native_token.symbol, \"ETH\")"
   ]
  },
  {
   "cell_type": "markdown",
   "metadata": {},
   "source": [
    "Check on tokens and pricing"
   ]
  },
  {
   "cell_type": "code",
   "execution_count": null,
   "metadata": {},
   "outputs": [
    {
     "name": "stdout",
     "output_type": "stream",
     "text": [
      "ETH price: $2470.853728999003\n",
      "VELO price: $0.06255419405018559\n",
      "RED price: $0.116755998647673\n",
      "USDC price: $1.0\n",
      "WETH price: $2470.853728999003\n",
      "alETH price: $2351.111785523884\n",
      "frxETH price: $2470.3866919325383\n",
      "wstETH price: $2949.428149251889\n",
      "LDO price: $1.4149876928696974\n",
      "LUSD price: $1.02751711991991\n",
      "DAI price: $1.0305043517012729\n",
      "ERN price: $0.9841255094042539\n",
      "MAI price: $0.17193218706719446\n",
      "OP price: $1.0586998155624425\n",
      "EURA price: $1.0912406139054112\n",
      "alUSD price: $1.015936376193365\n",
      "FRAX price: $1.025870707341952\n",
      "USD+ price: $1.03212492308533\n",
      "DOLA price: $1.0134731731457594\n",
      "USDT price: $1.0328660923567803\n",
      "KWENTA price: $12.733550999037172\n",
      "SNX price: $0.88818472548945\n",
      "SONNE price: $0.001023075303034506\n",
      "msETH price: $2451.5209057165075\n",
      "DF price: $0.07962220723075801\n",
      "USX price: $1.0296049072493054\n",
      "rETH price: $2780.896290804966\n",
      "TAROT price: $0.01516419522536663\n",
      "PERP price: $0.4353630973675968\n",
      "jEUR price: $0.8675931822161297\n",
      "DHT price: $0.11128561913360152\n",
      "sfrxETH price: $2731.712723224265\n",
      "THALES price: $0.13327660883235265\n",
      "STG price: $0.24973453366043236\n",
      "HOP price: $0.006902918560255824\n",
      "MTA price: $0.024971735077984596\n",
      "BLU price: $0.00013140512038833\n",
      "sUSD price: $0.9968311250239705\n",
      "sEUR price: $0.0\n",
      "sETH price: $2355.8582092927163\n",
      "FOX price: $0.024634299930056357\n",
      "OPP price: $0.000281055071146344\n",
      "wOptiDoge price: $4.2288083392e-07\n",
      "fBOMB price: $0.02884045585690427\n",
      "JARVIS price: $0.06842640928573628\n",
      "OpenX price: $0.029550937177442154\n",
      "MET price: $0.24235181607254155\n",
      "IB price: $0.34024665766563267\n",
      "FXS price: $1.4977242901110701\n",
      "opxVELO price: $0.05384290761302639\n",
      "POOL price: $0.5315256564116064\n",
      "WBTC price: $89215.17537604047\n",
      "tBTC price: $89097.89570257373\n",
      "EXTRA price: $0.03532280318838963\n",
      "GNode price: $0.03957065376314636\n",
      "KUJI price: $0.34492337925612765\n",
      "EXA price: $1.2698536446650546\n",
      "WLD price: $1.0869699491456335\n",
      "T price: $0.01872572886529028\n",
      "TAROT price: $0.12107097573495337\n",
      "wUSDR price: $0.2666117238364741\n",
      "axlUSDC price: $0.8747362310759667\n",
      "GRAI price: $0.9984512107679687\n",
      "PENDLE price: $2.782997369060057\n",
      "HAUS price: $0.4607998819183482\n",
      "ACX price: $0.2578719621572124\n",
      "stERN price: $1.0278489690597588\n",
      "OS price: $0.14560924925535568\n",
      "msOP price: $1.0452527473779332\n",
      "msUSD price: $1.042590877775674\n",
      "USDC price: $1.028100497483269\n",
      "CLEAR price: $0.029646052055505016\n",
      "RING price: $0.005496396476281032\n",
      "ALCX price: $11.237639106729405\n",
      "JARVIS price: $0.03194131278856379\n",
      "mooBIFI price: $252.55753669314117\n",
      "UTS price: $0.0\n",
      "USDV price: $0.7086015181171291\n",
      "TKN price: $0.009448602566022235\n",
      "USDGLO price: $0.8624723670262262\n",
      "sFRAX price: $1.1700170599213569\n",
      "mpETH price: $2492.2316114177675\n",
      "CYBER price: $1.4429392317456264\n",
      "sDAI price: $1.1744505302625947\n",
      "MOLTEN price: $0.39187144223451886\n",
      "pxETH price: $2462.6479472847673\n",
      "HAI price: $1.1896013582082776\n",
      "KITE price: $1.4271041427244544\n",
      "2192 price: $8.704565077061e-06\n",
      "FOAM price: $0.001034089584252302\n",
      "IPT price: $0.010824792732559764\n",
      "USDA price: $0.9680848026552683\n",
      "TLX price: $0.05094565900207686\n",
      "wrsETH price: $2571.516928989783\n",
      "SYN price: $0.3033495330200408\n",
      "ITP price: $0.02018487481292421\n",
      "ETH1S price: $0.24894724441843077\n",
      "weETH price: $2614.3387248488966\n",
      "SAIL price: $0.001454379320164191\n",
      "ezETH price: $2562.46206321229\n",
      "USDy price: $1.1921561025422476\n",
      "USDpy price: $1.1348074752960302\n",
      "MODE price: $0.0066228877065176\n",
      "ZUN price: $0.004952130273235258\n",
      "uniBTC price: $85198.62568989716\n",
      "WELL price: $0.028998325993309863\n",
      "COMP price: $0.0\n",
      "wUSDM price: $1.1076895311722086\n",
      "DINERO price: $0.04011027792751643\n",
      "cbETH price: $2697.0926127564876\n",
      "MONEY price: $1.0284524775112167\n",
      "TRUMP price: $13.620343025484397\n",
      "Bold price: $1.0270724170640801\n",
      "kBTC price: $0.0\n"
     ]
    }
   ],
   "source": [
    "async with OPChain() as chain:\n",
    "    tokens = await chain.get_all_tokens()\n",
    "    prices = await chain.get_prices(tokens)\n",
    "    for p in prices: print(f\"{p.token.symbol} price: ${p.price}\")"
   ]
  },
  {
   "cell_type": "markdown",
   "metadata": {},
   "source": [
    "Basic deposit on OP"
   ]
  },
  {
   "cell_type": "code",
   "execution_count": null,
   "metadata": {},
   "outputs": [
    {
     "name": "stderr",
     "output_type": "stream",
     "text": [
      "Unclosed client session\n",
      "client_session: <aiohttp.client.ClientSession object>\n"
     ]
    },
    {
     "name": "stdout",
     "output_type": "stream",
     "text": [
      "gonna deposit 0.02 USDC into vAMM-USDC/VELO from 0x1e7A6B63F98484514610A9F0D5b399d4F7a9b1dA\n",
      "Quote: USDC 0.02 -> VELO 0.32938411215442287\n",
      "setting up allowance for USDC\n",
      "sign_and_send_tx: <Function approve(address,uint256) bound to ('0xa062aE8A9c5e11aaA026fc2670B0D65cCc8B2858', 20000)> with value: 0\n",
      "setting up allowance for VELO\n",
      "sign_and_send_tx: <Function approve(address,uint256) bound to ('0xa062aE8A9c5e11aaA026fc2670B0D65cCc8B2858', 329384112154422876)> with value: 0\n",
      "allowances: 20000, 329384112154422876\n",
      "adding liquidity with params: ['0x0b2C639c533813f4Aa9D7837CAf62653d097Ff85', '0x9560e827aF36c94D2Ac33a39bCE1Fe78631088Db', False, 20000, 329384112154422876, 19800, 326090271032878592, '0x1e7A6B63F98484514610A9F0D5b399d4F7a9b1dA', 1740502756]\n",
      "sign_and_send_tx: <Function addLiquidity(address,address,bool,uint256,uint256,uint256,uint256,address,uint256) bound to ('0x0b2C639c533813f4Aa9D7837CAf62653d097Ff85', '0x9560e827aF36c94D2Ac33a39bCE1Fe78631088Db', False, 20000, 329384112154422876, 19800, 326090271032878592, '0x1e7A6B63F98484514610A9F0D5b399d4F7a9b1dA', 1740502756)> with value: 0\n"
     ]
    }
   ],
   "source": [
    "async with OPChain() as chain:\n",
    "    pools = await chain.get_pools()\n",
    "    pools = list(filter(lambda x: x.token0 and x.token0.token_address == chain.usdc and x.token1.token_address == chain.velo, pools))\n",
    "    async with OPChainSimnet() as supersim:\n",
    "        # 0.02 USDC \n",
    "        await supersim.deposit(Deposit(pools[0], 0.02))"
   ]
  },
  {
   "cell_type": "markdown",
   "metadata": {},
   "source": [
    "Native -> non Native on OP"
   ]
  },
  {
   "cell_type": "code",
   "execution_count": null,
   "metadata": {},
   "outputs": [
    {
     "name": "stdout",
     "output_type": "stream",
     "text": [
      "gonna deposit 0.0001 WETH into vAMM-WETH/VELO from 0x1e7A6B63F98484514610A9F0D5b399d4F7a9b1dA\n",
      "Quote: WETH 0.0001 -> VELO 3.8038150740000978\n",
      "setting up allowance for WETH\n",
      "sign_and_send_tx: <Function approve(address,uint256) bound to ('0xa062aE8A9c5e11aaA026fc2670B0D65cCc8B2858', 100000000000000)> with value: 0\n",
      "setting up allowance for VELO\n",
      "sign_and_send_tx: <Function approve(address,uint256) bound to ('0xa062aE8A9c5e11aaA026fc2670B0D65cCc8B2858', 3803815074000097664)> with value: 0\n",
      "allowances: 100000000000000, 3803815074000097664\n",
      "adding liquidity with params: ['0x9560e827aF36c94D2Ac33a39bCE1Fe78631088Db', False, 3803815074000097664, 3765776923260097024, 99000000000000, '0x1e7A6B63F98484514610A9F0D5b399d4F7a9b1dA', 1740396886]\n",
      "sign_and_send_tx: <Function addLiquidityETH(address,bool,uint256,uint256,uint256,address,uint256) bound to ('0x9560e827aF36c94D2Ac33a39bCE1Fe78631088Db', False, 3803815074000097664, 3765776923260097024, 99000000000000, '0x1e7A6B63F98484514610A9F0D5b399d4F7a9b1dA', 1740396886)> with value: 100000000000000\n"
     ]
    }
   ],
   "source": [
    "async with OPChain() as op:\n",
    "    pools = await op.get_pools()\n",
    "    # find WETH/Velo pool\n",
    "    weth_velo_pool = next(filter(lambda p: p.token0.token_address == op.settings.wrapped_native_token_addr and p.token1.token_address == OPChain.velo, pools), None)\n",
    "    test_ne(weth_velo_pool, None)\n",
    "    async with OPChainSimnet() as supersim:\n",
    "        await supersim.deposit(Deposit(weth_velo_pool, 0.0001))\n"
   ]
  },
  {
   "cell_type": "markdown",
   "metadata": {},
   "source": [
    "Basic deposit on Base"
   ]
  },
  {
   "cell_type": "code",
   "execution_count": null,
   "metadata": {},
   "outputs": [
    {
     "name": "stdout",
     "output_type": "stream",
     "text": [
      "gonna deposit 0.01 USDC into vAMM-USDC/AERO from 0x1e7A6B63F98484514610A9F0D5b399d4F7a9b1dA\n",
      "Quote: USDC 0.01 -> AERO 0.01331474979106487\n",
      "setting up allowance for USDC\n",
      "sign_and_send_tx: <Function approve(address,uint256) bound to ('0xcF77a3Ba9A5CA399B7c97c74d54e5b1Beb874E43', 10000)> with value: 0\n",
      "setting up allowance for AERO\n",
      "sign_and_send_tx: <Function approve(address,uint256) bound to ('0xcF77a3Ba9A5CA399B7c97c74d54e5b1Beb874E43', 13314749791064871)> with value: 0\n",
      "allowances: 10000, 13314749791064871\n",
      "adding liquidity with params: ['0x833589fCD6eDb6E08f4c7C32D4f71b54bdA02913', '0x940181a94A35A4569E4529A3CDfB74e38FD98631', False, 10000, 13314749791064871, 9500, 12649012301511628, '0x1e7A6B63F98484514610A9F0D5b399d4F7a9b1dA', 1740396921]\n",
      "sign_and_send_tx: <Function addLiquidity(address,address,bool,uint256,uint256,uint256,uint256,address,uint256) bound to ('0x833589fCD6eDb6E08f4c7C32D4f71b54bdA02913', '0x940181a94A35A4569E4529A3CDfB74e38FD98631', False, 10000, 13314749791064871, 9500, 12649012301511628, '0x1e7A6B63F98484514610A9F0D5b399d4F7a9b1dA', 1740396921)> with value: 0\n"
     ]
    }
   ],
   "source": [
    "async with BaseChain() as chain:\n",
    "    pools = await chain.get_pools()\n",
    "    pools = list(filter(lambda x: x.token0 and x.token0.token_address == chain.usdc and x.token1.token_address == chain.aero, pools))\n",
    "    async with BaseChainSimnet() as supersim:\n",
    "        # 0.02 USDC \n",
    "        await supersim.deposit(Deposit(pools[0], 0.01), slippage=0.05)"
   ]
  },
  {
   "cell_type": "markdown",
   "metadata": {},
   "source": [
    "CL on OP"
   ]
  },
  {
   "cell_type": "code",
   "execution_count": null,
   "metadata": {},
   "outputs": [],
   "source": [
    "# WIP\n",
    "# async with OPChain() as chain:\n",
    "#     pools = await chain.get_pools()\n",
    "#     # CL200-USDC/VELO\n",
    "#     cl_usdc_velo = next(filter(lambda x: x.token0 and x.token0.token_address == chain.usdc and x.token1.token_address == chain.velo and x.is_cl, pools), None)\n",
    "#     test_ne(cl_usdc_velo, None)\n",
    "#     async with OPChainSimnet() as supersim:\n",
    "#         await supersim.deposit(Deposit(cl_usdc_velo, 0.02))"
   ]
  },
  {
   "cell_type": "code",
   "execution_count": null,
   "metadata": {},
   "outputs": [],
   "source": [
    "#| hide\n",
    "\n",
    "import nbdev; nbdev.nbdev_export()"
   ]
  }
 ],
 "metadata": {
  "kernelspec": {
   "display_name": "python3",
   "language": "python",
   "name": "python3"
  }
 },
 "nbformat": 4,
 "nbformat_minor": 2
}
