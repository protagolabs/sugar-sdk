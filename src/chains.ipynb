{
 "cells": [
  {
   "cell_type": "markdown",
   "metadata": {},
   "source": [
    "# ⛓ Chain "
   ]
  },
  {
   "cell_type": "code",
   "execution_count": null,
   "metadata": {},
   "outputs": [],
   "source": [
    "#| default_exp chains"
   ]
  },
  {
   "cell_type": "code",
   "execution_count": null,
   "metadata": {},
   "outputs": [],
   "source": [
    "#| hide\n",
    "from nbdev.showdoc import *"
   ]
  },
  {
   "cell_type": "code",
   "execution_count": null,
   "metadata": {},
   "outputs": [],
   "source": [
    "#| export\n",
    "\n",
    "import asyncio, web3, os\n",
    "from functools import wraps, reduce\n",
    "from typing import List, TypeVar, Callable, Optional, Tuple\n",
    "from fastcore.utils import patch\n",
    "from web3 import AsyncWeb3, AsyncHTTPProvider, Account\n",
    "from web3.eth.async_eth import AsyncContract\n",
    "from sugar.config import ChainSettings, make_op_chain_settings, make_base_chain_settings\n",
    "from sugar.helpers import normalize_address, MAX_UINT256, float_to_uint256, apply_slippage, get_future_timestamp\n",
    "from sugar.abi import sugar, price_oracle, router\n",
    "from sugar.token import Token\n",
    "from sugar.pool import LiquidityPool\n",
    "from sugar.price import Price\n",
    "from sugar.deposit import Deposit\n",
    "from sugar.helpers import ADDRESS_ZERO, chunk, normalize_address"
   ]
  },
  {
   "cell_type": "markdown",
   "metadata": {},
   "source": [
    "## Chain implementation "
   ]
  },
  {
   "cell_type": "code",
   "execution_count": null,
   "metadata": {},
   "outputs": [],
   "source": [
    "#| export\n",
    "\n",
    "T = TypeVar('T')\n",
    "\n",
    "def require_context(f: Callable[..., T]) -> Callable[..., T]:\n",
    "    @wraps(f)\n",
    "    async def wrapper(self: 'Chain', *args, **kwargs) -> T:\n",
    "        if not self._in_context: raise RuntimeError(\"Chain methods can only be accessed within 'async with' block\")\n",
    "        return await f(self, *args, **kwargs)\n",
    "    return wrapper\n",
    "\n",
    "class Chain:\n",
    "    account: Optional[Account]\n",
    "    web3: AsyncWeb3\n",
    "    sugar: AsyncContract\n",
    "    router: AsyncContract\n",
    "\n",
    "    def __init__(self, settings: ChainSettings):\n",
    "        self.settings, self._in_context = settings, False\n",
    "\n",
    "    @property\n",
    "    def account(self) -> Account: return self.web3.eth.account.from_key(os.getenv(\"SUGAR_PK\"))\n",
    "\n",
    "    async def __aenter__(self):\n",
    "        \"\"\"Async context manager entry\"\"\"\n",
    "        self._in_context = True\n",
    "        self.web3 = AsyncWeb3(AsyncHTTPProvider(self.settings.rpc_uri))\n",
    "        self.sugar = self.web3.eth.contract(address=self.settings.sugar_contract_addr, abi=sugar)\n",
    "        self.prices = self.web3.eth.contract(address=self.settings.price_oracle_contract_addr, abi=price_oracle)\n",
    "        self.router = self.web3.eth.contract(address=self.settings.router_contract_addr, abi=router)\n",
    "        return self\n",
    "\n",
    "    async def __aexit__(self, exc_type, exc_val, exc_tb):\n",
    "        \"\"\"Async context manager exit\"\"\"\n",
    "        self._in_context = False\n",
    "        await self.web3.provider.disconnect()\n",
    "        return None"
   ]
  },
  {
   "cell_type": "markdown",
   "metadata": {},
   "source": [
    "### Get tokens"
   ]
  },
  {
   "cell_type": "code",
   "execution_count": null,
   "metadata": {},
   "outputs": [],
   "source": [
    "#| export\n",
    "\n",
    "@patch\n",
    "@require_context\n",
    "async def get_all_tokens(self: Chain, listed_only: bool = True) -> List[Token]:\n",
    "    tokens = list(map(lambda t: Token.from_tuple(t), await self.sugar.functions.tokens(self.settings.pagination_limit, 0, ADDRESS_ZERO, []).call()))\n",
    "    return list(filter(lambda t: t.listed, tokens)) if listed_only else tokens\n",
    "   "
   ]
  },
  {
   "cell_type": "markdown",
   "metadata": {},
   "source": [
    "### Get pools"
   ]
  },
  {
   "cell_type": "code",
   "execution_count": null,
   "metadata": {},
   "outputs": [],
   "source": [
    "#| export\n",
    "\n",
    "@patch\n",
    "@require_context\n",
    "async def get_pools(self: Chain) -> List[LiquidityPool]:\n",
    "    pools, offset, limit = [], 0, self.settings.pool_page_size\n",
    "    tokens = await self.get_all_tokens()\n",
    "    prices = await self.get_prices(tokens)\n",
    "    tokens = {t.token_address: t for t in tokens}\n",
    "    prices = {price.token.token_address: price for price in prices}\n",
    "\n",
    "    while True:\n",
    "        pools_batch = await self.sugar.functions.all(limit, offset).call()\n",
    "        pools += pools_batch\n",
    "        if len(pools_batch) < limit: break\n",
    "        else: offset += limit\n",
    "\n",
    "    return list(filter(lambda p: p is not None, map(lambda p: LiquidityPool.from_tuple(p, tokens), pools)))"
   ]
  },
  {
   "cell_type": "markdown",
   "metadata": {},
   "source": [
    "### Get prices"
   ]
  },
  {
   "cell_type": "code",
   "execution_count": null,
   "metadata": {},
   "outputs": [],
   "source": [
    "#| export\n",
    "\n",
    "# @cache_in_seconds(ORACLE_PRICES_CACHE_MINUTES * 60)\n",
    "@patch\n",
    "async def _get_prices(self: Chain, tokens: Tuple[Token]):\n",
    "    prices = await self.prices.functions.getManyRatesWithCustomConnectors(\n",
    "        list(map(lambda t: t.token_address, tokens)),\n",
    "        self.settings.stable_token_addr,\n",
    "        False, # use wrappers\n",
    "        self.settings.connector_tokens_addrs,\n",
    "        10 # threshold_filer\n",
    "    ).call()\n",
    "    # 6 decimals for USDC\n",
    "    return [Price(token=tokens[cnt], price=price / 10**6) for cnt, price in enumerate(prices)]\n",
    "\n",
    "@patch\n",
    "@require_context\n",
    "async def get_prices(self: Chain, tokens: List[Token]) -> List[Price]:\n",
    "    \"\"\"Get prices for tokens in target stable token\"\"\"\n",
    "    # filter out stable token from tokens list so getManyRatesWithCustomConnectors so does not freak out\n",
    "    tokens_without_stable = list(filter(lambda t: t.token_address != self.settings.stable_token_addr, tokens))\n",
    "    stable = next(filter(lambda t: t.token_address == self.settings.stable_token_addr, tokens), None)\n",
    "\n",
    "    batches = await asyncio.gather(\n",
    "        *map(\n",
    "            # XX: lists are not cacheable, convert them to tuples so lru cache is happy\n",
    "            lambda ts: self._get_prices(tuple(ts)),\n",
    "            list(chunk(tokens_without_stable, self.settings.price_batch_size)),\n",
    "        )\n",
    "    )\n",
    "    return ([Price(token=stable, price=1)] if stable else []) + reduce(lambda l1, l2: l1 + l2, batches, [])\n"
   ]
  },
  {
   "cell_type": "markdown",
   "metadata": {},
   "source": [
    "### Sign and send transaction"
   ]
  },
  {
   "cell_type": "code",
   "execution_count": null,
   "metadata": {},
   "outputs": [],
   "source": [
    "#| export\n",
    "\n",
    "@patch\n",
    "@require_context\n",
    "async def sign_and_send_tx(self: Chain, tx, wait: bool = True):\n",
    "    spender = self.account.address\n",
    "    tx = await tx.build_transaction({ 'from': spender, 'nonce': await self.web3.eth.get_transaction_count(spender) })\n",
    "    signed_tx = self.account.sign_transaction(tx)\n",
    "    tx_hash = await self.web3.eth.send_raw_transaction(signed_tx.raw_transaction)\n",
    "    return await self.web3.eth.wait_for_transaction_receipt(tx_hash) if wait else tx_hash"
   ]
  },
  {
   "cell_type": "markdown",
   "metadata": {},
   "source": [
    "### Set and check token allowance"
   ]
  },
  {
   "cell_type": "code",
   "execution_count": null,
   "metadata": {},
   "outputs": [],
   "source": [
    "#| export\n",
    "\n",
    "@patch\n",
    "@require_context\n",
    "async def set_token_allowance(self: Chain, token: Token, addr: str, amount: int):\n",
    "    ERC20_ABI = [{\n",
    "        \"name\": \"approve\",\n",
    "        \"type\": \"function\",\n",
    "        \"constant\": False,\n",
    "        \"inputs\": [{\"name\": \"spender\", \"type\": \"address\"}, {\"name\": \"amount\", \"type\": \"uint256\"}],\n",
    "        \"outputs\": [{\"name\": \"\", \"type\": \"bool\"}]\n",
    "    }]\n",
    "    token_contract = self.web3.eth.contract(address=token.token_address, abi=ERC20_ABI)\n",
    "    return await self.sign_and_send_tx(token_contract.functions.approve(addr, amount))\n",
    "\n",
    "@patch\n",
    "@require_context\n",
    "async def check_token_allowance(self: Chain, token: Token, addr: str) -> int:\n",
    "    ERC20_ABI = [{\n",
    "        \"name\": \"allowance\",\n",
    "        \"type\": \"function\",\n",
    "        \"constant\": True,\n",
    "        \"inputs\": [{\"name\": \"owner\", \"type\": \"address\"}, {\"name\": \"spender\", \"type\": \"address\"}],\n",
    "        \"outputs\": [{\"name\": \"\", \"type\": \"uint256\"}]\n",
    "    }]\n",
    "    token_contract = self.web3.eth.contract(address=token.token_address, abi=ERC20_ABI)\n",
    "    return await token_contract.functions.allowance(self.account.address, addr).call()\n"
   ]
  },
  {
   "cell_type": "markdown",
   "metadata": {},
   "source": [
    "### Deposit"
   ]
  },
  {
   "cell_type": "code",
   "execution_count": null,
   "metadata": {},
   "outputs": [],
   "source": [
    "#| export\n",
    "\n",
    "@patch\n",
    "@require_context\n",
    "async def deposit(self: Chain, deposit: Deposit, delay_in_minutes: float = 30, slippage: float = 0.01):\n",
    "    amount_token0, pool, router_contract_addr = deposit.amount_token0, deposit.pool, self.settings.router_contract_addr\n",
    "    print(f\"gonna deposit {amount_token0} {pool.token0.symbol} into {pool.symbol} from {self.account.address}\")\n",
    "    [token0_amount, token1_amount, _] = await self.router.functions.quoteAddLiquidity(\n",
    "        pool.token0.token_address,\n",
    "        pool.token1.token_address,\n",
    "        pool.is_stable,\n",
    "        pool.factory,\n",
    "        float_to_uint256(amount_token0, pool.token0.decimals),\n",
    "        MAX_UINT256\n",
    "    ).call()\n",
    "    print(f\"Quote: {pool.token0.symbol} {token0_amount / 10 ** pool.token0.decimals} -> {pool.token1.symbol} {token1_amount / 10 ** pool.token1.decimals}\")\n",
    "\n",
    "    # set up allowance for both tokens\n",
    "    print(f\"setting up allowance for {pool.token0.symbol}\")\n",
    "    await self.set_token_allowance(pool.token0, router_contract_addr, token0_amount)\n",
    "\n",
    "    print(f\"setting up allowance for {pool.token1.symbol}\")\n",
    "    await self.set_token_allowance(pool.token1, router_contract_addr, token1_amount)\n",
    "\n",
    "    # check allowances\n",
    "    token0_allowance = await self.check_token_allowance(pool.token0, router_contract_addr)\n",
    "    token1_allowance = await self.check_token_allowance(pool.token1, router_contract_addr)\n",
    "\n",
    "    print(f\"allowances: {token0_allowance}, {token1_allowance}\")\n",
    "\n",
    "    # adding liquidity\n",
    "\n",
    "    params = [\n",
    "        pool.token0.token_address,\n",
    "        pool.token1.token_address,\n",
    "        pool.is_stable,\n",
    "        token0_amount,\n",
    "        token1_amount,\n",
    "        apply_slippage(token0_amount, slippage),\n",
    "        apply_slippage(token1_amount, slippage),\n",
    "        self.account.address,\n",
    "        get_future_timestamp(delay_in_minutes)\n",
    "    ]\n",
    "\n",
    "    print(f\"adding liquidity with params: {params}\")\n",
    "\n",
    "    return await self.sign_and_send_tx(self.router.functions.addLiquidity(*params))"
   ]
  },
  {
   "cell_type": "markdown",
   "metadata": {},
   "source": [
    "## OP Chain"
   ]
  },
  {
   "cell_type": "code",
   "execution_count": null,
   "metadata": {},
   "outputs": [],
   "source": [
    "#| export\n",
    "\n",
    "class OPChain(Chain):\n",
    "    usdc: str = normalize_address(\"0x0b2C639c533813f4Aa9D7837CAf62653d097Ff85\")\n",
    "    velo: str = normalize_address(\"0x9560e827aF36c94D2Ac33a39bCE1Fe78631088Db\")\n",
    "\n",
    "    def __init__(self, **kwargs): super().__init__(make_op_chain_settings(**kwargs))\n"
   ]
  },
  {
   "cell_type": "markdown",
   "metadata": {},
   "source": [
    "## Base Chain"
   ]
  },
  {
   "cell_type": "code",
   "execution_count": null,
   "metadata": {},
   "outputs": [],
   "source": [
    "#| export\n",
    "\n",
    "class BaseChain(Chain):\n",
    "    usdc: str = normalize_address(\"0x833589fcd6edb6e08f4c7c32d4f71b54bda02913\")\n",
    "    aero: str = normalize_address(\"0x940181a94a35a4569e4529a3cdfb74e38fd98631\")\n",
    "\n",
    "    def __init__(self, **kwargs): super().__init__(make_base_chain_settings(**kwargs))"
   ]
  },
  {
   "cell_type": "markdown",
   "metadata": {},
   "source": [
    "## Tests\n",
    "\n",
    "Run tests using mainnets for reads and simnet for writes"
   ]
  },
  {
   "cell_type": "markdown",
   "metadata": {},
   "source": [
    "Make sure simnet is running"
   ]
  },
  {
   "cell_type": "code",
   "execution_count": null,
   "metadata": {},
   "outputs": [
    {
     "ename": "AssertionError",
     "evalue": "==:\n61\n0",
     "output_type": "error",
     "traceback": [
      "\u001b[0;31m---------------------------------------------------------------------------\u001b[0m",
      "\u001b[0;31mAssertionError\u001b[0m                            Traceback (most recent call last)",
      "Cell \u001b[0;32mIn[13], line 9\u001b[0m\n\u001b[1;32m      7\u001b[0m     sock\u001b[38;5;241m.\u001b[39msettimeout(\u001b[38;5;241m2\u001b[39m)\n\u001b[1;32m      8\u001b[0m     result \u001b[38;5;241m=\u001b[39m sock\u001b[38;5;241m.\u001b[39mconnect_ex((host, port))\n\u001b[0;32m----> 9\u001b[0m     \u001b[43mtest_eq\u001b[49m\u001b[43m(\u001b[49m\u001b[43mresult\u001b[49m\u001b[43m,\u001b[49m\u001b[43m \u001b[49m\u001b[38;5;241;43m0\u001b[39;49m\u001b[43m)\u001b[49m\n\u001b[1;32m     10\u001b[0m \u001b[38;5;28;01mexcept\u001b[39;00m socket\u001b[38;5;241m.\u001b[39merror \u001b[38;5;28;01mas\u001b[39;00m err:\n\u001b[1;32m     11\u001b[0m     test_eq(err, \u001b[38;5;28;01mNone\u001b[39;00m)\n",
      "File \u001b[0;32m~/projects/sugar-sdk/env/lib/python3.10/site-packages/fastcore/test.py:39\u001b[0m, in \u001b[0;36mtest_eq\u001b[0;34m(a, b)\u001b[0m\n\u001b[1;32m     37\u001b[0m \u001b[38;5;28;01mdef\u001b[39;00m\u001b[38;5;250m \u001b[39m\u001b[38;5;21mtest_eq\u001b[39m(a,b):\n\u001b[1;32m     38\u001b[0m     \u001b[38;5;124m\"\u001b[39m\u001b[38;5;124m`test` that `a==b`\u001b[39m\u001b[38;5;124m\"\u001b[39m\n\u001b[0;32m---> 39\u001b[0m     \u001b[43mtest\u001b[49m\u001b[43m(\u001b[49m\u001b[43ma\u001b[49m\u001b[43m,\u001b[49m\u001b[43mb\u001b[49m\u001b[43m,\u001b[49m\u001b[43mequals\u001b[49m\u001b[43m,\u001b[49m\u001b[43m \u001b[49m\u001b[43mcname\u001b[49m\u001b[38;5;241;43m=\u001b[39;49m\u001b[38;5;124;43m'\u001b[39;49m\u001b[38;5;124;43m==\u001b[39;49m\u001b[38;5;124;43m'\u001b[39;49m\u001b[43m)\u001b[49m\n",
      "File \u001b[0;32m~/projects/sugar-sdk/env/lib/python3.10/site-packages/fastcore/test.py:29\u001b[0m, in \u001b[0;36mtest\u001b[0;34m(a, b, cmp, cname)\u001b[0m\n\u001b[1;32m     27\u001b[0m \u001b[38;5;124m\"\u001b[39m\u001b[38;5;124m`assert` that `cmp(a,b)`; display inputs and `cname or cmp.__name__` if it fails\u001b[39m\u001b[38;5;124m\"\u001b[39m\n\u001b[1;32m     28\u001b[0m \u001b[38;5;28;01mif\u001b[39;00m cname \u001b[38;5;129;01mis\u001b[39;00m \u001b[38;5;28;01mNone\u001b[39;00m: cname\u001b[38;5;241m=\u001b[39mcmp\u001b[38;5;241m.\u001b[39m\u001b[38;5;18m__name__\u001b[39m\n\u001b[0;32m---> 29\u001b[0m \u001b[38;5;28;01massert\u001b[39;00m cmp(a,b),\u001b[38;5;124mf\u001b[39m\u001b[38;5;124m\"\u001b[39m\u001b[38;5;132;01m{\u001b[39;00mcname\u001b[38;5;132;01m}\u001b[39;00m\u001b[38;5;124m:\u001b[39m\u001b[38;5;130;01m\\n\u001b[39;00m\u001b[38;5;132;01m{\u001b[39;00ma\u001b[38;5;132;01m}\u001b[39;00m\u001b[38;5;130;01m\\n\u001b[39;00m\u001b[38;5;132;01m{\u001b[39;00mb\u001b[38;5;132;01m}\u001b[39;00m\u001b[38;5;124m\"\u001b[39m\n",
      "\u001b[0;31mAssertionError\u001b[0m: ==:\n61\n0"
     ]
    }
   ],
   "source": [
    "from fastcore.test import test_eq\n",
    "import socket\n",
    "\n",
    "host, port ='127.0.0.1', 4444\n",
    "try:\n",
    "    sock = socket.socket(socket.AF_INET, socket.SOCK_STREAM)\n",
    "    sock.settimeout(2)\n",
    "    result = sock.connect_ex((host, port))\n",
    "    test_eq(result, 0)\n",
    "except socket.error as err:\n",
    "    test_eq(err, None)\n",
    "finally:\n",
    "    sock.close()"
   ]
  },
  {
   "cell_type": "markdown",
   "metadata": {},
   "source": [
    "Make sure PK is set for writes"
   ]
  },
  {
   "cell_type": "code",
   "execution_count": null,
   "metadata": {},
   "outputs": [],
   "source": [
    "import os\n",
    "from fastcore.test import test_ne\n",
    "from dotenv import load_dotenv\n",
    "\n",
    "load_dotenv()\n",
    "\n",
    "test_ne(os.getenv(\"SUGAR_PK\"), None)"
   ]
  },
  {
   "cell_type": "code",
   "execution_count": null,
   "metadata": {},
   "outputs": [
    {
     "name": "stdout",
     "output_type": "stream",
     "text": [
      "[LiquidityPool(lp='0xa0A215dE234276CAc1b844fD58901351a50fec8A', factory='0xF1046053aa5682b4F9a81b5481394DA16BE5FF5a', symbol='vAMMV2-USDC/VELO', is_stable=False, total_supply=8968646429861022770, decimals=18, token0=Token(token_address='0x0b2C639c533813f4Aa9D7837CAf62653d097Ff85', symbol='USDC', decimals=6, listed=True), token1=Token(token_address='0x9560e827aF36c94D2Ac33a39bCE1Fe78631088Db', symbol='VELO', decimals=18, listed=True), pool_fee=90, gauge_total_supply=8954303162296933009, emissions_token=Token(token_address='0x9560e827aF36c94D2Ac33a39bCE1Fe78631088Db', symbol='VELO', decimals=18, listed=True), nfpm='0x0000000000000000000000000000000000000000', alm='0x0000000000000000000000000000000000000000'), LiquidityPool(lp='0xe5C046761B4E4FF626e1363De2C7BbcBfc3078A3', factory='0xF1046053aa5682b4F9a81b5481394DA16BE5FF5a', symbol='sAMMV2-USDC/VELO', is_stable=True, total_supply=2277783, decimals=18, token0=Token(token_address='0x0b2C639c533813f4Aa9D7837CAf62653d097Ff85', symbol='USDC', decimals=6, listed=True), token1=Token(token_address='0x9560e827aF36c94D2Ac33a39bCE1Fe78631088Db', symbol='VELO', decimals=18, listed=True), pool_fee=5, gauge_total_supply=0, emissions_token=Token(token_address='0x9560e827aF36c94D2Ac33a39bCE1Fe78631088Db', symbol='VELO', decimals=18, listed=True), nfpm='0x0000000000000000000000000000000000000000', alm='0x0000000000000000000000000000000000000000'), LiquidityPool(lp='0x7cfc2Da3ba598ef4De692905feDcA32565AB836E', factory='0xCc0bDDB707055e04e497aB22a59c2aF4391cd12F', symbol='', is_stable=False, total_supply=6703269743412909519, decimals=18, token0=Token(token_address='0x0b2C639c533813f4Aa9D7837CAf62653d097Ff85', symbol='USDC', decimals=6, listed=True), token1=Token(token_address='0x9560e827aF36c94D2Ac33a39bCE1Fe78631088Db', symbol='VELO', decimals=18, listed=True), pool_fee=3210, gauge_total_supply=6701156344844672436, emissions_token=Token(token_address='0x9560e827aF36c94D2Ac33a39bCE1Fe78631088Db', symbol='VELO', decimals=18, listed=True), nfpm='0x416b433906b1B72FA758e166e239c43d68dC6F29', alm='0x0000000000000000000000000000000000000000')]\n"
     ]
    }
   ],
   "source": [
    "async with OPChain() as chain:\n",
    "    pools = await chain.get_pools()\n",
    "    pools = list(filter(lambda x: x.token0 and x.token0.token_address == chain.usdc and x.token1.token_address == chain.velo, pools))\n",
    "    async with OPChain(rpc_uri=\"http://127.0.0.1:4444\" ) as supersim:\n",
    "        # 0.02 USDC \n",
    "        await supersim.deposit(Deposit(pools[0], 0.02))\n",
    "\n",
    "async with BaseChain() as chain:\n",
    "    pools = await chain.get_pools()\n",
    "    pools = list(filter(lambda x: x.token0 and x.token0.token_address == chain.usdc and x.token1.token_address == chain.aero, pools))\n",
    "    async with BaseChain(rpc_uri=\"http://127.0.0.1:4445\" ) as supersim:\n",
    "        # 0.02 USDC \n",
    "        await supersim.deposit(Deposit(pools[0], 0.01), slippage=0.05)"
   ]
  },
  {
   "cell_type": "code",
   "execution_count": null,
   "metadata": {},
   "outputs": [],
   "source": [
    "#| hide\n",
    "\n",
    "import nbdev; nbdev.nbdev_export()"
   ]
  }
 ],
 "metadata": {
  "kernelspec": {
   "display_name": "python3",
   "language": "python",
   "name": "python3"
  }
 },
 "nbformat": 4,
 "nbformat_minor": 2
}
