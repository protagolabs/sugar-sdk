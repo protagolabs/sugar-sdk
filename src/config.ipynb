{
 "cells": [
  {
   "cell_type": "markdown",
   "metadata": {},
   "source": [
    "# Configure Sugar\n"
   ]
  },
  {
   "cell_type": "code",
   "execution_count": null,
   "metadata": {},
   "outputs": [],
   "source": [
    "#| default_exp config"
   ]
  },
  {
   "cell_type": "code",
   "execution_count": null,
   "metadata": {},
   "outputs": [
    {
     "data": {
      "text/plain": [
       "True"
      ]
     },
     "execution_count": null,
     "metadata": {},
     "output_type": "execute_result"
    }
   ],
   "source": [
    "#| hide\n",
    "from nbdev.showdoc import *\n",
    "\n",
    "\n",
    "# load env\n",
    "from dotenv import load_dotenv\n",
    "load_dotenv()"
   ]
  },
  {
   "cell_type": "code",
   "execution_count": null,
   "metadata": {},
   "outputs": [],
   "source": [
    "#| export\n",
    "\n",
    "import os\n",
    "from sugar.helpers import normalize_address\n",
    "from typing import Literal, List"
   ]
  },
  {
   "cell_type": "code",
   "execution_count": null,
   "metadata": {},
   "outputs": [],
   "source": [
    "#| export\n",
    "\n",
    "DEFAULT_CONNECTORS = \"0x9560e827aF36c94D2Ac33a39bCE1Fe78631088Db,0x4200000000000000000000000000000000000042,0x4200000000000000000000000000000000000006,0x8c6f28f2f1a3c87f0f938b96d27520d9751ec8d9,0x1f32b1c2345538c0c6f582fcb022739c4a194ebb,0xbfd291da8a403daaf7e5e9dc1ec0aceacd4848b9,0xc3864f98f2a61a7caeb95b039d031b4e2f55e0e9,0x9485aca5bbbe1667ad97c7fe7c4531a624c8b1ed,0xDA10009cBd5D07dd0CeCc66161FC93D7c9000da1\" \n",
    "\n",
    "class SugarConfig:\n",
    "    rpc_uri: str = os.getenv(\"SUGAR_RPC_URI\", \"https://optimism-mainnet.wallet.coinbase.com\")\n",
    "    sugar_contract_addr: str = os.getenv(\"SUGAR_CONTRACT_ADDR\", \"0x3B919747B46B13CFfd9f16629cFf951C0b7ea1e2\")\n",
    "    price_oracle_contract_addr: str = os.getenv(\"SUGAR_PRICE_ORACLE_ADDR\", \"0xcA97e5653d775cA689BED5D0B4164b7656677011\")\n",
    "    token_addr: str = normalize_address(os.getenv(\"SUGAR_TOKEN_ADDR\", \"0x9560e827aF36c94D2Ac33a39bCE1Fe78631088Db\"))\n",
    "    stable_token_addr: str = normalize_address(os.getenv(\"SUGAR_STABLE_TOKEN_ADDR\", \"0x7F5c764cBc14f9669B88837ca1490cCa17c31607\"))\n",
    "    connector_tokens_addrs: List[str] = list(map(lambda a: normalize_address(a), os.getenv(\"SUGAR_CONNECTOR_TOKENS_ADDRS\", DEFAULT_CONNECTORS).split(\",\")))\n",
    "    price_batch_size: int = int(os.getenv(\"SUGAR_PRICE_BATCH_SIZE\",\"40\"))\n",
    "    protocol_name: Literal[\"velo\", \"aero\"] = os.getenv(\"SUGAR_PROTOCOL_NAME\",\"velo\")\n",
    "    pagination_limit: int = int(os.getenv(\"SUGAR_PAGINATION_LIMIT\",\"2000\"))\n",
    "\n",
    "\n",
    "    \n",
    "    \n",
    "    # PRICE_ORACLE_ADDRESS=0xcA97e5653d775cA689BED5D0B4164b7656677011\n",
    "    # CONNECTOR_TOKENS_ADDRESSES=0x9560e827aF36c94D2Ac33a39bCE1Fe78631088Db,0x4200000000000000000000000000000000000042,0x4200000000000000000000000000000000000006,0x8c6f28f2f1a3c87f0f938b96d27520d9751ec8d9,0x1f32b1c2345538c0c6f582fcb022739c4a194ebb,0xbfd291da8a403daaf7e5e9dc1ec0aceacd4848b9,0xc3864f98f2a61a7caeb95b039d031b4e2f55e0e9,0x9485aca5bbbe1667ad97c7fe7c4531a624c8b1ed,0xDA10009cBd5D07dd0CeCc66161FC93D7c9000da1\n",
    "    # STABLE_TOKEN_ADDRESS=0x7F5c764cBc14f9669B88837ca1490cCa17c31607\n",
    "    # GOOD_ENOUGH_PAGINATION_LIMIT=2000\n",
    "\n",
    "\n",
    "    @staticmethod\n",
    "    def get_config(): return SugarConfig()\n",
    "\n",
    "    def __str__(self):\n",
    "        # go over all attributes of self\n",
    "        lines = [\"🍭 Sugar Config:\",\"----------------\"]\n",
    "        attributes = [attr for attr in dir(self) if not attr.startswith('_')]\n",
    "        for attr in attributes:\n",
    "            if callable(getattr(self, attr)):  # Skip methods\n",
    "                continue\n",
    "            value = getattr(self, attr)\n",
    "            lines.append(f\"{attr}: {value}\")\n",
    "        return \"\\n\".join(lines)\n",
    "        \n",
    "        \n",
    "    def __repr__(self): return str(self)\n",
    "\n",
    "\n",
    "# # token we are converting from\n",
    "# price_oracle_address: str = os.environ[\"PRICE_ORACLE_ADDRESS\"]\n",
    "# # token we are converting to\n",
    "# STABLE_TOKEN_ADDRESS = os.environ[\"STABLE_TOKEN_ADDRESS\"]\n",
    "# # connector tokens for the pricing oracle\n",
    "# # see: https://github.com/velodrome-finance/oracle\n",
    "# # how often ticker bots update\n",
    "# BOT_TICKER_INTERVAL_MINUTES = int(os.environ[\"BOT_TICKER_INTERVAL_MINUTES\"])\n",
    "# # caching time for sugar tokens calls\n",
    "# SUGAR_TOKENS_CACHE_MINUTES = int(os.environ[\"SUGAR_TOKENS_CACHE_MINUTES\"])\n",
    "# # caching time for sugar liquidity pools calls\n",
    "# SUGAR_LPS_CACHE_MINUTES = int(os.environ[\"SUGAR_LPS_CACHE_MINUTES\"])\n",
    "# # caching time for oracle price calls\n",
    "# ORACLE_PRICES_CACHE_MINUTES = int(os.environ[\"ORACLE_PRICES_CACHE_MINUTES\"])\n",
    "\n",
    "# # pagination limit for pools\n",
    "# POOL_PAGE_SIZE = 500\n",
    "\n",
    "# # image shown on discord embeds for pool stats\n",
    "# UI_POOL_STATS_THUMBNAIL = os.environ[\"UI_POOL_STATS_THUMBNAIL\"]"
   ]
  },
  {
   "cell_type": "code",
   "execution_count": null,
   "metadata": {},
   "outputs": [],
   "source": [
    "#| hide\n",
    "\n",
    "import nbdev; nbdev.nbdev_export()"
   ]
  }
 ],
 "metadata": {
  "kernelspec": {
   "display_name": "python3",
   "language": "python",
   "name": "python3"
  }
 },
 "nbformat": 4,
 "nbformat_minor": 2
}
