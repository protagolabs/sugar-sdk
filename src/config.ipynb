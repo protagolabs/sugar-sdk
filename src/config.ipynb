{
 "cells": [
  {
   "cell_type": "markdown",
   "metadata": {},
   "source": [
    "# Configure Sugar\n"
   ]
  },
  {
   "cell_type": "code",
   "execution_count": null,
   "metadata": {},
   "outputs": [],
   "source": [
    "#| default_exp config"
   ]
  },
  {
   "cell_type": "code",
   "execution_count": null,
   "metadata": {},
   "outputs": [
    {
     "data": {
      "text/plain": [
       "True"
      ]
     },
     "execution_count": null,
     "metadata": {},
     "output_type": "execute_result"
    }
   ],
   "source": [
    "#| hide\n",
    "from nbdev.showdoc import *\n",
    "\n",
    "\n",
    "# load env\n",
    "from dotenv import load_dotenv\n",
    "load_dotenv()"
   ]
  },
  {
   "cell_type": "code",
   "execution_count": null,
   "metadata": {},
   "outputs": [],
   "source": [
    "#| export\n",
    "\n",
    "import os\n",
    "from sugar.web3 import normalize_address\n",
    "from typing import Literal"
   ]
  },
  {
   "cell_type": "code",
   "execution_count": null,
   "metadata": {},
   "outputs": [],
   "source": [
    "#| export\n",
    "\n",
    "class SugarConfig:\n",
    "    web3_provoider_uri: str = os.environ[\"WEB3_PROVIDER_URI\"]\n",
    "    lp_sugar_address: str = os.environ[\"LP_SUGAR_ADDRESS\"]\n",
    "    token_address: str = normalize_address(os.getenv(\"TOKEN_ADDRESS\", \"0x9560e827aF36c94D2Ac33a39bCE1Fe78631088Db\"))\n",
    "    # price_oracle_address: str = os.environ[\"PRICE_ORACLE_ADDRESS\"]\n",
    "    price_batch_size: int = int(os.getenv(\"PRICE_BATCH_SIZE\",\"40\"))\n",
    "    protocol_name: Literal[\"velo\", \"aero\"] = os.getenv(\"PROTOCOL_NAME\",\"velo\")\n",
    "    good_enough_pagination_limit: int = int(os.getenv(\"GOOD_ENOUGH_PAGINATION_LIMIT\",\"2000\"))\n",
    "\n",
    "    @staticmethod\n",
    "    def get_config(): return SugarConfig()\n",
    "\n",
    "    def __str__(self):\n",
    "        return f\"web3_provoider_uri: {self.web3_provoider_uri}\\nlp_sugar_address: {self.lp_sugar_address}\\ntoken_address: {self.token_address}\\nprice_batch_size: {self.price_batch_size}\\nprotocol_name: {self.protocol_name}\\ngood_enough_pagination_limit: {self.good_enough_pagination_limit}\"\n",
    "    \n",
    "    def __repr__(self): return str(self)\n",
    "\n",
    "\n",
    "# # token we are converting from\n",
    "# TOKEN_ADDRESS = normalize_address(os.environ[\"TOKEN_ADDRESS\"])\n",
    "# # token we are converting to\n",
    "# STABLE_TOKEN_ADDRESS = os.environ[\"STABLE_TOKEN_ADDRESS\"]\n",
    "# # connector tokens for the pricing oracle\n",
    "# # see: https://github.com/velodrome-finance/oracle\n",
    "# CONNECTOR_TOKENS_ADDRESSES = list(\n",
    "#     map(\n",
    "#         lambda a: normalize_address(a),\n",
    "#         os.environ[\"CONNECTOR_TOKENS_ADDRESSES\"].split(\",\"),\n",
    "#     )\n",
    "# )\n",
    "# # how often ticker bots update\n",
    "# BOT_TICKER_INTERVAL_MINUTES = int(os.environ[\"BOT_TICKER_INTERVAL_MINUTES\"])\n",
    "# # caching time for sugar tokens calls\n",
    "# SUGAR_TOKENS_CACHE_MINUTES = int(os.environ[\"SUGAR_TOKENS_CACHE_MINUTES\"])\n",
    "# # caching time for sugar liquidity pools calls\n",
    "# SUGAR_LPS_CACHE_MINUTES = int(os.environ[\"SUGAR_LPS_CACHE_MINUTES\"])\n",
    "# # caching time for oracle price calls\n",
    "# ORACLE_PRICES_CACHE_MINUTES = int(os.environ[\"ORACLE_PRICES_CACHE_MINUTES\"])\n",
    "\n",
    "# # pagination limit for pools\n",
    "# POOL_PAGE_SIZE = 500\n",
    "\n",
    "# # image shown on discord embeds for pool stats\n",
    "# UI_POOL_STATS_THUMBNAIL = os.environ[\"UI_POOL_STATS_THUMBNAIL\"]"
   ]
  },
  {
   "cell_type": "code",
   "execution_count": null,
   "metadata": {},
   "outputs": [],
   "source": [
    "#| hide\n",
    "import nbdev; nbdev.nbdev_export()"
   ]
  }
 ],
 "metadata": {
  "kernelspec": {
   "display_name": "python3",
   "language": "python",
   "name": "python3"
  }
 },
 "nbformat": 4,
 "nbformat_minor": 2
}
