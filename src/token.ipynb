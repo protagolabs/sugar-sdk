{
 "cells": [
  {
   "cell_type": "markdown",
   "metadata": {},
   "source": [
    "# Token API"
   ]
  },
  {
   "cell_type": "code",
   "execution_count": null,
   "metadata": {},
   "outputs": [],
   "source": [
    "#| default_exp token"
   ]
  },
  {
   "cell_type": "code",
   "execution_count": null,
   "metadata": {},
   "outputs": [],
   "source": [
    "#| export\n",
    "\n",
    "from typing import Tuple\n",
    "from dataclasses import dataclass\n",
    "from sugar.helpers import normalize_address"
   ]
  },
  {
   "cell_type": "code",
   "execution_count": null,
   "metadata": {},
   "outputs": [],
   "source": [
    "#| hide\n",
    "from nbdev.showdoc import *"
   ]
  },
  {
   "cell_type": "code",
   "execution_count": null,
   "metadata": {},
   "outputs": [],
   "source": [
    "#| export\n",
    "\n",
    "@dataclass(frozen=True)\n",
    "class Token:\n",
    "    \"\"\"Data class for Token\n",
    "    based on: https://github.com/velodrome-finance/sugar/blob/v2/contracts/LpSugar.vy#L17\n",
    "    \"\"\"\n",
    "\n",
    "    token_address: str\n",
    "    symbol: str\n",
    "    decimals: int\n",
    "    listed: bool\n",
    "\n",
    "    def value_from_bigint(self, value: float) -> float:\n",
    "        return value / 10**self.decimals\n",
    "\n",
    "    @classmethod\n",
    "    def from_tuple(cls, t: Tuple) -> \"Token\":\n",
    "        (token_address, symbol, decimals, _, listed) = t\n",
    "        return Token(\n",
    "            token_address=normalize_address(token_address),\n",
    "            symbol=symbol,\n",
    "            decimals=decimals,\n",
    "            listed=listed,\n",
    "        )"
   ]
  },
  {
   "cell_type": "code",
   "execution_count": null,
   "metadata": {},
   "outputs": [],
   "source": [
    "#| hide\n",
    "import nbdev; nbdev.nbdev_export()"
   ]
  }
 ],
 "metadata": {
  "kernelspec": {
   "display_name": "python3",
   "language": "python",
   "name": "python3"
  }
 },
 "nbformat": 4,
 "nbformat_minor": 2
}
