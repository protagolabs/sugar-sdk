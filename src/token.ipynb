{
 "cells": [
  {
   "cell_type": "markdown",
   "metadata": {},
   "source": [
    "# Token API"
   ]
  },
  {
   "cell_type": "code",
   "execution_count": null,
   "metadata": {},
   "outputs": [],
   "source": [
    "#| default_exp token"
   ]
  },
  {
   "cell_type": "code",
   "execution_count": null,
   "metadata": {},
   "outputs": [],
   "source": [
    "#| export\n",
    "\n",
    "from typing import Tuple, List, Optional\n",
    "from dataclasses import dataclass\n",
    "from sugar.helpers import normalize_address, ADDRESS_ZERO\n",
    "from sugar.abi import lp_sugar\n",
    "from sugar.config import SugarConfig"
   ]
  },
  {
   "cell_type": "code",
   "execution_count": null,
   "metadata": {},
   "outputs": [
    {
     "data": {
      "text/plain": [
       "False"
      ]
     },
     "execution_count": null,
     "metadata": {},
     "output_type": "execute_result"
    }
   ],
   "source": [
    "#| hide\n",
    "from nbdev.showdoc import *\n",
    "\n",
    "\n",
    "# load env\n",
    "from dotenv import load_dotenv\n",
    "load_dotenv()"
   ]
  },
  {
   "cell_type": "code",
   "execution_count": null,
   "metadata": {},
   "outputs": [],
   "source": [
    "#| export\n",
    "\n",
    "@dataclass(frozen=True)\n",
    "class Token:\n",
    "    \"\"\"Data class for Token\n",
    "    based on: https://github.com/velodrome-finance/sugar/blob/v2/contracts/LpSugar.vy#L17\n",
    "    \"\"\"\n",
    "\n",
    "    token_address: str\n",
    "    symbol: str\n",
    "    decimals: int\n",
    "    listed: bool\n",
    "\n",
    "    def value_from_bigint(self, value: float) -> float:\n",
    "        return value / 10**self.decimals\n",
    "\n",
    "    @classmethod\n",
    "    def from_tuple(cls, t: Tuple) -> \"Token\":\n",
    "        (token_address, symbol, decimals, _, listed) = t\n",
    "        return Token(\n",
    "            token_address=normalize_address(token_address),\n",
    "            symbol=symbol,\n",
    "            decimals=decimals,\n",
    "            listed=listed,\n",
    "        )\n",
    "\n",
    "    @classmethod\n",
    "    #@cache_in_seconds(SUGAR_TOKENS_CACHE_MINUTES * 60)\n",
    "    async def get_all_listed_tokens(cls) -> List[\"Token\"]:\n",
    "        tokens = await cls.get_all_tokens()\n",
    "        return list(filter(lambda t: t.listed, tokens))\n",
    "\n",
    "    @classmethod\n",
    "    #@cache_in_seconds(SUGAR_TOKENS_CACHE_MINUTES * 60)\n",
    "    async def get_all_tokens(cls) -> List[\"Token\"]:\n",
    "        config = SugarConfig.get_config()\n",
    "        sugar = config.web3.eth.contract(address=config.sugar_contract_addr, abi=lp_sugar[config.protocol_name])\n",
    "        tokens = await sugar.functions.tokens(config.pagination_limit, 0, ADDRESS_ZERO, []).call()\n",
    "        return list(map(lambda t: Token.from_tuple(t), tokens))\n",
    "        \n",
    "\n",
    "    @classmethod\n",
    "    async def get_by_token_address(cls, token_address: str) -> Optional[\"Token\"]:\n",
    "        \"\"\"Get details for specific token\n",
    "\n",
    "        Args:\n",
    "            token_address (str): token address\n",
    "\n",
    "        Returns:\n",
    "            Token: target token or None\n",
    "        \"\"\"\n",
    "        try:\n",
    "            normalized_address = normalize_address(token_address)\n",
    "            tokens = await cls.get_all_listed_tokens()\n",
    "            return next(t for t in tokens if t.token_address == normalized_address)\n",
    "        except Exception:\n",
    "            return None"
   ]
  },
  {
   "cell_type": "markdown",
   "metadata": {},
   "source": [
    "## Tests"
   ]
  },
  {
   "cell_type": "code",
   "execution_count": null,
   "metadata": {},
   "outputs": [],
   "source": [
    "from fastcore.test import test_eq\n",
    "\n",
    "tokens = await Token.get_all_tokens()\n",
    "\n",
    "test_eq(len(tokens) > 0, True)"
   ]
  },
  {
   "cell_type": "code",
   "execution_count": null,
   "metadata": {},
   "outputs": [],
   "source": [
    "#| hide\n",
    "import nbdev; nbdev.nbdev_export()"
   ]
  }
 ],
 "metadata": {
  "kernelspec": {
   "display_name": "python3",
   "language": "python",
   "name": "python3"
  }
 },
 "nbformat": 4,
 "nbformat_minor": 2
}
