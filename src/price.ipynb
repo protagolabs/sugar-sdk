{
 "cells": [
  {
   "cell_type": "markdown",
   "metadata": {},
   "source": [
    "# Token price API"
   ]
  },
  {
   "cell_type": "code",
   "execution_count": null,
   "metadata": {},
   "outputs": [],
   "source": [
    "#| default_exp price"
   ]
  },
  {
   "cell_type": "code",
   "execution_count": null,
   "metadata": {},
   "outputs": [],
   "source": [
    "#| hide\n",
    "from nbdev.showdoc import *"
   ]
  },
  {
   "cell_type": "code",
   "execution_count": null,
   "metadata": {},
   "outputs": [],
   "source": [
    "#| export\n",
    "\n",
    "import functools, asyncio\n",
    "from dataclasses import dataclass\n",
    "from typing import Tuple, List\n",
    "from sugar.token import Token\n",
    "from sugar.config import SugarConfig\n",
    "from sugar.abi import price_oracle as price_oracle_abi\n",
    "from sugar.helpers import chunk"
   ]
  },
  {
   "cell_type": "code",
   "execution_count": null,
   "metadata": {},
   "outputs": [],
   "source": [
    "#| export\n",
    "\n",
    "@dataclass(frozen=True)\n",
    "class Price:\n",
    "    \"\"\"Data class for Token Price\n",
    "\n",
    "    based on:\n",
    "    https://github.com/velodrome-finance/oracle/blob/main/contracts/VeloOracle.sol\n",
    "    \"\"\"\n",
    "\n",
    "    token: Token\n",
    "    price: float\n",
    "\n",
    "    @property\n",
    "    def pretty_price(self) -> float: return round(self.price, 5)\n",
    "\n",
    "    @classmethod\n",
    "    # @cache_in_seconds(ORACLE_PRICES_CACHE_MINUTES * 60)\n",
    "    async def _get_prices(\n",
    "        cls, tokens: Tuple[Token], stable_token: str, connector_tokens: Tuple[str]\n",
    "    ):\n",
    "        config = SugarConfig.get_config()\n",
    "        price_oracle = config.web3.eth.contract(address=config.price_oracle_contract_addr, abi=price_oracle_abi)\n",
    "        prices = await price_oracle.functions.getManyRatesWithCustomConnectors(\n",
    "            list(map(lambda t: t.token_address, tokens)),\n",
    "            stable_token,\n",
    "            False, # use wrappers\n",
    "            connector_tokens,\n",
    "            10 # threshold_filer\n",
    "        ).call()\n",
    "\n",
    "        results = []\n",
    "\n",
    "        for cnt, price in enumerate(prices):\n",
    "            # 6 decimals for USDC\n",
    "            results.append(Price(token=tokens[cnt], price=price / 10**6))\n",
    "\n",
    "        return results\n",
    "\n",
    "    @classmethod\n",
    "    async def get_prices(\n",
    "        cls,\n",
    "        tokens: List[Token],\n",
    "        stable_token: str = SugarConfig.get_config().stable_token_addr,\n",
    "        connector_tokens: List[str] = SugarConfig.get_config().connector_tokens_addrs,\n",
    "    ) -> List[\"Price\"]:\n",
    "        \"\"\"Get prices for tokens in target stable token\n",
    "\n",
    "        Args:\n",
    "            tokens (List[Token]): tokens to get prices for\n",
    "            stable_token (str, optional): stable token to price in.\n",
    "            Defaults to STABLE_TOKEN_ADDRESS.\n",
    "            connector_tokens (List[str], optional): connector tokens to use for pricing.\n",
    "            Defaults to CONNECTOR_TOKENS_ADDRESSES.\n",
    "\n",
    "        Returns:\n",
    "            List: list of Price objects\n",
    "        \"\"\"\n",
    "        config = SugarConfig.get_config()\n",
    "        batches = await asyncio.gather(\n",
    "            *map(\n",
    "                lambda ts: cls._get_prices(\n",
    "                    # XX: lists are not cacheable, convert them to tuples so lru cache is happy\n",
    "                    tuple(ts),\n",
    "                    stable_token,\n",
    "                    tuple(connector_tokens),\n",
    "                ),\n",
    "                list(chunk(tokens, config.price_batch_size)),\n",
    "            )\n",
    "        )\n",
    "        return functools.reduce(lambda l1, l2: l1 + l2, batches, [])\n"
   ]
  },
  {
   "cell_type": "code",
   "execution_count": null,
   "metadata": {},
   "outputs": [],
   "source": [
    "#| hide\n",
    "import nbdev; nbdev.nbdev_export()"
   ]
  }
 ],
 "metadata": {
  "kernelspec": {
   "display_name": "python3",
   "language": "python",
   "name": "python3"
  }
 },
 "nbformat": 4,
 "nbformat_minor": 2
}
